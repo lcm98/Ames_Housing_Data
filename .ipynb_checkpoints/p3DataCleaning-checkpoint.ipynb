{
 "cells": [
  {
   "cell_type": "markdown",
   "metadata": {},
   "source": [
    "# Load Data"
   ]
  },
  {
   "cell_type": "markdown",
   "metadata": {},
   "source": [
    "### Imports"
   ]
  },
  {
   "cell_type": "code",
   "execution_count": 6,
   "metadata": {
    "collapsed": true
   },
   "outputs": [],
   "source": [
    "import numpy as np\n",
    "import pandas as pd\n",
    "import matplotlib.pyplot as plt\n",
    "import seaborn as sns\n",
    "from sklearn.model_selection import train_test_split\n",
    "%matplotlib inline"
   ]
  },
  {
   "cell_type": "code",
   "execution_count": 7,
   "metadata": {},
   "outputs": [
    {
     "data": {
      "text/html": [
       "<div>\n",
       "<style>\n",
       "    .dataframe thead tr:only-child th {\n",
       "        text-align: right;\n",
       "    }\n",
       "\n",
       "    .dataframe thead th {\n",
       "        text-align: left;\n",
       "    }\n",
       "\n",
       "    .dataframe tbody tr th {\n",
       "        vertical-align: top;\n",
       "    }\n",
       "</style>\n",
       "<table border=\"1\" class=\"dataframe\">\n",
       "  <thead>\n",
       "    <tr style=\"text-align: right;\">\n",
       "      <th></th>\n",
       "      <th>Id</th>\n",
       "      <th>PID</th>\n",
       "      <th>MS SubClass</th>\n",
       "      <th>MS Zoning</th>\n",
       "      <th>Lot Frontage</th>\n",
       "      <th>Lot Area</th>\n",
       "      <th>Street</th>\n",
       "      <th>Alley</th>\n",
       "      <th>Lot Shape</th>\n",
       "      <th>Land Contour</th>\n",
       "      <th>...</th>\n",
       "      <th>Pool Area</th>\n",
       "      <th>Pool QC</th>\n",
       "      <th>Fence</th>\n",
       "      <th>Misc Feature</th>\n",
       "      <th>Misc Val</th>\n",
       "      <th>Mo Sold</th>\n",
       "      <th>Yr Sold</th>\n",
       "      <th>Sale Type</th>\n",
       "      <th>Sale Condition</th>\n",
       "      <th>SalePrice</th>\n",
       "    </tr>\n",
       "  </thead>\n",
       "  <tbody>\n",
       "    <tr>\n",
       "      <th>0</th>\n",
       "      <td>109</td>\n",
       "      <td>533352170</td>\n",
       "      <td>60</td>\n",
       "      <td>RL</td>\n",
       "      <td>NaN</td>\n",
       "      <td>13517</td>\n",
       "      <td>Pave</td>\n",
       "      <td>NaN</td>\n",
       "      <td>IR1</td>\n",
       "      <td>Lvl</td>\n",
       "      <td>...</td>\n",
       "      <td>0</td>\n",
       "      <td>NaN</td>\n",
       "      <td>NaN</td>\n",
       "      <td>NaN</td>\n",
       "      <td>0</td>\n",
       "      <td>3</td>\n",
       "      <td>2010</td>\n",
       "      <td>WD</td>\n",
       "      <td>Normal</td>\n",
       "      <td>130500</td>\n",
       "    </tr>\n",
       "    <tr>\n",
       "      <th>1</th>\n",
       "      <td>544</td>\n",
       "      <td>531379050</td>\n",
       "      <td>60</td>\n",
       "      <td>RL</td>\n",
       "      <td>43.0</td>\n",
       "      <td>11492</td>\n",
       "      <td>Pave</td>\n",
       "      <td>NaN</td>\n",
       "      <td>IR1</td>\n",
       "      <td>Lvl</td>\n",
       "      <td>...</td>\n",
       "      <td>0</td>\n",
       "      <td>NaN</td>\n",
       "      <td>NaN</td>\n",
       "      <td>NaN</td>\n",
       "      <td>0</td>\n",
       "      <td>4</td>\n",
       "      <td>2009</td>\n",
       "      <td>WD</td>\n",
       "      <td>Normal</td>\n",
       "      <td>220000</td>\n",
       "    </tr>\n",
       "    <tr>\n",
       "      <th>2</th>\n",
       "      <td>153</td>\n",
       "      <td>535304180</td>\n",
       "      <td>20</td>\n",
       "      <td>RL</td>\n",
       "      <td>68.0</td>\n",
       "      <td>7922</td>\n",
       "      <td>Pave</td>\n",
       "      <td>NaN</td>\n",
       "      <td>Reg</td>\n",
       "      <td>Lvl</td>\n",
       "      <td>...</td>\n",
       "      <td>0</td>\n",
       "      <td>NaN</td>\n",
       "      <td>NaN</td>\n",
       "      <td>NaN</td>\n",
       "      <td>0</td>\n",
       "      <td>1</td>\n",
       "      <td>2010</td>\n",
       "      <td>WD</td>\n",
       "      <td>Abnorml</td>\n",
       "      <td>109000</td>\n",
       "    </tr>\n",
       "    <tr>\n",
       "      <th>3</th>\n",
       "      <td>318</td>\n",
       "      <td>916386060</td>\n",
       "      <td>60</td>\n",
       "      <td>RL</td>\n",
       "      <td>73.0</td>\n",
       "      <td>9802</td>\n",
       "      <td>Pave</td>\n",
       "      <td>NaN</td>\n",
       "      <td>Reg</td>\n",
       "      <td>Lvl</td>\n",
       "      <td>...</td>\n",
       "      <td>0</td>\n",
       "      <td>NaN</td>\n",
       "      <td>NaN</td>\n",
       "      <td>NaN</td>\n",
       "      <td>0</td>\n",
       "      <td>4</td>\n",
       "      <td>2010</td>\n",
       "      <td>WD</td>\n",
       "      <td>Normal</td>\n",
       "      <td>174000</td>\n",
       "    </tr>\n",
       "    <tr>\n",
       "      <th>4</th>\n",
       "      <td>255</td>\n",
       "      <td>906425045</td>\n",
       "      <td>50</td>\n",
       "      <td>RL</td>\n",
       "      <td>82.0</td>\n",
       "      <td>14235</td>\n",
       "      <td>Pave</td>\n",
       "      <td>NaN</td>\n",
       "      <td>IR1</td>\n",
       "      <td>Lvl</td>\n",
       "      <td>...</td>\n",
       "      <td>0</td>\n",
       "      <td>NaN</td>\n",
       "      <td>NaN</td>\n",
       "      <td>NaN</td>\n",
       "      <td>0</td>\n",
       "      <td>3</td>\n",
       "      <td>2010</td>\n",
       "      <td>WD</td>\n",
       "      <td>Normal</td>\n",
       "      <td>138500</td>\n",
       "    </tr>\n",
       "  </tbody>\n",
       "</table>\n",
       "<p>5 rows × 82 columns</p>\n",
       "</div>"
      ],
      "text/plain": [
       "    Id        PID  MS SubClass MS Zoning  Lot Frontage  Lot Area Street Alley  \\\n",
       "0  109  533352170           60        RL           NaN     13517   Pave   NaN   \n",
       "1  544  531379050           60        RL          43.0     11492   Pave   NaN   \n",
       "2  153  535304180           20        RL          68.0      7922   Pave   NaN   \n",
       "3  318  916386060           60        RL          73.0      9802   Pave   NaN   \n",
       "4  255  906425045           50        RL          82.0     14235   Pave   NaN   \n",
       "\n",
       "  Lot Shape Land Contour    ...     Pool Area Pool QC Fence Misc Feature  \\\n",
       "0       IR1          Lvl    ...             0     NaN   NaN          NaN   \n",
       "1       IR1          Lvl    ...             0     NaN   NaN          NaN   \n",
       "2       Reg          Lvl    ...             0     NaN   NaN          NaN   \n",
       "3       Reg          Lvl    ...             0     NaN   NaN          NaN   \n",
       "4       IR1          Lvl    ...             0     NaN   NaN          NaN   \n",
       "\n",
       "  Misc Val Mo Sold Yr Sold Sale Type  Sale Condition  SalePrice  \n",
       "0        0       3    2010       WD           Normal     130500  \n",
       "1        0       4    2009       WD           Normal     220000  \n",
       "2        0       1    2010       WD          Abnorml     109000  \n",
       "3        0       4    2010       WD           Normal     174000  \n",
       "4        0       3    2010       WD           Normal     138500  \n",
       "\n",
       "[5 rows x 82 columns]"
      ]
     },
     "execution_count": 7,
     "metadata": {},
     "output_type": "execute_result"
    }
   ],
   "source": [
    "df = pd.read_csv(\"datasets/train.csv\")\n",
    "df.head()"
   ]
  },
  {
   "cell_type": "code",
   "execution_count": 8,
   "metadata": {},
   "outputs": [
    {
     "data": {
      "text/plain": [
       "['Id',\n",
       " 'PID',\n",
       " 'MS SubClass',\n",
       " 'MS Zoning',\n",
       " 'Lot Frontage',\n",
       " 'Lot Area',\n",
       " 'Street',\n",
       " 'Alley',\n",
       " 'Lot Shape',\n",
       " 'Land Contour',\n",
       " 'Utilities',\n",
       " 'Lot Config',\n",
       " 'Land Slope',\n",
       " 'Neighborhood',\n",
       " 'Condition 1',\n",
       " 'Condition 2',\n",
       " 'Bldg Type',\n",
       " 'House Style',\n",
       " 'Overall Qual',\n",
       " 'Overall Cond',\n",
       " 'Year Built',\n",
       " 'Year Remod/Add',\n",
       " 'Roof Style',\n",
       " 'Roof Matl',\n",
       " 'Exterior 1st',\n",
       " 'Exterior 2nd',\n",
       " 'Mas Vnr Type',\n",
       " 'Mas Vnr Area',\n",
       " 'Exter Qual',\n",
       " 'Exter Cond',\n",
       " 'Foundation',\n",
       " 'Bsmt Qual',\n",
       " 'Bsmt Cond',\n",
       " 'Bsmt Exposure',\n",
       " 'BsmtFin Type 1',\n",
       " 'BsmtFin SF 1',\n",
       " 'BsmtFin Type 2',\n",
       " 'BsmtFin SF 2',\n",
       " 'Bsmt Unf SF',\n",
       " 'Total Bsmt SF',\n",
       " 'Heating',\n",
       " 'Heating QC',\n",
       " 'Central Air',\n",
       " 'Electrical',\n",
       " '1st Flr SF',\n",
       " '2nd Flr SF',\n",
       " 'Low Qual Fin SF',\n",
       " 'Gr Liv Area',\n",
       " 'Bsmt Full Bath',\n",
       " 'Bsmt Half Bath',\n",
       " 'Full Bath',\n",
       " 'Half Bath',\n",
       " 'Bedroom AbvGr',\n",
       " 'Kitchen AbvGr',\n",
       " 'Kitchen Qual',\n",
       " 'TotRms AbvGrd',\n",
       " 'Functional',\n",
       " 'Fireplaces',\n",
       " 'Fireplace Qu',\n",
       " 'Garage Type',\n",
       " 'Garage Yr Blt',\n",
       " 'Garage Finish',\n",
       " 'Garage Cars',\n",
       " 'Garage Area',\n",
       " 'Garage Qual',\n",
       " 'Garage Cond',\n",
       " 'Paved Drive',\n",
       " 'Wood Deck SF',\n",
       " 'Open Porch SF',\n",
       " 'Enclosed Porch',\n",
       " '3Ssn Porch',\n",
       " 'Screen Porch',\n",
       " 'Pool Area',\n",
       " 'Pool QC',\n",
       " 'Fence',\n",
       " 'Misc Feature',\n",
       " 'Misc Val',\n",
       " 'Mo Sold',\n",
       " 'Yr Sold',\n",
       " 'Sale Type',\n",
       " 'Sale Condition',\n",
       " 'SalePrice']"
      ]
     },
     "execution_count": 8,
     "metadata": {},
     "output_type": "execute_result"
    }
   ],
   "source": [
    "list(df.columns)"
   ]
  },
  {
   "cell_type": "code",
   "execution_count": 9,
   "metadata": {},
   "outputs": [
    {
     "data": {
      "text/html": [
       "<div>\n",
       "<style>\n",
       "    .dataframe thead tr:only-child th {\n",
       "        text-align: right;\n",
       "    }\n",
       "\n",
       "    .dataframe thead th {\n",
       "        text-align: left;\n",
       "    }\n",
       "\n",
       "    .dataframe tbody tr th {\n",
       "        vertical-align: top;\n",
       "    }\n",
       "</style>\n",
       "<table border=\"1\" class=\"dataframe\">\n",
       "  <thead>\n",
       "    <tr style=\"text-align: right;\">\n",
       "      <th></th>\n",
       "      <th>Id</th>\n",
       "      <th>PID</th>\n",
       "      <th>MS SubClass</th>\n",
       "      <th>MS Zoning</th>\n",
       "      <th>Lot Frontage</th>\n",
       "      <th>Lot Area</th>\n",
       "      <th>Street</th>\n",
       "      <th>Alley</th>\n",
       "      <th>Lot Shape</th>\n",
       "      <th>Land Contour</th>\n",
       "      <th>...</th>\n",
       "      <th>3Ssn Porch</th>\n",
       "      <th>Screen Porch</th>\n",
       "      <th>Pool Area</th>\n",
       "      <th>Pool QC</th>\n",
       "      <th>Fence</th>\n",
       "      <th>Misc Feature</th>\n",
       "      <th>Misc Val</th>\n",
       "      <th>Mo Sold</th>\n",
       "      <th>Yr Sold</th>\n",
       "      <th>Sale Type</th>\n",
       "    </tr>\n",
       "  </thead>\n",
       "  <tbody>\n",
       "    <tr>\n",
       "      <th>0</th>\n",
       "      <td>109</td>\n",
       "      <td>533352170</td>\n",
       "      <td>60</td>\n",
       "      <td>RL</td>\n",
       "      <td>NaN</td>\n",
       "      <td>13517</td>\n",
       "      <td>Pave</td>\n",
       "      <td>NaN</td>\n",
       "      <td>IR1</td>\n",
       "      <td>Lvl</td>\n",
       "      <td>...</td>\n",
       "      <td>0</td>\n",
       "      <td>0</td>\n",
       "      <td>0</td>\n",
       "      <td>NaN</td>\n",
       "      <td>NaN</td>\n",
       "      <td>NaN</td>\n",
       "      <td>0</td>\n",
       "      <td>3</td>\n",
       "      <td>2010</td>\n",
       "      <td>WD</td>\n",
       "    </tr>\n",
       "    <tr>\n",
       "      <th>1</th>\n",
       "      <td>544</td>\n",
       "      <td>531379050</td>\n",
       "      <td>60</td>\n",
       "      <td>RL</td>\n",
       "      <td>43.0</td>\n",
       "      <td>11492</td>\n",
       "      <td>Pave</td>\n",
       "      <td>NaN</td>\n",
       "      <td>IR1</td>\n",
       "      <td>Lvl</td>\n",
       "      <td>...</td>\n",
       "      <td>0</td>\n",
       "      <td>0</td>\n",
       "      <td>0</td>\n",
       "      <td>NaN</td>\n",
       "      <td>NaN</td>\n",
       "      <td>NaN</td>\n",
       "      <td>0</td>\n",
       "      <td>4</td>\n",
       "      <td>2009</td>\n",
       "      <td>WD</td>\n",
       "    </tr>\n",
       "    <tr>\n",
       "      <th>2</th>\n",
       "      <td>153</td>\n",
       "      <td>535304180</td>\n",
       "      <td>20</td>\n",
       "      <td>RL</td>\n",
       "      <td>68.0</td>\n",
       "      <td>7922</td>\n",
       "      <td>Pave</td>\n",
       "      <td>NaN</td>\n",
       "      <td>Reg</td>\n",
       "      <td>Lvl</td>\n",
       "      <td>...</td>\n",
       "      <td>0</td>\n",
       "      <td>0</td>\n",
       "      <td>0</td>\n",
       "      <td>NaN</td>\n",
       "      <td>NaN</td>\n",
       "      <td>NaN</td>\n",
       "      <td>0</td>\n",
       "      <td>1</td>\n",
       "      <td>2010</td>\n",
       "      <td>WD</td>\n",
       "    </tr>\n",
       "    <tr>\n",
       "      <th>3</th>\n",
       "      <td>318</td>\n",
       "      <td>916386060</td>\n",
       "      <td>60</td>\n",
       "      <td>RL</td>\n",
       "      <td>73.0</td>\n",
       "      <td>9802</td>\n",
       "      <td>Pave</td>\n",
       "      <td>NaN</td>\n",
       "      <td>Reg</td>\n",
       "      <td>Lvl</td>\n",
       "      <td>...</td>\n",
       "      <td>0</td>\n",
       "      <td>0</td>\n",
       "      <td>0</td>\n",
       "      <td>NaN</td>\n",
       "      <td>NaN</td>\n",
       "      <td>NaN</td>\n",
       "      <td>0</td>\n",
       "      <td>4</td>\n",
       "      <td>2010</td>\n",
       "      <td>WD</td>\n",
       "    </tr>\n",
       "    <tr>\n",
       "      <th>4</th>\n",
       "      <td>255</td>\n",
       "      <td>906425045</td>\n",
       "      <td>50</td>\n",
       "      <td>RL</td>\n",
       "      <td>82.0</td>\n",
       "      <td>14235</td>\n",
       "      <td>Pave</td>\n",
       "      <td>NaN</td>\n",
       "      <td>IR1</td>\n",
       "      <td>Lvl</td>\n",
       "      <td>...</td>\n",
       "      <td>0</td>\n",
       "      <td>0</td>\n",
       "      <td>0</td>\n",
       "      <td>NaN</td>\n",
       "      <td>NaN</td>\n",
       "      <td>NaN</td>\n",
       "      <td>0</td>\n",
       "      <td>3</td>\n",
       "      <td>2010</td>\n",
       "      <td>WD</td>\n",
       "    </tr>\n",
       "  </tbody>\n",
       "</table>\n",
       "<p>5 rows × 80 columns</p>\n",
       "</div>"
      ],
      "text/plain": [
       "    Id        PID  MS SubClass MS Zoning  Lot Frontage  Lot Area Street Alley  \\\n",
       "0  109  533352170           60        RL           NaN     13517   Pave   NaN   \n",
       "1  544  531379050           60        RL          43.0     11492   Pave   NaN   \n",
       "2  153  535304180           20        RL          68.0      7922   Pave   NaN   \n",
       "3  318  916386060           60        RL          73.0      9802   Pave   NaN   \n",
       "4  255  906425045           50        RL          82.0     14235   Pave   NaN   \n",
       "\n",
       "  Lot Shape Land Contour    ...     3Ssn Porch Screen Porch Pool Area Pool QC  \\\n",
       "0       IR1          Lvl    ...              0            0         0     NaN   \n",
       "1       IR1          Lvl    ...              0            0         0     NaN   \n",
       "2       Reg          Lvl    ...              0            0         0     NaN   \n",
       "3       Reg          Lvl    ...              0            0         0     NaN   \n",
       "4       IR1          Lvl    ...              0            0         0     NaN   \n",
       "\n",
       "  Fence Misc Feature Misc Val Mo Sold  Yr Sold  Sale Type  \n",
       "0   NaN          NaN        0       3     2010        WD   \n",
       "1   NaN          NaN        0       4     2009        WD   \n",
       "2   NaN          NaN        0       1     2010        WD   \n",
       "3   NaN          NaN        0       4     2010        WD   \n",
       "4   NaN          NaN        0       3     2010        WD   \n",
       "\n",
       "[5 rows x 80 columns]"
      ]
     },
     "execution_count": 9,
     "metadata": {},
     "output_type": "execute_result"
    }
   ],
   "source": [
    "X = df.drop(['Sale Condition', 'SalePrice'], axis=1)\n",
    "X.head()"
   ]
  },
  {
   "cell_type": "code",
   "execution_count": 10,
   "metadata": {},
   "outputs": [
    {
     "data": {
      "text/plain": [
       "(2051, 80)"
      ]
     },
     "execution_count": 10,
     "metadata": {},
     "output_type": "execute_result"
    }
   ],
   "source": [
    "X.shape"
   ]
  },
  {
   "cell_type": "code",
   "execution_count": 11,
   "metadata": {},
   "outputs": [
    {
     "data": {
      "text/plain": [
       "0"
      ]
     },
     "execution_count": 11,
     "metadata": {},
     "output_type": "execute_result"
    }
   ],
   "source": [
    "df.SalePrice.isnull().sum()"
   ]
  },
  {
   "cell_type": "code",
   "execution_count": 12,
   "metadata": {},
   "outputs": [
    {
     "data": {
      "text/plain": [
       "0"
      ]
     },
     "execution_count": 12,
     "metadata": {},
     "output_type": "execute_result"
    }
   ],
   "source": [
    "df['Sale Condition'].isnull().sum()"
   ]
  },
  {
   "cell_type": "code",
   "execution_count": 13,
   "metadata": {},
   "outputs": [
    {
     "name": "stdout",
     "output_type": "stream",
     "text": [
      "<class 'pandas.core.frame.DataFrame'>\n",
      "RangeIndex: 2051 entries, 0 to 2050\n",
      "Data columns (total 80 columns):\n",
      "Id                 2051 non-null int64\n",
      "PID                2051 non-null int64\n",
      "MS SubClass        2051 non-null int64\n",
      "MS Zoning          2051 non-null object\n",
      "Lot Frontage       1721 non-null float64\n",
      "Lot Area           2051 non-null int64\n",
      "Street             2051 non-null object\n",
      "Alley              140 non-null object\n",
      "Lot Shape          2051 non-null object\n",
      "Land Contour       2051 non-null object\n",
      "Utilities          2051 non-null object\n",
      "Lot Config         2051 non-null object\n",
      "Land Slope         2051 non-null object\n",
      "Neighborhood       2051 non-null object\n",
      "Condition 1        2051 non-null object\n",
      "Condition 2        2051 non-null object\n",
      "Bldg Type          2051 non-null object\n",
      "House Style        2051 non-null object\n",
      "Overall Qual       2051 non-null int64\n",
      "Overall Cond       2051 non-null int64\n",
      "Year Built         2051 non-null int64\n",
      "Year Remod/Add     2051 non-null int64\n",
      "Roof Style         2051 non-null object\n",
      "Roof Matl          2051 non-null object\n",
      "Exterior 1st       2051 non-null object\n",
      "Exterior 2nd       2051 non-null object\n",
      "Mas Vnr Type       2029 non-null object\n",
      "Mas Vnr Area       2029 non-null float64\n",
      "Exter Qual         2051 non-null object\n",
      "Exter Cond         2051 non-null object\n",
      "Foundation         2051 non-null object\n",
      "Bsmt Qual          1996 non-null object\n",
      "Bsmt Cond          1996 non-null object\n",
      "Bsmt Exposure      1993 non-null object\n",
      "BsmtFin Type 1     1996 non-null object\n",
      "BsmtFin SF 1       2050 non-null float64\n",
      "BsmtFin Type 2     1995 non-null object\n",
      "BsmtFin SF 2       2050 non-null float64\n",
      "Bsmt Unf SF        2050 non-null float64\n",
      "Total Bsmt SF      2050 non-null float64\n",
      "Heating            2051 non-null object\n",
      "Heating QC         2051 non-null object\n",
      "Central Air        2051 non-null object\n",
      "Electrical         2051 non-null object\n",
      "1st Flr SF         2051 non-null int64\n",
      "2nd Flr SF         2051 non-null int64\n",
      "Low Qual Fin SF    2051 non-null int64\n",
      "Gr Liv Area        2051 non-null int64\n",
      "Bsmt Full Bath     2049 non-null float64\n",
      "Bsmt Half Bath     2049 non-null float64\n",
      "Full Bath          2051 non-null int64\n",
      "Half Bath          2051 non-null int64\n",
      "Bedroom AbvGr      2051 non-null int64\n",
      "Kitchen AbvGr      2051 non-null int64\n",
      "Kitchen Qual       2051 non-null object\n",
      "TotRms AbvGrd      2051 non-null int64\n",
      "Functional         2051 non-null object\n",
      "Fireplaces         2051 non-null int64\n",
      "Fireplace Qu       1051 non-null object\n",
      "Garage Type        1938 non-null object\n",
      "Garage Yr Blt      1937 non-null float64\n",
      "Garage Finish      1937 non-null object\n",
      "Garage Cars        2050 non-null float64\n",
      "Garage Area        2050 non-null float64\n",
      "Garage Qual        1937 non-null object\n",
      "Garage Cond        1937 non-null object\n",
      "Paved Drive        2051 non-null object\n",
      "Wood Deck SF       2051 non-null int64\n",
      "Open Porch SF      2051 non-null int64\n",
      "Enclosed Porch     2051 non-null int64\n",
      "3Ssn Porch         2051 non-null int64\n",
      "Screen Porch       2051 non-null int64\n",
      "Pool Area          2051 non-null int64\n",
      "Pool QC            9 non-null object\n",
      "Fence              400 non-null object\n",
      "Misc Feature       65 non-null object\n",
      "Misc Val           2051 non-null int64\n",
      "Mo Sold            2051 non-null int64\n",
      "Yr Sold            2051 non-null int64\n",
      "Sale Type          2051 non-null object\n",
      "dtypes: float64(11), int64(27), object(42)\n",
      "memory usage: 1.3+ MB\n"
     ]
    }
   ],
   "source": [
    "X.info()"
   ]
  },
  {
   "cell_type": "code",
   "execution_count": 105,
   "metadata": {
    "scrolled": false
   },
   "outputs": [
    {
     "data": {
      "text/plain": [
       "array([ 330, 1911,   22,   22,   55,   55,   58,   55,    1,   56,    1,\n",
       "          1,    1,    2,    2, 1000,  113,  114,  114,    1,    1,  114,\n",
       "        114, 2042, 1651, 1986])"
      ]
     },
     "execution_count": 105,
     "metadata": {},
     "output_type": "execute_result"
    }
   ],
   "source": [
    "X.loc[:,X.isnull().sum() > 0].isnull().sum().values"
   ]
  },
  {
   "cell_type": "code",
   "execution_count": null,
   "metadata": {
    "collapsed": true
   },
   "outputs": [],
   "source": []
  },
  {
   "cell_type": "markdown",
   "metadata": {},
   "source": [
    "# Setting Up Columns\n",
    "\n",
    "I have determined there are several types of column types.\n",
    "\n",
    "1. Nominal Columns\n",
    "    * Categorical information, I will want to turn this into dummies.\n",
    "    \n",
    "2. Ordinal Columns\n",
    "    * Where the string is representatice of a ranking of some sort. Instead of dummies, I want to map these values to ints to represent how good they are.\n",
    "    * There are several types of rankings here, some can be grouped, others need to be treated uniquely.\n",
    "    \n",
    "3. Numeric\n",
    "    * These columns are good as is."
   ]
  },
  {
   "cell_type": "markdown",
   "metadata": {},
   "source": [
    "Additionaly, I want to ignore the columns Id, and PID because they are specific to each house and I don't want to learn from that.\n",
    "\n",
    "I will also not include the columns Alley, Fireplace Qu, Pool QC, Fence, and Misc Feature, because there are so many null values, I don't think they can be filled with any confidence in the method of filling, and therefore won't help."
   ]
  },
  {
   "cell_type": "markdown",
   "metadata": {},
   "source": [
    "### Set Up\n",
    "\n",
    "Here I initialize the lists I will use to organize columns as I go through them, the unique list will be a tuple of the column name and the dictionary I want to map the values to."
   ]
  },
  {
   "cell_type": "code",
   "execution_count": 15,
   "metadata": {
    "collapsed": true
   },
   "outputs": [],
   "source": [
    "nominal_cols = [] #for object columns with labels\n",
    "ord_cols_qual = [] #for objects where the string is a quality ranking\n",
    "ord_cols_type = [] #for objects where the string is a quality ranking\n",
    "ord_cols_unique = [] #for objects where the string is a unique ranking"
   ]
  },
  {
   "cell_type": "markdown",
   "metadata": {},
   "source": [
    "### MS SubClass"
   ]
  },
  {
   "cell_type": "code",
   "execution_count": 16,
   "metadata": {},
   "outputs": [
    {
     "name": "stdout",
     "output_type": "stream",
     "text": [
      "20     770\n",
      "60     394\n",
      "50     198\n",
      "120    132\n",
      "30     101\n",
      "70      90\n",
      "160     88\n",
      "80      86\n",
      "90      75\n",
      "190     46\n",
      "85      28\n",
      "75      16\n",
      "45      11\n",
      "180     11\n",
      "40       4\n",
      "150      1\n",
      "Name: MS SubClass, dtype: int64\n"
     ]
    }
   ],
   "source": [
    "print(X['MS SubClass'].value_counts())\n",
    "#nominal_cols.append('MS SubClass')"
   ]
  },
  {
   "cell_type": "markdown",
   "metadata": {},
   "source": [
    "### MS Zoning"
   ]
  },
  {
   "cell_type": "code",
   "execution_count": 17,
   "metadata": {
    "scrolled": true
   },
   "outputs": [
    {
     "name": "stdout",
     "output_type": "stream",
     "text": [
      "RL         1598\n",
      "RM          316\n",
      "FV          101\n",
      "C (all)      19\n",
      "RH           14\n",
      "A (agr)       2\n",
      "I (all)       1\n",
      "Name: MS Zoning, dtype: int64\n"
     ]
    }
   ],
   "source": [
    "print(X['MS Zoning'].value_counts())\n",
    "nominal_cols.append('MS Zoning')"
   ]
  },
  {
   "cell_type": "markdown",
   "metadata": {},
   "source": [
    "### Lot Frontage"
   ]
  },
  {
   "cell_type": "code",
   "execution_count": 18,
   "metadata": {},
   "outputs": [
    {
     "data": {
      "text/plain": [
       "330"
      ]
     },
     "execution_count": 18,
     "metadata": {},
     "output_type": "execute_result"
    }
   ],
   "source": [
    "#null = 0\n",
    "X['Lot Frontage'].isnull().sum()"
   ]
  },
  {
   "cell_type": "markdown",
   "metadata": {},
   "source": [
    "### Street"
   ]
  },
  {
   "cell_type": "code",
   "execution_count": 19,
   "metadata": {},
   "outputs": [
    {
     "name": "stdout",
     "output_type": "stream",
     "text": [
      "Pave    2044\n",
      "Grvl       7\n",
      "Name: Street, dtype: int64\n"
     ]
    }
   ],
   "source": [
    "#1 col dummy\n",
    "print(X['Street'].value_counts())\n",
    "nominal_cols.append('Street')"
   ]
  },
  {
   "cell_type": "markdown",
   "metadata": {},
   "source": [
    "### Alley"
   ]
  },
  {
   "cell_type": "code",
   "execution_count": 20,
   "metadata": {
    "collapsed": true
   },
   "outputs": [],
   "source": [
    "# Drop it\n",
    "#print(X['Alley'].value_counts())\n",
    "#nominal_cols.append('Alley')"
   ]
  },
  {
   "cell_type": "markdown",
   "metadata": {},
   "source": [
    "### Lot Shape"
   ]
  },
  {
   "cell_type": "code",
   "execution_count": 21,
   "metadata": {},
   "outputs": [
    {
     "data": {
      "text/plain": [
       "Reg    1295\n",
       "IR1     692\n",
       "IR2      55\n",
       "IR3       9\n",
       "Name: Lot Shape, dtype: int64"
      ]
     },
     "execution_count": 21,
     "metadata": {},
     "output_type": "execute_result"
    }
   ],
   "source": [
    "# dummies\n",
    "X['Lot Shape'].value_counts()"
   ]
  },
  {
   "cell_type": "code",
   "execution_count": 22,
   "metadata": {},
   "outputs": [
    {
     "data": {
      "text/plain": [
       "3    1295\n",
       "2     692\n",
       "1      55\n",
       "0       9\n",
       "Name: Lot Shape, dtype: int64"
      ]
     },
     "execution_count": 22,
     "metadata": {},
     "output_type": "execute_result"
    }
   ],
   "source": [
    "X['Lot Shape'].map({'IR3': 0, 'IR2': 1, 'IR1':2,'Reg':3}).value_counts()"
   ]
  },
  {
   "cell_type": "code",
   "execution_count": 23,
   "metadata": {
    "collapsed": true
   },
   "outputs": [],
   "source": [
    "ord_cols_unique.append(('Lot Shape', {'IR3': 0, 'IR2': 1, 'IR1':2,'Reg':3}))"
   ]
  },
  {
   "cell_type": "markdown",
   "metadata": {},
   "source": [
    "### Land Contour"
   ]
  },
  {
   "cell_type": "code",
   "execution_count": 24,
   "metadata": {},
   "outputs": [
    {
     "name": "stdout",
     "output_type": "stream",
     "text": [
      "Lvl    1843\n",
      "HLS      85\n",
      "Bnk      80\n",
      "Low      43\n",
      "Name: Land Contour, dtype: int64\n"
     ]
    }
   ],
   "source": [
    "#dummies\n",
    "print(X['Land Contour'].value_counts())\n",
    "nominal_cols.append('Land Contour')"
   ]
  },
  {
   "cell_type": "markdown",
   "metadata": {},
   "source": [
    "### Utilities"
   ]
  },
  {
   "cell_type": "code",
   "execution_count": 25,
   "metadata": {},
   "outputs": [
    {
     "data": {
      "text/plain": [
       "AllPub    2049\n",
       "NoSewr       1\n",
       "NoSeWa       1\n",
       "Name: Utilities, dtype: int64"
      ]
     },
     "execution_count": 25,
     "metadata": {},
     "output_type": "execute_result"
    }
   ],
   "source": [
    "#also has ELO\n",
    "#dummies\n",
    "X['Utilities'].value_counts()"
   ]
  },
  {
   "cell_type": "code",
   "execution_count": 26,
   "metadata": {},
   "outputs": [
    {
     "data": {
      "text/plain": [
       "3    2049\n",
       "1       1\n",
       "2       1\n",
       "Name: Utilities, dtype: int64"
      ]
     },
     "execution_count": 26,
     "metadata": {},
     "output_type": "execute_result"
    }
   ],
   "source": [
    "X['Utilities'].map({'ELO':0,'NoSeWa':1,'NoSewr':2,'AllPub':3}).value_counts()"
   ]
  },
  {
   "cell_type": "code",
   "execution_count": 27,
   "metadata": {
    "collapsed": true
   },
   "outputs": [],
   "source": [
    "ord_cols_unique.append(('Utilities', {'ELO':0,'NoSeWa':1,'NoSewr':2,'AllPub':3}))"
   ]
  },
  {
   "cell_type": "markdown",
   "metadata": {},
   "source": [
    "### Lot Config"
   ]
  },
  {
   "cell_type": "code",
   "execution_count": 28,
   "metadata": {},
   "outputs": [
    {
     "name": "stdout",
     "output_type": "stream",
     "text": [
      "Inside     1503\n",
      "Corner      348\n",
      "CulDSac     131\n",
      "FR2          60\n",
      "FR3           9\n",
      "Name: Lot Config, dtype: int64\n"
     ]
    }
   ],
   "source": [
    "#dummies\n",
    "print(X['Lot Config'].value_counts())\n",
    "nominal_cols.append('Lot Config')"
   ]
  },
  {
   "cell_type": "markdown",
   "metadata": {},
   "source": [
    "### Land Slope"
   ]
  },
  {
   "cell_type": "code",
   "execution_count": 29,
   "metadata": {},
   "outputs": [
    {
     "data": {
      "text/plain": [
       "Gtl    1953\n",
       "Mod      88\n",
       "Sev      10\n",
       "Name: Land Slope, dtype: int64"
      ]
     },
     "execution_count": 29,
     "metadata": {},
     "output_type": "execute_result"
    }
   ],
   "source": [
    "#dummies\n",
    "X['Land Slope'].value_counts()"
   ]
  },
  {
   "cell_type": "code",
   "execution_count": 30,
   "metadata": {},
   "outputs": [
    {
     "data": {
      "text/plain": [
       "2    1953\n",
       "1      88\n",
       "0      10\n",
       "Name: Land Slope, dtype: int64"
      ]
     },
     "execution_count": 30,
     "metadata": {},
     "output_type": "execute_result"
    }
   ],
   "source": [
    "X['Land Slope'].map({'Sev':0,'Mod':1,'Gtl':2}).value_counts()"
   ]
  },
  {
   "cell_type": "code",
   "execution_count": 31,
   "metadata": {
    "collapsed": true
   },
   "outputs": [],
   "source": [
    "ord_cols_unique.append(('Land Slope', {'Sev':0,'Mod':1,'Gtl':2}))"
   ]
  },
  {
   "cell_type": "markdown",
   "metadata": {},
   "source": [
    "### Neighborhood"
   ]
  },
  {
   "cell_type": "code",
   "execution_count": 32,
   "metadata": {},
   "outputs": [
    {
     "name": "stdout",
     "output_type": "stream",
     "text": [
      "NAmes      310\n",
      "CollgCr    180\n",
      "OldTown    163\n",
      "Edwards    143\n",
      "Somerst    130\n",
      "NridgHt    122\n",
      "Gilbert    116\n",
      "Sawyer     111\n",
      "SawyerW     87\n",
      "NWAmes      87\n",
      "Mitchel     82\n",
      "BrkSide     76\n",
      "Crawfor     71\n",
      "IDOTRR      69\n",
      "NoRidge     48\n",
      "Timber      48\n",
      "StoneBr     38\n",
      "SWISU       32\n",
      "ClearCr     27\n",
      "MeadowV     24\n",
      "Blmngtn     22\n",
      "BrDale      19\n",
      "NPkVill     17\n",
      "Veenker     17\n",
      "Blueste      6\n",
      "Greens       3\n",
      "GrnHill      2\n",
      "Landmrk      1\n",
      "Name: Neighborhood, dtype: int64\n"
     ]
    }
   ],
   "source": [
    "#for later\n",
    "print(X['Neighborhood'].value_counts())\n",
    "nominal_cols.append('Neighborhood')"
   ]
  },
  {
   "cell_type": "markdown",
   "metadata": {},
   "source": [
    "### Condition 1"
   ]
  },
  {
   "cell_type": "code",
   "execution_count": 33,
   "metadata": {},
   "outputs": [
    {
     "name": "stdout",
     "output_type": "stream",
     "text": [
      "Norm      1767\n",
      "Feedr      109\n",
      "Artery      70\n",
      "RRAn        36\n",
      "PosN        27\n",
      "RRAe        21\n",
      "PosA        12\n",
      "RRNn         6\n",
      "RRNe         3\n",
      "Name: Condition 1, dtype: int64\n"
     ]
    }
   ],
   "source": [
    "#dummies\n",
    "print(X['Condition 1'].value_counts())\n",
    "nominal_cols.append('Condition 1')"
   ]
  },
  {
   "cell_type": "markdown",
   "metadata": {},
   "source": [
    "### Condition 2"
   ]
  },
  {
   "cell_type": "code",
   "execution_count": 34,
   "metadata": {},
   "outputs": [
    {
     "name": "stdout",
     "output_type": "stream",
     "text": [
      "Norm      2025\n",
      "Feedr       11\n",
      "Artery       5\n",
      "PosA         3\n",
      "PosN         3\n",
      "RRNn         2\n",
      "RRAe         1\n",
      "RRAn         1\n",
      "Name: Condition 2, dtype: int64\n"
     ]
    }
   ],
   "source": [
    "#dummies\n",
    "print(X['Condition 2'].value_counts())\n",
    "nominal_cols.append('Condition 2')"
   ]
  },
  {
   "cell_type": "markdown",
   "metadata": {},
   "source": [
    "### Bldg Type"
   ]
  },
  {
   "cell_type": "code",
   "execution_count": 35,
   "metadata": {},
   "outputs": [
    {
     "name": "stdout",
     "output_type": "stream",
     "text": [
      "1Fam      1700\n",
      "TwnhsE     161\n",
      "Duplex      75\n",
      "Twnhs       69\n",
      "2fmCon      46\n",
      "Name: Bldg Type, dtype: int64\n"
     ]
    }
   ],
   "source": [
    "#dummies\n",
    "print(X['Bldg Type'].value_counts())\n",
    "nominal_cols.append('Bldg Type')"
   ]
  },
  {
   "cell_type": "markdown",
   "metadata": {},
   "source": [
    "### House Style"
   ]
  },
  {
   "cell_type": "code",
   "execution_count": 36,
   "metadata": {},
   "outputs": [
    {
     "name": "stdout",
     "output_type": "stream",
     "text": [
      "1Story    1059\n",
      "2Story     598\n",
      "1.5Fin     218\n",
      "SLvl        94\n",
      "SFoyer      50\n",
      "2.5Unf      14\n",
      "1.5Unf      12\n",
      "2.5Fin       6\n",
      "Name: House Style, dtype: int64\n"
     ]
    }
   ],
   "source": [
    "#dummies\n",
    "print(X['House Style'].value_counts())\n",
    "nominal_cols.append('House Style')"
   ]
  },
  {
   "cell_type": "markdown",
   "metadata": {},
   "source": [
    "### Roof Style"
   ]
  },
  {
   "cell_type": "code",
   "execution_count": 37,
   "metadata": {},
   "outputs": [
    {
     "name": "stdout",
     "output_type": "stream",
     "text": [
      "Gable      1619\n",
      "Hip         397\n",
      "Flat         13\n",
      "Gambrel      12\n",
      "Mansard       7\n",
      "Shed          3\n",
      "Name: Roof Style, dtype: int64\n"
     ]
    }
   ],
   "source": [
    "#dummies\n",
    "print(X['Roof Style'].value_counts())\n",
    "nominal_cols.append('Roof Style')"
   ]
  },
  {
   "cell_type": "markdown",
   "metadata": {},
   "source": [
    "### Roof Matl"
   ]
  },
  {
   "cell_type": "code",
   "execution_count": 38,
   "metadata": {},
   "outputs": [
    {
     "name": "stdout",
     "output_type": "stream",
     "text": [
      "CompShg    2025\n",
      "Tar&Grv      15\n",
      "WdShngl       5\n",
      "WdShake       4\n",
      "Membran       1\n",
      "ClyTile       1\n",
      "Name: Roof Matl, dtype: int64\n"
     ]
    }
   ],
   "source": [
    "#dummies\n",
    "print(X['Roof Matl'].value_counts())\n",
    "nominal_cols.append('Roof Matl')"
   ]
  },
  {
   "cell_type": "markdown",
   "metadata": {},
   "source": [
    "### Exterior 1st"
   ]
  },
  {
   "cell_type": "code",
   "execution_count": 39,
   "metadata": {},
   "outputs": [
    {
     "name": "stdout",
     "output_type": "stream",
     "text": [
      "VinylSd    724\n",
      "MetalSd    331\n",
      "HdBoard    300\n",
      "Wd Sdng    276\n",
      "Plywood    152\n",
      "CemntBd     90\n",
      "BrkFace     64\n",
      "WdShing     45\n",
      "AsbShng     33\n",
      "Stucco      27\n",
      "BrkComm      3\n",
      "CBlock       2\n",
      "Stone        2\n",
      "AsphShn      1\n",
      "ImStucc      1\n",
      "Name: Exterior 1st, dtype: int64\n"
     ]
    }
   ],
   "source": [
    "#dummies\n",
    "print(X['Exterior 1st'].value_counts())\n",
    "nominal_cols.append('Exterior 1st')"
   ]
  },
  {
   "cell_type": "markdown",
   "metadata": {},
   "source": [
    "### Exterior 2nd"
   ]
  },
  {
   "cell_type": "code",
   "execution_count": 40,
   "metadata": {},
   "outputs": [
    {
     "name": "stdout",
     "output_type": "stream",
     "text": [
      "VinylSd    721\n",
      "MetalSd    324\n",
      "HdBoard    275\n",
      "Wd Sdng    262\n",
      "Plywood    185\n",
      "CmentBd     90\n",
      "Wd Shng     63\n",
      "BrkFace     34\n",
      "Stucco      30\n",
      "AsbShng     28\n",
      "Brk Cmn     17\n",
      "ImStucc     11\n",
      "Stone        6\n",
      "AsphShn      3\n",
      "CBlock       2\n",
      "Name: Exterior 2nd, dtype: int64\n"
     ]
    }
   ],
   "source": [
    "#dummies\n",
    "print(X['Exterior 2nd'].value_counts())\n",
    "nominal_cols.append('Exterior 2nd')"
   ]
  },
  {
   "cell_type": "markdown",
   "metadata": {},
   "source": [
    "### Mas Vnr Type"
   ]
  },
  {
   "cell_type": "code",
   "execution_count": 41,
   "metadata": {},
   "outputs": [
    {
     "name": "stdout",
     "output_type": "stream",
     "text": [
      "None       1218\n",
      "BrkFace     630\n",
      "Stone       168\n",
      "BrkCmn       13\n",
      "Name: Mas Vnr Type, dtype: int64\n"
     ]
    }
   ],
   "source": [
    "#dummies\n",
    "print(X['Mas Vnr Type'].value_counts())\n",
    "nominal_cols.append('Mas Vnr Type')"
   ]
  },
  {
   "cell_type": "markdown",
   "metadata": {},
   "source": [
    "### Exter Qual"
   ]
  },
  {
   "cell_type": "code",
   "execution_count": 42,
   "metadata": {},
   "outputs": [
    {
     "name": "stdout",
     "output_type": "stream",
     "text": [
      "TA    1247\n",
      "Gd     697\n",
      "Ex      81\n",
      "Fa      26\n",
      "Name: Exter Qual, dtype: int64\n"
     ]
    }
   ],
   "source": [
    "print(X['Exter Qual'].value_counts())\n",
    "ord_cols_qual.append('Exter Qual')"
   ]
  },
  {
   "cell_type": "markdown",
   "metadata": {},
   "source": [
    "### Exter Cond"
   ]
  },
  {
   "cell_type": "code",
   "execution_count": 43,
   "metadata": {},
   "outputs": [
    {
     "name": "stdout",
     "output_type": "stream",
     "text": [
      "TA    1778\n",
      "Gd     215\n",
      "Fa      49\n",
      "Ex       7\n",
      "Po       2\n",
      "Name: Exter Cond, dtype: int64\n"
     ]
    }
   ],
   "source": [
    "print(X['Exter Cond'].value_counts())\n",
    "ord_cols_qual.append('Exter Cond')"
   ]
  },
  {
   "cell_type": "markdown",
   "metadata": {},
   "source": [
    "### Foundation"
   ]
  },
  {
   "cell_type": "code",
   "execution_count": 44,
   "metadata": {},
   "outputs": [
    {
     "name": "stdout",
     "output_type": "stream",
     "text": [
      "PConc     926\n",
      "CBlock    863\n",
      "BrkTil    221\n",
      "Slab       34\n",
      "Stone       5\n",
      "Wood        2\n",
      "Name: Foundation, dtype: int64\n"
     ]
    }
   ],
   "source": [
    "#dummies\n",
    "print(X['Foundation'].value_counts())\n",
    "nominal_cols.append('Foundation')"
   ]
  },
  {
   "cell_type": "markdown",
   "metadata": {},
   "source": [
    "### Bsmt Qual"
   ]
  },
  {
   "cell_type": "code",
   "execution_count": 45,
   "metadata": {},
   "outputs": [
    {
     "name": "stdout",
     "output_type": "stream",
     "text": [
      "TA    887\n",
      "Gd    864\n",
      "Ex    184\n",
      "Fa     60\n",
      "Po      1\n",
      "Name: Bsmt Qual, dtype: int64\n"
     ]
    }
   ],
   "source": [
    "#maybe convert to middle of range? otherwise dumbos\n",
    "print(X['Bsmt Qual'].value_counts())\n",
    "ord_cols_qual.append('Bsmt Qual')"
   ]
  },
  {
   "cell_type": "markdown",
   "metadata": {},
   "source": [
    "### Bsmt Cond"
   ]
  },
  {
   "cell_type": "code",
   "execution_count": 46,
   "metadata": {},
   "outputs": [
    {
     "name": "stdout",
     "output_type": "stream",
     "text": [
      "TA    1834\n",
      "Gd      89\n",
      "Fa      65\n",
      "Po       5\n",
      "Ex       3\n",
      "Name: Bsmt Cond, dtype: int64\n"
     ]
    }
   ],
   "source": [
    "#dummies\n",
    "print(X['Bsmt Cond'].value_counts())\n",
    "ord_cols_qual.append('Bsmt Cond')"
   ]
  },
  {
   "cell_type": "markdown",
   "metadata": {},
   "source": [
    "### Bsmt Exposure"
   ]
  },
  {
   "cell_type": "code",
   "execution_count": 47,
   "metadata": {},
   "outputs": [
    {
     "name": "stdout",
     "output_type": "stream",
     "text": [
      "No    1339\n",
      "Av     288\n",
      "Gd     203\n",
      "Mn     163\n",
      "Name: Bsmt Exposure, dtype: int64\n"
     ]
    }
   ],
   "source": [
    "#dumbo the clown\n",
    "print(X['Bsmt Exposure'].value_counts())"
   ]
  },
  {
   "cell_type": "code",
   "execution_count": 48,
   "metadata": {},
   "outputs": [
    {
     "data": {
      "text/plain": [
       "1.0    1339\n",
       "3.0     288\n",
       "4.0     203\n",
       "2.0     163\n",
       "Name: Bsmt Exposure, dtype: int64"
      ]
     },
     "execution_count": 48,
     "metadata": {},
     "output_type": "execute_result"
    }
   ],
   "source": [
    "X['Bsmt Exposure'].map({'NA':0,'No':1,'Mn':2,'Av':3,'Gd':4}).value_counts()"
   ]
  },
  {
   "cell_type": "code",
   "execution_count": 49,
   "metadata": {
    "collapsed": true
   },
   "outputs": [],
   "source": [
    "ord_cols_unique.append(('Bsmt Exposure', {'NA':0,'No':1,'Mn':2,'Av':3,'Gd':4}))"
   ]
  },
  {
   "cell_type": "markdown",
   "metadata": {},
   "source": [
    "### BsmtFin Type 1"
   ]
  },
  {
   "cell_type": "code",
   "execution_count": 50,
   "metadata": {},
   "outputs": [
    {
     "name": "stdout",
     "output_type": "stream",
     "text": [
      "GLQ    615\n",
      "Unf    603\n",
      "ALQ    293\n",
      "BLQ    200\n",
      "Rec    183\n",
      "LwQ    102\n",
      "Name: BsmtFin Type 1, dtype: int64\n"
     ]
    }
   ],
   "source": [
    "print(X['BsmtFin Type 1'].value_counts())\n",
    "ord_cols_type.append('BsmtFin Type 1')"
   ]
  },
  {
   "cell_type": "markdown",
   "metadata": {},
   "source": [
    "### BsmtFin Type 2"
   ]
  },
  {
   "cell_type": "code",
   "execution_count": 51,
   "metadata": {},
   "outputs": [
    {
     "name": "stdout",
     "output_type": "stream",
     "text": [
      "Unf    1749\n",
      "Rec      80\n",
      "LwQ      60\n",
      "BLQ      48\n",
      "ALQ      35\n",
      "GLQ      23\n",
      "Name: BsmtFin Type 2, dtype: int64\n"
     ]
    }
   ],
   "source": [
    "print(X['BsmtFin Type 2'].value_counts())\n",
    "ord_cols_type.append('BsmtFin Type 2')"
   ]
  },
  {
   "cell_type": "markdown",
   "metadata": {},
   "source": [
    "### Heating"
   ]
  },
  {
   "cell_type": "code",
   "execution_count": 52,
   "metadata": {},
   "outputs": [
    {
     "name": "stdout",
     "output_type": "stream",
     "text": [
      "GasA    2018\n",
      "GasW      20\n",
      "Wall       6\n",
      "Grav       5\n",
      "OthW       2\n",
      "Name: Heating, dtype: int64\n"
     ]
    }
   ],
   "source": [
    "#dummies\n",
    "print(X['Heating'].value_counts())\n",
    "nominal_cols.append('Heating')"
   ]
  },
  {
   "cell_type": "markdown",
   "metadata": {},
   "source": [
    "### Heating QC"
   ]
  },
  {
   "cell_type": "code",
   "execution_count": 53,
   "metadata": {},
   "outputs": [
    {
     "name": "stdout",
     "output_type": "stream",
     "text": [
      "Ex    1065\n",
      "TA     597\n",
      "Gd     319\n",
      "Fa      67\n",
      "Po       3\n",
      "Name: Heating QC, dtype: int64\n"
     ]
    }
   ],
   "source": [
    "print(X['Heating QC'].value_counts())\n",
    "ord_cols_qual.append('Heating QC')"
   ]
  },
  {
   "cell_type": "markdown",
   "metadata": {},
   "source": [
    "### Central Air"
   ]
  },
  {
   "cell_type": "code",
   "execution_count": 54,
   "metadata": {},
   "outputs": [
    {
     "data": {
      "text/plain": [
       "Y    1910\n",
       "N     141\n",
       "Name: Central Air, dtype: int64"
      ]
     },
     "execution_count": 54,
     "metadata": {},
     "output_type": "execute_result"
    }
   ],
   "source": [
    "X['Central Air'].value_counts()"
   ]
  },
  {
   "cell_type": "code",
   "execution_count": 55,
   "metadata": {},
   "outputs": [
    {
     "data": {
      "text/plain": [
       "1    1910\n",
       "0     141\n",
       "Name: Central Air, dtype: int64"
      ]
     },
     "execution_count": 55,
     "metadata": {},
     "output_type": "execute_result"
    }
   ],
   "source": [
    "X['Central Air'].map({'N':0,'Y':1}).value_counts()"
   ]
  },
  {
   "cell_type": "code",
   "execution_count": 56,
   "metadata": {
    "collapsed": true
   },
   "outputs": [],
   "source": [
    "ord_cols_unique.append(('Central Air', {'N':0,'Y':1}))"
   ]
  },
  {
   "cell_type": "markdown",
   "metadata": {},
   "source": [
    "### Electrical"
   ]
  },
  {
   "cell_type": "code",
   "execution_count": 57,
   "metadata": {},
   "outputs": [
    {
     "data": {
      "text/plain": [
       "SBrkr    1868\n",
       "FuseA     140\n",
       "FuseF      35\n",
       "FuseP       7\n",
       "Mix         1\n",
       "Name: Electrical, dtype: int64"
      ]
     },
     "execution_count": 57,
     "metadata": {},
     "output_type": "execute_result"
    }
   ],
   "source": [
    "X['Electrical'].value_counts()"
   ]
  },
  {
   "cell_type": "code",
   "execution_count": 58,
   "metadata": {},
   "outputs": [
    {
     "data": {
      "text/plain": [
       "4    1868\n",
       "3     140\n",
       "2      35\n",
       "1       7\n",
       "0       1\n",
       "Name: Electrical, dtype: int64"
      ]
     },
     "execution_count": 58,
     "metadata": {},
     "output_type": "execute_result"
    }
   ],
   "source": [
    "X['Electrical'].map({'Mix':0,'FuseP':1,'FuseF':2,'FuseA':3,'SBrkr':4}).value_counts()"
   ]
  },
  {
   "cell_type": "code",
   "execution_count": 59,
   "metadata": {
    "collapsed": true
   },
   "outputs": [],
   "source": [
    "ord_cols_unique.append(('Electrical', {'Mix':0,'FuseP':1,'FuseF':2,'FuseA':3,'SBrkr':4}))"
   ]
  },
  {
   "cell_type": "markdown",
   "metadata": {},
   "source": [
    "### Kitchen Qual"
   ]
  },
  {
   "cell_type": "code",
   "execution_count": 60,
   "metadata": {},
   "outputs": [
    {
     "name": "stdout",
     "output_type": "stream",
     "text": [
      "TA    1047\n",
      "Gd     806\n",
      "Ex     151\n",
      "Fa      47\n",
      "Name: Kitchen Qual, dtype: int64\n"
     ]
    }
   ],
   "source": [
    "print(X['Kitchen Qual'].value_counts())\n",
    "ord_cols_qual.append('Kitchen Qual')"
   ]
  },
  {
   "cell_type": "markdown",
   "metadata": {},
   "source": [
    "### Functional"
   ]
  },
  {
   "cell_type": "code",
   "execution_count": 61,
   "metadata": {},
   "outputs": [
    {
     "data": {
      "text/plain": [
       "Typ     1915\n",
       "Min1      42\n",
       "Min2      42\n",
       "Mod       29\n",
       "Maj1      12\n",
       "Maj2       7\n",
       "Sev        2\n",
       "Sal        2\n",
       "Name: Functional, dtype: int64"
      ]
     },
     "execution_count": 61,
     "metadata": {},
     "output_type": "execute_result"
    }
   ],
   "source": [
    "X['Functional'].value_counts()"
   ]
  },
  {
   "cell_type": "code",
   "execution_count": 62,
   "metadata": {},
   "outputs": [
    {
     "data": {
      "text/plain": [
       "7    1915\n",
       "5      42\n",
       "6      42\n",
       "4      29\n",
       "3      12\n",
       "2       7\n",
       "1       2\n",
       "0       2\n",
       "Name: Functional, dtype: int64"
      ]
     },
     "execution_count": 62,
     "metadata": {},
     "output_type": "execute_result"
    }
   ],
   "source": [
    "X['Functional'].map({'Sal':0,'Sev':1,'Maj2':2,'Maj1':3,'Mod':4,'Min2':5,'Min1':6,'Typ':7}).value_counts()"
   ]
  },
  {
   "cell_type": "code",
   "execution_count": 63,
   "metadata": {
    "collapsed": true
   },
   "outputs": [],
   "source": [
    "ord_cols_unique.append(('Functional', {'Sal':0,'Sev':1,'Maj2':2,'Maj1':3,'Mod':4,'Min2':5,'Min1':6,'Typ':7}))"
   ]
  },
  {
   "cell_type": "markdown",
   "metadata": {},
   "source": [
    "### Fireplace Qu"
   ]
  },
  {
   "cell_type": "code",
   "execution_count": 64,
   "metadata": {
    "collapsed": true
   },
   "outputs": [],
   "source": [
    "#Drop\n",
    "#print(X['Fireplace Qu'].value_counts())\n",
    "#ord_cols_qual.append('Fireplace Qu')"
   ]
  },
  {
   "cell_type": "markdown",
   "metadata": {},
   "source": [
    "### Garage Type"
   ]
  },
  {
   "cell_type": "code",
   "execution_count": 65,
   "metadata": {},
   "outputs": [
    {
     "name": "stdout",
     "output_type": "stream",
     "text": [
      "Attchd     1213\n",
      "Detchd      536\n",
      "BuiltIn     132\n",
      "Basment      27\n",
      "2Types       19\n",
      "CarPort      11\n",
      "Name: Garage Type, dtype: int64\n"
     ]
    }
   ],
   "source": [
    "print(X['Garage Type'].value_counts())\n",
    "nominal_cols.append('Garage Type')"
   ]
  },
  {
   "cell_type": "markdown",
   "metadata": {},
   "source": [
    "### Garage Finish"
   ]
  },
  {
   "cell_type": "code",
   "execution_count": 66,
   "metadata": {},
   "outputs": [
    {
     "data": {
      "text/plain": [
       "Unf    849\n",
       "RFn    579\n",
       "Fin    509\n",
       "Name: Garage Finish, dtype: int64"
      ]
     },
     "execution_count": 66,
     "metadata": {},
     "output_type": "execute_result"
    }
   ],
   "source": [
    "X['Garage Finish'].value_counts()"
   ]
  },
  {
   "cell_type": "code",
   "execution_count": 67,
   "metadata": {},
   "outputs": [
    {
     "data": {
      "text/plain": [
       "1.0    849\n",
       "2.0    579\n",
       "3.0    509\n",
       "Name: Garage Finish, dtype: int64"
      ]
     },
     "execution_count": 67,
     "metadata": {},
     "output_type": "execute_result"
    }
   ],
   "source": [
    "X['Garage Finish'].map({'NA':0,'Unf':1,'RFn':2,'Fin':3}).value_counts()"
   ]
  },
  {
   "cell_type": "code",
   "execution_count": 68,
   "metadata": {
    "collapsed": true
   },
   "outputs": [],
   "source": [
    "ord_cols_unique.append(('Garage Finish', {'NA':0,'Unf':1,'RFn':2,'Fin':3}))"
   ]
  },
  {
   "cell_type": "markdown",
   "metadata": {},
   "source": [
    "### Garage Qual"
   ]
  },
  {
   "cell_type": "code",
   "execution_count": 69,
   "metadata": {},
   "outputs": [
    {
     "name": "stdout",
     "output_type": "stream",
     "text": [
      "TA    1832\n",
      "Fa      82\n",
      "Gd      18\n",
      "Ex       3\n",
      "Po       2\n",
      "Name: Garage Qual, dtype: int64\n"
     ]
    }
   ],
   "source": [
    "print(X['Garage Qual'].value_counts())\n",
    "ord_cols_qual.append('Garage Qual')"
   ]
  },
  {
   "cell_type": "markdown",
   "metadata": {},
   "source": [
    "### Garage Cond"
   ]
  },
  {
   "cell_type": "code",
   "execution_count": 70,
   "metadata": {},
   "outputs": [
    {
     "name": "stdout",
     "output_type": "stream",
     "text": [
      "TA    1868\n",
      "Fa      47\n",
      "Gd      12\n",
      "Po       8\n",
      "Ex       2\n",
      "Name: Garage Cond, dtype: int64\n"
     ]
    }
   ],
   "source": [
    "print(X['Garage Cond'].value_counts())\n",
    "ord_cols_qual.append('Garage Cond')"
   ]
  },
  {
   "cell_type": "markdown",
   "metadata": {},
   "source": [
    "### Paved Drive"
   ]
  },
  {
   "cell_type": "code",
   "execution_count": 71,
   "metadata": {},
   "outputs": [
    {
     "data": {
      "text/plain": [
       "Y    1861\n",
       "N     151\n",
       "P      39\n",
       "Name: Paved Drive, dtype: int64"
      ]
     },
     "execution_count": 71,
     "metadata": {},
     "output_type": "execute_result"
    }
   ],
   "source": [
    "X['Paved Drive'].value_counts()"
   ]
  },
  {
   "cell_type": "code",
   "execution_count": 72,
   "metadata": {},
   "outputs": [
    {
     "data": {
      "text/plain": [
       "2    1861\n",
       "0     151\n",
       "1      39\n",
       "Name: Paved Drive, dtype: int64"
      ]
     },
     "execution_count": 72,
     "metadata": {},
     "output_type": "execute_result"
    }
   ],
   "source": [
    "X['Paved Drive'].map({'N':0,'P':1,'Y':2}).value_counts()"
   ]
  },
  {
   "cell_type": "code",
   "execution_count": 73,
   "metadata": {
    "collapsed": true
   },
   "outputs": [],
   "source": [
    "ord_cols_unique.append(('Paved Drive', {'N':0,'P':1,'Y':2}))"
   ]
  },
  {
   "cell_type": "markdown",
   "metadata": {},
   "source": [
    "### Pool QC"
   ]
  },
  {
   "cell_type": "code",
   "execution_count": 74,
   "metadata": {
    "collapsed": true
   },
   "outputs": [],
   "source": [
    "#drop\n",
    "#print(X['Pool QC'].value_counts())\n",
    "#ord_cols_qual.append('Pool QC')"
   ]
  },
  {
   "cell_type": "markdown",
   "metadata": {},
   "source": [
    "### Fence"
   ]
  },
  {
   "cell_type": "code",
   "execution_count": 75,
   "metadata": {
    "collapsed": true
   },
   "outputs": [],
   "source": [
    "#drop\n",
    "#X['Fence'].value_counts()"
   ]
  },
  {
   "cell_type": "code",
   "execution_count": 76,
   "metadata": {
    "collapsed": true
   },
   "outputs": [],
   "source": [
    "#X['Fence'].map({'NA':0,'MnWw':1,'GdWo':2,'MnPrv':3,'GdPrv':4}).value_counts()"
   ]
  },
  {
   "cell_type": "code",
   "execution_count": 77,
   "metadata": {
    "collapsed": true
   },
   "outputs": [],
   "source": [
    "#ord_cols_unique.append(('Fence', {'NA':0,'MnWw':1,'GdWo':2,'MnPrv':3,'GdPrv':4}))"
   ]
  },
  {
   "cell_type": "markdown",
   "metadata": {},
   "source": [
    "### Misc Feature"
   ]
  },
  {
   "cell_type": "code",
   "execution_count": 78,
   "metadata": {
    "collapsed": true
   },
   "outputs": [],
   "source": [
    "#drop\n",
    "#print(X['Misc Feature'].value_counts())\n",
    "#nominal_cols.append('Misc Feature')"
   ]
  },
  {
   "cell_type": "markdown",
   "metadata": {},
   "source": [
    "### Sale Type"
   ]
  },
  {
   "cell_type": "code",
   "execution_count": 79,
   "metadata": {},
   "outputs": [
    {
     "name": "stdout",
     "output_type": "stream",
     "text": [
      "WD       1781\n",
      "New       160\n",
      "COD        63\n",
      "ConLD      17\n",
      "CWD        10\n",
      "ConLI       7\n",
      "ConLw       5\n",
      "Con         4\n",
      "Oth         4\n",
      "Name: Sale Type, dtype: int64\n"
     ]
    }
   ],
   "source": [
    "print(X['Sale Type'].value_counts())\n",
    "nominal_cols.append('Sale Type')"
   ]
  },
  {
   "cell_type": "markdown",
   "metadata": {},
   "source": [
    "### Sanity Check 1\n",
    "\n",
    "Here I look at the columns that I have addded to my lists in order to make sure that everything is organized the way I want it, and that every column I want accounted for is present."
   ]
  },
  {
   "cell_type": "code",
   "execution_count": 80,
   "metadata": {},
   "outputs": [
    {
     "name": "stdout",
     "output_type": "stream",
     "text": [
      "8\n"
     ]
    },
    {
     "data": {
      "text/plain": [
       "['Exter Qual',\n",
       " 'Exter Cond',\n",
       " 'Bsmt Qual',\n",
       " 'Bsmt Cond',\n",
       " 'Heating QC',\n",
       " 'Kitchen Qual',\n",
       " 'Garage Qual',\n",
       " 'Garage Cond']"
      ]
     },
     "execution_count": 80,
     "metadata": {},
     "output_type": "execute_result"
    }
   ],
   "source": [
    "print(len(ord_cols_qual))\n",
    "ord_cols_qual"
   ]
  },
  {
   "cell_type": "code",
   "execution_count": 81,
   "metadata": {},
   "outputs": [
    {
     "name": "stdout",
     "output_type": "stream",
     "text": [
      "2\n"
     ]
    },
    {
     "data": {
      "text/plain": [
       "['BsmtFin Type 1', 'BsmtFin Type 2']"
      ]
     },
     "execution_count": 81,
     "metadata": {},
     "output_type": "execute_result"
    }
   ],
   "source": [
    "print(len(ord_cols_type))\n",
    "ord_cols_type"
   ]
  },
  {
   "cell_type": "code",
   "execution_count": 82,
   "metadata": {},
   "outputs": [
    {
     "name": "stdout",
     "output_type": "stream",
     "text": [
      "9\n"
     ]
    },
    {
     "data": {
      "text/plain": [
       "[('Lot Shape', {'IR1': 2, 'IR2': 1, 'IR3': 0, 'Reg': 3}),\n",
       " ('Utilities', {'AllPub': 3, 'ELO': 0, 'NoSeWa': 1, 'NoSewr': 2}),\n",
       " ('Land Slope', {'Gtl': 2, 'Mod': 1, 'Sev': 0}),\n",
       " ('Bsmt Exposure', {'Av': 3, 'Gd': 4, 'Mn': 2, 'NA': 0, 'No': 1}),\n",
       " ('Central Air', {'N': 0, 'Y': 1}),\n",
       " ('Electrical', {'FuseA': 3, 'FuseF': 2, 'FuseP': 1, 'Mix': 0, 'SBrkr': 4}),\n",
       " ('Functional',\n",
       "  {'Maj1': 3,\n",
       "   'Maj2': 2,\n",
       "   'Min1': 6,\n",
       "   'Min2': 5,\n",
       "   'Mod': 4,\n",
       "   'Sal': 0,\n",
       "   'Sev': 1,\n",
       "   'Typ': 7}),\n",
       " ('Garage Finish', {'Fin': 3, 'NA': 0, 'RFn': 2, 'Unf': 1}),\n",
       " ('Paved Drive', {'N': 0, 'P': 1, 'Y': 2})]"
      ]
     },
     "execution_count": 82,
     "metadata": {},
     "output_type": "execute_result"
    }
   ],
   "source": [
    "print(len(ord_cols_unique))\n",
    "ord_cols_unique"
   ]
  },
  {
   "cell_type": "code",
   "execution_count": 83,
   "metadata": {},
   "outputs": [
    {
     "name": "stdout",
     "output_type": "stream",
     "text": [
      "18\n"
     ]
    },
    {
     "data": {
      "text/plain": [
       "['MS Zoning',\n",
       " 'Street',\n",
       " 'Land Contour',\n",
       " 'Lot Config',\n",
       " 'Neighborhood',\n",
       " 'Condition 1',\n",
       " 'Condition 2',\n",
       " 'Bldg Type',\n",
       " 'House Style',\n",
       " 'Roof Style',\n",
       " 'Roof Matl',\n",
       " 'Exterior 1st',\n",
       " 'Exterior 2nd',\n",
       " 'Mas Vnr Type',\n",
       " 'Foundation',\n",
       " 'Heating',\n",
       " 'Garage Type',\n",
       " 'Sale Type']"
      ]
     },
     "execution_count": 83,
     "metadata": {},
     "output_type": "execute_result"
    }
   ],
   "source": [
    "print(len(nominal_cols))\n",
    "nominal_cols"
   ]
  },
  {
   "cell_type": "code",
   "execution_count": 84,
   "metadata": {},
   "outputs": [
    {
     "name": "stdout",
     "output_type": "stream",
     "text": [
      "43\n"
     ]
    },
    {
     "data": {
      "text/plain": [
       "['Id',\n",
       " 'PID',\n",
       " 'MS SubClass',\n",
       " 'Lot Frontage',\n",
       " 'Lot Area',\n",
       " 'Alley',\n",
       " 'Overall Qual',\n",
       " 'Overall Cond',\n",
       " 'Year Built',\n",
       " 'Year Remod/Add',\n",
       " 'Mas Vnr Area',\n",
       " 'BsmtFin SF 1',\n",
       " 'BsmtFin SF 2',\n",
       " 'Bsmt Unf SF',\n",
       " 'Total Bsmt SF',\n",
       " '1st Flr SF',\n",
       " '2nd Flr SF',\n",
       " 'Low Qual Fin SF',\n",
       " 'Gr Liv Area',\n",
       " 'Bsmt Full Bath',\n",
       " 'Bsmt Half Bath',\n",
       " 'Full Bath',\n",
       " 'Half Bath',\n",
       " 'Bedroom AbvGr',\n",
       " 'Kitchen AbvGr',\n",
       " 'TotRms AbvGrd',\n",
       " 'Fireplaces',\n",
       " 'Fireplace Qu',\n",
       " 'Garage Yr Blt',\n",
       " 'Garage Cars',\n",
       " 'Garage Area',\n",
       " 'Wood Deck SF',\n",
       " 'Open Porch SF',\n",
       " 'Enclosed Porch',\n",
       " '3Ssn Porch',\n",
       " 'Screen Porch',\n",
       " 'Pool Area',\n",
       " 'Pool QC',\n",
       " 'Fence',\n",
       " 'Misc Feature',\n",
       " 'Misc Val',\n",
       " 'Mo Sold',\n",
       " 'Yr Sold']"
      ]
     },
     "execution_count": 84,
     "metadata": {},
     "output_type": "execute_result"
    }
   ],
   "source": [
    "print(len([x for x in X.columns if x not in (ord_cols_qual+ord_cols_type+[y[0] for y in ord_cols_unique]+nominal_cols)]))\n",
    "[x for x in X.columns if x not in (ord_cols_qual+ord_cols_type+[y[0] for y in ord_cols_unique]+nominal_cols)]"
   ]
  },
  {
   "cell_type": "code",
   "execution_count": 85,
   "metadata": {},
   "outputs": [
    {
     "name": "stdout",
     "output_type": "stream",
     "text": [
      "<class 'pandas.core.frame.DataFrame'>\n",
      "RangeIndex: 2051 entries, 0 to 2050\n",
      "Data columns (total 80 columns):\n",
      "Id                 2051 non-null int64\n",
      "PID                2051 non-null int64\n",
      "MS SubClass        2051 non-null int64\n",
      "MS Zoning          2051 non-null object\n",
      "Lot Frontage       1721 non-null float64\n",
      "Lot Area           2051 non-null int64\n",
      "Street             2051 non-null object\n",
      "Alley              140 non-null object\n",
      "Lot Shape          2051 non-null object\n",
      "Land Contour       2051 non-null object\n",
      "Utilities          2051 non-null object\n",
      "Lot Config         2051 non-null object\n",
      "Land Slope         2051 non-null object\n",
      "Neighborhood       2051 non-null object\n",
      "Condition 1        2051 non-null object\n",
      "Condition 2        2051 non-null object\n",
      "Bldg Type          2051 non-null object\n",
      "House Style        2051 non-null object\n",
      "Overall Qual       2051 non-null int64\n",
      "Overall Cond       2051 non-null int64\n",
      "Year Built         2051 non-null int64\n",
      "Year Remod/Add     2051 non-null int64\n",
      "Roof Style         2051 non-null object\n",
      "Roof Matl          2051 non-null object\n",
      "Exterior 1st       2051 non-null object\n",
      "Exterior 2nd       2051 non-null object\n",
      "Mas Vnr Type       2029 non-null object\n",
      "Mas Vnr Area       2029 non-null float64\n",
      "Exter Qual         2051 non-null object\n",
      "Exter Cond         2051 non-null object\n",
      "Foundation         2051 non-null object\n",
      "Bsmt Qual          1996 non-null object\n",
      "Bsmt Cond          1996 non-null object\n",
      "Bsmt Exposure      1993 non-null object\n",
      "BsmtFin Type 1     1996 non-null object\n",
      "BsmtFin SF 1       2050 non-null float64\n",
      "BsmtFin Type 2     1995 non-null object\n",
      "BsmtFin SF 2       2050 non-null float64\n",
      "Bsmt Unf SF        2050 non-null float64\n",
      "Total Bsmt SF      2050 non-null float64\n",
      "Heating            2051 non-null object\n",
      "Heating QC         2051 non-null object\n",
      "Central Air        2051 non-null object\n",
      "Electrical         2051 non-null object\n",
      "1st Flr SF         2051 non-null int64\n",
      "2nd Flr SF         2051 non-null int64\n",
      "Low Qual Fin SF    2051 non-null int64\n",
      "Gr Liv Area        2051 non-null int64\n",
      "Bsmt Full Bath     2049 non-null float64\n",
      "Bsmt Half Bath     2049 non-null float64\n",
      "Full Bath          2051 non-null int64\n",
      "Half Bath          2051 non-null int64\n",
      "Bedroom AbvGr      2051 non-null int64\n",
      "Kitchen AbvGr      2051 non-null int64\n",
      "Kitchen Qual       2051 non-null object\n",
      "TotRms AbvGrd      2051 non-null int64\n",
      "Functional         2051 non-null object\n",
      "Fireplaces         2051 non-null int64\n",
      "Fireplace Qu       1051 non-null object\n",
      "Garage Type        1938 non-null object\n",
      "Garage Yr Blt      1937 non-null float64\n",
      "Garage Finish      1937 non-null object\n",
      "Garage Cars        2050 non-null float64\n",
      "Garage Area        2050 non-null float64\n",
      "Garage Qual        1937 non-null object\n",
      "Garage Cond        1937 non-null object\n",
      "Paved Drive        2051 non-null object\n",
      "Wood Deck SF       2051 non-null int64\n",
      "Open Porch SF      2051 non-null int64\n",
      "Enclosed Porch     2051 non-null int64\n",
      "3Ssn Porch         2051 non-null int64\n",
      "Screen Porch       2051 non-null int64\n",
      "Pool Area          2051 non-null int64\n",
      "Pool QC            9 non-null object\n",
      "Fence              400 non-null object\n",
      "Misc Feature       65 non-null object\n",
      "Misc Val           2051 non-null int64\n",
      "Mo Sold            2051 non-null int64\n",
      "Yr Sold            2051 non-null int64\n",
      "Sale Type          2051 non-null object\n",
      "dtypes: float64(11), int64(27), object(42)\n",
      "memory usage: 1.3+ MB\n"
     ]
    }
   ],
   "source": [
    "X.info()"
   ]
  },
  {
   "cell_type": "markdown",
   "metadata": {},
   "source": [
    "### Cleaning and Pipeline Functions"
   ]
  },
  {
   "cell_type": "code",
   "execution_count": 86,
   "metadata": {
    "collapsed": true
   },
   "outputs": [],
   "source": [
    "from sklearn.base import BaseEstimator, TransformerMixin\n",
    "from sklearn.preprocessing import OneHotEncoder, Imputer, OneHotEncoder\n",
    "from sklearn.pipeline import Pipeline, make_pipeline, FeatureUnion"
   ]
  },
  {
   "cell_type": "markdown",
   "metadata": {},
   "source": [
    "The following classes are to be used withing the pipelines."
   ]
  },
  {
   "cell_type": "markdown",
   "metadata": {},
   "source": [
    "**MultipleFeaturesExtractor**\n",
    "\n",
    "The purpose here is that given a list of column names, it will return those columns."
   ]
  },
  {
   "cell_type": "code",
   "execution_count": 87,
   "metadata": {
    "collapsed": true
   },
   "outputs": [],
   "source": [
    "class MultipleFeaturesExtractor(BaseEstimator, TransformerMixin):\n",
    "    def __init__(self, cols):\n",
    "        self.cols = cols \n",
    "        \n",
    "    def fit(self, X, y=None):\n",
    "        return self \n",
    "    \n",
    "    def transform(self, X, y=None):\n",
    "        return X[self.cols].values "
   ]
  },
  {
   "cell_type": "markdown",
   "metadata": {},
   "source": [
    "**MultipleFeaturesMap**\n",
    "\n",
    "The purpose here is that given a list of column names, and a dict to map with, it will return those columns mapped to their new values."
   ]
  },
  {
   "cell_type": "code",
   "execution_count": 88,
   "metadata": {
    "collapsed": true
   },
   "outputs": [],
   "source": [
    "class MultipleFeaturesMap(BaseEstimator, TransformerMixin):\n",
    "    def __init__(self, cols, vals):\n",
    "        self.cols = cols\n",
    "        self.vals = vals\n",
    "        \n",
    "    def fit(self, X, y=None):\n",
    "        return self \n",
    "    \n",
    "    def transform(self, X, y=None):\n",
    "        df = X[self.cols].copy()\n",
    "        for col in self.cols:\n",
    "            df[col] = X[col].map(self.vals)\n",
    "            \n",
    "        return df.values"
   ]
  },
  {
   "cell_type": "markdown",
   "metadata": {},
   "source": [
    "**FeatureMap**\n",
    "\n",
    "The purpose here is that given a column name, and a dict to map with, it will return that columns mapped to its new values."
   ]
  },
  {
   "cell_type": "code",
   "execution_count": 89,
   "metadata": {
    "collapsed": true
   },
   "outputs": [],
   "source": [
    "class FeatureMap(BaseEstimator, TransformerMixin):\n",
    "    def __init__(self, column, vals):\n",
    "        self.column = column\n",
    "        self.vals = vals\n",
    "        \n",
    "    def fit(self, X, y=None):\n",
    "        return self \n",
    "    \n",
    "    def transform(self, X, y=None):\n",
    "        return X[self.column].map(self.vals).values.reshape(-1,1)"
   ]
  },
  {
   "cell_type": "markdown",
   "metadata": {},
   "source": [
    "**CategoricalExtractor**\n",
    "\n",
    "The purpose here is that given a column, it can create unique values for each value that can then be passed to OneHotEncoder to create dummy variables from categorical data."
   ]
  },
  {
   "cell_type": "code",
   "execution_count": 90,
   "metadata": {
    "collapsed": true
   },
   "outputs": [],
   "source": [
    "class CategoricalExtractor(BaseEstimator, TransformerMixin):\n",
    "    def __init__(self, column):\n",
    "        self.column = column\n",
    "        self.values = None\n",
    "        \n",
    "    def _create_values(self, indices):\n",
    "        return {ind: i+1 for i, ind in enumerate(indices)}\n",
    "    \n",
    "    def _apply_values(self, row_val):\n",
    "        return self.values.get(row_val, 0)\n",
    "        \n",
    "    def fit(self, X, y=None):\n",
    "        self.values = self._create_values(X[self.column].value_counts().index)\n",
    "        return self \n",
    "    \n",
    "    def transform(self, X, y=None):\n",
    "        col = X[self.column].apply(self._apply_values)\n",
    "        return col.values.reshape(-1, 1)"
   ]
  },
  {
   "cell_type": "markdown",
   "metadata": {},
   "source": [
    "**createFU**\n",
    "\n",
    "This is a function that returns a feature union.\n",
    "\n",
    "The purpose it that in the other notebooks, when working on modeling, I use this function to create a feature union that can be used in a pipeline with a model, and it will handle all the cleaning that needs to happen when it gets passed into the model."
   ]
  },
  {
   "cell_type": "code",
   "execution_count": 91,
   "metadata": {
    "collapsed": true
   },
   "outputs": [],
   "source": [
    "def createFU(cols):\n",
    "    '''\n",
    "    With the columns of the Ames data, create a Feature Union in a more automated way to clean the data.\n",
    "    Returns a FeatureUnion that should have clean and expanded data that can then be used in a pipeline with a model\n",
    "    '''\n",
    "    #remove columns I don't want to deal with, deciding because too many null during EDA\n",
    "    cols = [col for col in cols if col not in ['Id','PID','Alley','Misc Feature','Fireplace Qu','Pool QC','Fence']]\n",
    "    #create lists of cols gotten from EDA\n",
    "    ord_cols_qual = ['Exter Qual','Exter Cond','Bsmt Qual','Bsmt Cond',\n",
    "                 'Heating QC','Kitchen Qual','Garage Qual','Garage Cond']\n",
    "    ord_cols_type = ['BsmtFin Type 1', 'BsmtFin Type 2']\n",
    "    ord_cols_unique = [('Lot Shape', {'IR1': 2, 'IR2': 1, 'IR3': 0, 'Reg': 3}),\n",
    "                         ('Utilities', {'AllPub': 3, 'ELO': 0, 'NoSeWa': 1, 'NoSewr': 2}),\n",
    "                         ('Land Slope', {'Gtl': 2, 'Mod': 1, 'Sev': 0}),\n",
    "                         ('Bsmt Exposure', {'Av': 3, 'Gd': 4, 'Mn': 2, 'NA': 0, 'No': 1}),\n",
    "                         ('Central Air', {'N': 0, 'Y': 1}),\n",
    "                         ('Electrical', {'FuseA': 3, 'FuseF': 2, 'FuseP': 1, 'Mix': 0, 'SBrkr': 4}),\n",
    "                         ('Functional',\n",
    "                          {'Maj1': 3,'Maj2': 2,'Min1': 6,'Min2': 5,'Mod': 4,'Sal': 0,'Sev': 1,'Typ': 7}),\n",
    "                         ('Garage Finish', {'Fin': 3, 'NA': 0, 'RFn': 2, 'Unf': 1}),\n",
    "                         ('Paved Drive', {'N': 0, 'P': 1, 'Y': 2})]\n",
    "    nominal_cols = ['MS Zoning','Street','Land Contour','Lot Config','Neighborhood',\n",
    "                    'Condition 1','Condition 2','Bldg Type','House Style','Roof Style',\n",
    "                    'Roof Matl','Exterior 1st','Exterior 2nd','Mas Vnr Type','Foundation',\n",
    "                    'Heating','Garage Type','Sale Type']\n",
    "    \n",
    "    #get all the columns that are not objects/not doing anything special with\n",
    "    obj_cols = (ord_cols_qual+ord_cols_type+[y[0] for y in ord_cols_unique]+nominal_cols)\n",
    "    num_cols = [col for col in cols if col not in obj_cols]\n",
    "    \n",
    "    #create list to hold pipelines\n",
    "    pipes = []\n",
    "    \n",
    "    #create pipe for qualities\n",
    "    qual_pipe = make_pipeline(\n",
    "                    MultipleFeaturesMap(ord_cols_qual, \n",
    "                                       {'NA':0,'Po':1,'Fa':2,'TA':3,'Gd':4,'Ex':5}),\n",
    "                    Imputer()\n",
    "                    )\n",
    "    pipes.append(('qual_pipe', qual_pipe))\n",
    "    \n",
    "    #create pipe for type\n",
    "    type_pipe = make_pipeline(\n",
    "                    MultipleFeaturesMap(ord_cols_type, \n",
    "                                       {'NA':0,'Unf':1,'LwQ':2,'Rec':3,'BLQ':4,'ALQ':5,'GLQ':6}),\n",
    "                    Imputer()\n",
    "                    )\n",
    "    pipes.append(('type_pipe', type_pipe))\n",
    "    \n",
    "    #just get all the data from numerical columns\n",
    "    num_pipe = make_pipeline(\n",
    "                    MultipleFeaturesExtractor(num_cols),\n",
    "                    Imputer()\n",
    "                    )\n",
    "    pipes.append(('num_pipe', num_pipe))\n",
    "    \n",
    "    #iterate over unique columns adding new pipelines for each    \n",
    "    for col, vals in ord_cols_unique:\n",
    "        tmp_pipe = make_pipeline(\n",
    "                        FeatureMap(col, vals),\n",
    "                        Imputer()\n",
    "                        )\n",
    "        pipes.append(('{}_pipe'.format(col), tmp_pipe))\n",
    "        \n",
    "    #turn nominal columns into dummies and add pipelines for each\n",
    "    for col in nominal_cols:\n",
    "        tmp_pipe = make_pipeline(\n",
    "                        CategoricalExtractor(col),\n",
    "                        Imputer(strategy='median'),\n",
    "                        OneHotEncoder(sparse=False, handle_unknown='ignore')\n",
    "                        )\n",
    "        pipes.append(('{}_pipe'.format(col), tmp_pipe))\n",
    "    \n",
    "    return FeatureUnion(pipes)"
   ]
  },
  {
   "cell_type": "markdown",
   "metadata": {},
   "source": [
    "### Sanity Check 2\n",
    "\n",
    "This is a testing ground, for me to double check that my function allows the use of data in a pipeline as expected, before I move on to the other notebooks and actually use it.\n",
    "\n",
    "It does!"
   ]
  },
  {
   "cell_type": "code",
   "execution_count": 92,
   "metadata": {
    "collapsed": true
   },
   "outputs": [],
   "source": [
    "df2 = pd.read_csv('datasets/train.csv')\n",
    "\n",
    "df3 = pd.read_csv('datasets/test.csv')"
   ]
  },
  {
   "cell_type": "code",
   "execution_count": 93,
   "metadata": {
    "collapsed": true
   },
   "outputs": [],
   "source": [
    "fu = createFU(df2.drop(['Sale Condition', 'SalePrice'], axis=1).columns)"
   ]
  },
  {
   "cell_type": "code",
   "execution_count": 94,
   "metadata": {
    "collapsed": true
   },
   "outputs": [],
   "source": [
    "from sklearn.linear_model import LinearRegression"
   ]
  },
  {
   "cell_type": "code",
   "execution_count": 95,
   "metadata": {
    "collapsed": true
   },
   "outputs": [],
   "source": [
    "q = make_pipeline(\n",
    "    fu,\n",
    "    LinearRegression()\n",
    ")"
   ]
  },
  {
   "cell_type": "code",
   "execution_count": 96,
   "metadata": {
    "collapsed": true
   },
   "outputs": [],
   "source": [
    "from sklearn.model_selection import cross_val_score"
   ]
  },
  {
   "cell_type": "code",
   "execution_count": 97,
   "metadata": {},
   "outputs": [
    {
     "data": {
      "text/plain": [
       "Pipeline(memory=None,\n",
       "     steps=[('featureunion', FeatureUnion(n_jobs=1,\n",
       "       transformer_list=[('qual_pipe', Pipeline(memory=None,\n",
       "     steps=[('multiplefeaturesmap', MultipleFeaturesMap(cols=['Exter Qual', 'Exter Cond', 'Bsmt Qual', 'Bsmt Cond', 'Heating QC', 'Kitchen Qual', 'Garage Qual', 'Garage Cond'],\n",
       "          vals=... ('linearregression', LinearRegression(copy_X=True, fit_intercept=True, n_jobs=1, normalize=False))])"
      ]
     },
     "execution_count": 97,
     "metadata": {},
     "output_type": "execute_result"
    }
   ],
   "source": [
    "q.fit(df2.drop(['Sale Condition', 'SalePrice'], axis=1), df2['SalePrice'])"
   ]
  },
  {
   "cell_type": "code",
   "execution_count": 98,
   "metadata": {},
   "outputs": [
    {
     "data": {
      "text/plain": [
       "0.91971017173678049"
      ]
     },
     "execution_count": 98,
     "metadata": {},
     "output_type": "execute_result"
    }
   ],
   "source": [
    "q.score(df2.drop(['Sale Condition', 'SalePrice'], axis=1), df2['SalePrice'])"
   ]
  },
  {
   "cell_type": "code",
   "execution_count": 99,
   "metadata": {},
   "outputs": [
    {
     "data": {
      "text/plain": [
       "[0.84519999999999995,\n",
       " 0.91120000000000001,\n",
       " 0.79749999999999999,\n",
       " 0.90069999999999995,\n",
       " -127662.21490000001]"
      ]
     },
     "execution_count": 99,
     "metadata": {},
     "output_type": "execute_result"
    }
   ],
   "source": [
    "[round(x, 4) for x in cross_val_score(q, df2.drop(['Sale Condition', 'SalePrice'], axis=1), df2['SalePrice'], cv=5)]"
   ]
  },
  {
   "cell_type": "code",
   "execution_count": 100,
   "metadata": {},
   "outputs": [
    {
     "data": {
      "text/plain": [
       "array([ 146984.17340982,  150274.47419306,  223085.57225313,\n",
       "        100585.35536017,  181637.12795633,   79788.81817548,\n",
       "        104988.8071687 ,  162664.36164805,  173978.91934724,\n",
       "        168763.52641055,  136454.23751404,  120265.17943574,\n",
       "        134673.42984103,  269549.67147802,  120519.45640595,\n",
       "        114215.81512323,  175320.63349774,  122502.68054268,\n",
       "        196096.11727825,  182377.63812301,  155684.29401544,\n",
       "        130335.60470813,  172959.02078116,   72124.98235752,\n",
       "        183810.71536571,  121963.66890777,  107637.22142874,\n",
       "        104557.5100092 ,  161515.81471861,   36010.63095984,\n",
       "         99222.35422424,  103104.81537497,  204990.39480212,\n",
       "        155178.59271324,  213227.60866582,  183386.03421292,\n",
       "        112224.06748798,   79775.12355726,  137295.57544592,\n",
       "        199621.92129564,  171040.47638298,  201520.3940186 ,\n",
       "        153772.11255042,  140775.31071938,  206015.47226857,\n",
       "         88244.62083773,  216037.31218865,  125669.20442217,\n",
       "        135595.25500463,  118826.40502027,  100232.97171217,\n",
       "        209524.1684033 ,  237065.27392182,  128235.25032162,\n",
       "        102267.36482941,  156808.70508048,  170997.03214434,\n",
       "        141500.07003678,  147189.72044764,  229644.90797933,\n",
       "        330523.15790463,  141504.77883017,  153054.01243329,\n",
       "        165778.75932626,  178988.10992074,  328656.6293795 ,\n",
       "         88744.40721707,  222927.60400762,   93756.63223392,\n",
       "        141440.48186834,   88823.89381572,  366490.04895269,\n",
       "        222813.66966486,  164700.75263845,  135662.50397061,\n",
       "        192720.77363396,  568057.24833511,  150494.29374479,\n",
       "        123898.49407784,   92389.26684478,  373908.49647256,\n",
       "        189774.96421014,  134336.47171127,  120188.66416399,\n",
       "         97193.08530568,  207406.77534951,  344639.75297635,\n",
       "        126374.24667437,  171778.33102416,  242877.55137676,\n",
       "        124841.69126949,  134278.11986537,   90946.40550185,\n",
       "        114450.84680274,  232931.09349598,  133047.29930208,\n",
       "        129405.17300066,  215120.50095332,  233330.26168999,\n",
       "        194323.58709303,  210852.21603337,  313681.98596349,\n",
       "        147417.77759465,  121343.87456133,  482726.44826234,\n",
       "        151745.25789947,  118710.29856528,  167872.83063283,\n",
       "        201684.70682885,  168886.21237985,  151381.92202018,\n",
       "        180623.92598229,  217432.66506582,  115667.0089239 ,\n",
       "        145018.22665174,  237318.9737674 ,  477336.16024626,\n",
       "        136164.91079465,  111931.12794203,  306991.37308084,\n",
       "        185273.34848153,  381931.57253362,  324595.48406597,\n",
       "        318807.61958496,  164108.20531591,  132722.95273181,\n",
       "        368369.83104101,  129074.54715325,  133734.26717366,\n",
       "        110026.46513325,  264580.86306163,  129969.98528315,\n",
       "        202600.90860587,  143932.82898877,  154412.4342094 ,\n",
       "        160184.50246275,  238753.12233854,  209894.10079791,\n",
       "        158624.9978014 ,  233135.49693671,  130538.06918349,\n",
       "        186446.36309333,  150248.75558648,  137843.96020077,\n",
       "        111037.25555438,  117288.45859754,  120187.79057441,\n",
       "        148190.2453493 ,  137338.56930087,   49123.70522539,\n",
       "        228881.54482445,  193054.37027318,  161182.99791723,\n",
       "        110704.37798417,  112868.55153011,  113496.65555223,\n",
       "        135304.37675444,   70499.8392797 ,  145868.66601096,\n",
       "        244815.31374736,  259516.92474974,  219188.14937071,\n",
       "        119555.90350487,  124115.36961678,  507735.43890804,\n",
       "        256768.90675428,  239025.49880609,  156069.61396545,\n",
       "        163058.33513556,  276152.35000908,  198000.97929529,\n",
       "        494992.61197165,  139022.70533418,  175743.27217731,\n",
       "        144613.70938086,  195290.26475933,  182367.90834553,\n",
       "         82287.29371779,  150054.23701652,   78232.28370319,\n",
       "        153037.8614633 ,  115108.47665794,  184302.97096472,\n",
       "        253315.51512155,  194109.70900309,  143606.67671231,\n",
       "        114012.93727823,  198053.51538082,  212855.26776646,\n",
       "        122250.28967792,   54808.07313765,  182781.99613781,\n",
       "        128389.50925645,  113830.11540861,   95594.56393612,\n",
       "        182289.39202513,  173777.1834059 ,  298374.4842224 ,\n",
       "        142192.29101564,  125606.71303552,  109114.37953086,\n",
       "        322062.73987705,  170151.25057821,  116329.42449561,\n",
       "        176178.75701306,  113324.48622466,  122229.25771713,\n",
       "        136599.95955637,  127430.68143109,  220055.16427318,\n",
       "        238664.16616654,  192749.09370376,  198044.54259678,\n",
       "        116997.83107825,  388487.91561257,  241189.49051405,\n",
       "        191757.19147673,  242317.69489841,  146260.4014971 ,\n",
       "        126905.33545221,  153134.84397287,  171287.26304961,\n",
       "        125796.13549646,  166637.33140906,  194922.90479601,\n",
       "        127831.61807888,  112133.26436574,  245840.84767814,\n",
       "        225405.4345097 ,  179030.24699806,  289347.85305   ,\n",
       "        185725.72691873,   86574.25088396,  135247.17985182,\n",
       "         94150.52349807,  275395.63375403,  166188.16673747,\n",
       "         87529.81109777,  431060.56537525,  345227.35842107,\n",
       "        189391.62365591,  255632.96809259,  146154.03403392,\n",
       "        311684.8910535 ,  244657.20546789,  287991.59749016,\n",
       "        257396.47238502,  114556.46024633,  127437.92352901,\n",
       "        164862.81733026,  296594.13401429,  298216.2224963 ,\n",
       "        139829.70550959,  231438.2740868 ,  237135.84824704,\n",
       "        195476.99179001,  101991.73801222,   78964.21760915,\n",
       "        420673.19267131,  219700.89837092,  254709.58057645,\n",
       "        186622.26020193,  140957.85279911,  109332.78821754,\n",
       "        173058.73300492,  265732.40358855,  147287.46528918,\n",
       "        146840.13385195,  202018.91571945,  208466.75807913,\n",
       "        126139.20306066,  197561.4687669 ,  214088.25030539,\n",
       "        157769.5525324 ,  338238.47854361,  115306.72113751,\n",
       "        152924.78464383,  130065.63850147,  197391.14899585,\n",
       "        104365.41372792,  112451.10206278,  236793.20556942,\n",
       "        143634.88253731,  145050.14507828,   87713.94369481,\n",
       "        128883.77032877,  256072.47132979,  227376.21965548,\n",
       "         98319.265854  ,   83606.2912107 ,  138843.96064937,\n",
       "         92027.69520208,  108370.37520372,   52587.41060607,\n",
       "        120718.89623504,  188492.71072409,  136864.19214748,\n",
       "        206217.31694427,  268807.28927988,  249699.82456952,\n",
       "        146510.5902892 ,  209538.80602907,  316548.0908715 ,\n",
       "        128206.97218949,  120408.90579867,   65025.93692989,\n",
       "         97662.98015501,  296118.3775491 ,  208931.47239496,\n",
       "        138394.01963419,  134318.2818147 ,  244517.85225349,\n",
       "        238516.45521269,  239279.60262432,  275718.59835254,\n",
       "        120306.46102123,  373646.35746904,  390922.01076874,\n",
       "        277887.43327661,  231476.41163735,  103341.74670204,\n",
       "         93580.96289582,  130752.75647255,  169558.1851929 ,\n",
       "        279447.56764397,  136752.38416108,  130371.68816157,\n",
       "        165128.87310555,  179744.65666137,  224050.71244275,\n",
       "        131795.37773132,  155860.774137  ,  170270.65570939,\n",
       "         79135.51212714,  202294.15329916,   90867.58848031,\n",
       "        158921.66704457,   94492.01458473,  115328.57461286,\n",
       "        117514.56115192,  171819.20443553,  210628.53471347,\n",
       "        111746.84194512,  126700.92303378,  180774.46628018,\n",
       "        288371.47881423,  243323.09738423,  173311.01641514,\n",
       "         90003.84384065,  207947.57636617,  156037.58101838,\n",
       "        153790.66146077,  159862.65071775,  114966.47687857,\n",
       "        296564.08443064,  138977.12007754,  241718.07747586,\n",
       "        152056.84382719,  210542.53346263,  257377.09625737,\n",
       "        117534.69869929,  135643.92083881,  142992.17214669,\n",
       "         61417.03599169,  137577.36538219,  199942.26488308,\n",
       "        279412.21885584,  228740.82439801,  230784.59949448,\n",
       "        211411.70840534,  108328.29973377,  199962.31621273,\n",
       "        112574.24046028,  151281.60521089,  379204.04651636,\n",
       "        125944.49654343,  289299.32971325,  179660.13566932,\n",
       "        279867.59333706,  218107.11899406,  116118.95288091,\n",
       "        159649.51200198,  127089.23545956,  344469.1948534 ,\n",
       "        339335.35945483,  216390.52995577,  199353.89784456,\n",
       "        154930.04055951,  196631.31707432,  152228.62373185,\n",
       "        115907.32517691,   95371.82410261,  329221.18271192,\n",
       "        161893.24552672,  110727.49465844,  175479.82492392,\n",
       "         46905.47827926,  187877.00052803,  195557.62065218,\n",
       "        146418.0411419 ,   79114.48048011,  228806.81386136,\n",
       "        227178.09551656,  123975.07664381,  294228.29086917,\n",
       "        139482.79792837,  133382.61669065,  138917.84181912,\n",
       "        230026.46741715,  300294.81577737,  129989.83578305,\n",
       "        102366.02299015,  151412.80140872,  244709.42486594,\n",
       "        107633.00800576,  255307.07002148,  336776.93244738,\n",
       "        121475.73972237,  257888.65216427,  110480.65856104,\n",
       "        134990.02480773,  252458.09642657,  110143.21082676,\n",
       "        239312.87824018,  107099.52360527,  214893.31690769,\n",
       "        386882.10798837,  201534.31819843,  210053.00101392,\n",
       "        143708.93075605,  279017.63467303,  101218.73656643,\n",
       "        147350.00200159,  124856.79539312,  195128.97608884,\n",
       "         91649.48358084,  334269.88149465,  218288.95428532,\n",
       "        165069.54852948,  137969.53428508,  124901.46578608,\n",
       "        211786.41528856,  137229.39194244,  112756.45678869,\n",
       "        179410.86767454,  139600.44844886,  224492.23979272,\n",
       "         24303.74142591,   98457.90812015,  304920.90941813,\n",
       "        142702.23807493,  236557.15903681,  286462.65947642,\n",
       "        241768.58543964,  155278.3784568 ,  213961.37854569,\n",
       "        234948.529208  ,  229387.48577665,   99972.86478817,\n",
       "        235068.91329475,  124930.51836857,  144778.45785149,\n",
       "        123965.53934002,  151805.34032757,  551488.12513351,\n",
       "        126007.30693303,  219472.40909219,  255656.3469679 ,\n",
       "        222929.00193345,   97603.42042165,  131071.67282396,\n",
       "        152534.6324928 ,  237291.93619126,  173978.46996308,\n",
       "        105324.56740794,  234773.47037352,  225675.19939126,\n",
       "        108777.08619215,  108330.86831316,  106581.34626585,\n",
       "        185221.22938128,   86335.4494321 ,  214941.87845541,\n",
       "        109000.57608152,  179938.96946847,  317113.95678888,\n",
       "        146341.33953458,  149720.14541745,  187689.86343698,\n",
       "        196172.13223447,  150141.80848886,  140526.22927367,\n",
       "        216881.37309037,  178343.4317782 ,  234920.84020795,\n",
       "        378409.12548446,  173147.68525818,  116522.25522847,\n",
       "        126670.85039683,  161918.72545585,   99810.90937667,\n",
       "        181085.58542386,  198703.773781  ,  194225.15310385,\n",
       "        139580.45409104,  260913.24510844,  139000.00904108,\n",
       "        266260.80541577,   91240.40205853,  113642.38087061,\n",
       "        256799.70105555,  114173.03347285,  128616.50017457,\n",
       "        126556.18869573,  141837.47077847,   38766.67810875,\n",
       "        197760.78430939,  163874.85711781,  214698.70037728,\n",
       "        263239.33944761,  276306.35117733,  110734.88032947,\n",
       "        134631.75090847,  145786.43077597,  123097.92332171,\n",
       "        231480.3831854 ,  422367.1596159 ,  184253.12522536,\n",
       "        131945.38311403,  131996.21229783,   42133.65989349,\n",
       "        117987.64642067,  207579.43604427,  142169.34322295,\n",
       "        185735.98665645,  172989.1397333 ,  139006.37963556,\n",
       "         67075.02312173,  243109.82265622,  146143.80081164,\n",
       "        160428.91763501,  140157.76092918,  108340.16872365,\n",
       "         70428.41261411,  119880.17182678,  231807.0073494 ,\n",
       "        345902.37416396,  250552.30463123,  120603.55952079,\n",
       "         89101.21293082,  324041.69513848,  134592.29995204,\n",
       "        298906.36546981,   83963.45255566,  208942.88467304,\n",
       "        231252.52581639,   89021.3174302 ,   94896.13163936,\n",
       "        149939.66291668,  106266.31435694,  166835.09263064,\n",
       "        109693.77053232,  158294.26704947,  178624.84184108,\n",
       "        151022.77311957,  137471.82353648,  146684.94771763,\n",
       "        126459.87942639,  219198.22506829,  121086.05954176,\n",
       "        147884.12422608,  165117.27160176,  129138.2778341 ,\n",
       "        103708.64566668,  148808.00454708,  177575.14206607,\n",
       "        123889.95221878,  166627.80176344,  133494.03145346,\n",
       "        179635.24808881,  106643.52272537,  131775.58477998,\n",
       "        153709.63209426,  296973.8381423 ,   98194.74191796,\n",
       "        128832.91923046,  166473.71082156,  147353.85402405,\n",
       "        118529.10232123,  293307.74316588,  234672.21726421,\n",
       "        117513.69761119,  120438.06540603,  132059.84345166,\n",
       "        139928.93935114,  326813.49237648,  230899.62798057,\n",
       "        143552.77234969,  146428.75886906,   94276.76082969,\n",
       "        373665.85046792,  124370.02652215,  202790.42821305,\n",
       "        120824.72869269,  174046.80069187,  234751.72587915,\n",
       "         71414.68210985,  125970.04955479,  114862.40856684,\n",
       "        163627.62397253,  136630.94885163,  124162.72133504,\n",
       "        361446.77821977,  222870.24368654,  160252.0760928 ,\n",
       "        125783.09472701,    3595.53690304,  206514.76780244,\n",
       "        271133.60151363,   52292.11111969,  169492.07124308,\n",
       "        212617.52379635,  104231.69251507,  143657.00281574,\n",
       "         97004.65441514,  137654.41655106,  150764.28190062,\n",
       "        191580.43204563,   98929.11733124,  351832.62423299,\n",
       "        151297.45284001,  191022.11851939,  182746.02744226,\n",
       "        129473.15863576,   66782.53563745,  152738.13945883,\n",
       "        200698.91633889,  117121.83246091,  142636.54444918,\n",
       "        145862.6418916 ,  156500.33502817,  309466.01835887,\n",
       "        132753.21514296,  254636.73937075,  255065.07767216,\n",
       "        160559.37889153,   69412.83320499,  231560.37974437,\n",
       "        171715.31564502,  111417.82125273,  181264.39275694,\n",
       "        164112.32697027,  125499.42516926,  115534.95010257,\n",
       "        161453.08930021,   67761.15052635,  158431.52042659,\n",
       "        206302.79318865,  145725.96369895,  280102.40477757,\n",
       "        176353.62624482,  130896.69784053,  173224.50935581,\n",
       "        176646.58816918,  225876.41486749,  396661.55044324,\n",
       "        233417.80468013,  208506.04076726,  188188.77619862,\n",
       "        188741.32527619,  289161.15902634,  227450.6136161 ,\n",
       "        243094.08195542,  256681.90368535,  142368.11836195,\n",
       "        114342.21418136,  133551.41211066,  133247.03605292,\n",
       "         83055.15170956,  141058.57470747,  118601.2710966 ,\n",
       "        346974.70625014,  209100.86626719,  171669.31164567,\n",
       "        223023.46073591,  197206.4389427 ,  154758.54287449,\n",
       "        208136.63492952,  411555.05233301,  157806.36649382,\n",
       "        177927.97539881,   71120.49686858,  126122.21910886,\n",
       "        305066.50747693,  115946.43328308,  209076.55668746,\n",
       "        159052.50456509,  229301.71720687,  361079.20716155,\n",
       "        117137.57018846,  242938.94403183,  138868.61069704,\n",
       "        159428.59424051,  152467.03134701,  131038.42319863,\n",
       "        310653.22766359,  271745.36080005,  152935.93821491,\n",
       "        135872.20939348,   88298.6223974 ,  319960.14410276,\n",
       "        227750.8086612 ,   94054.64792002,  139638.24824548,\n",
       "        125038.5255768 ,  123448.18258523,  218166.65856731,\n",
       "        303580.14636862,  204543.7094273 ,  200432.46892503,\n",
       "        208047.99300248,  216995.46827229,  267543.01747139,\n",
       "        143525.61676691,  125577.44602593,  297255.73544332,\n",
       "        196780.49217891,  177730.51913505,  134512.96811984,\n",
       "        278001.49024123,   83540.87337423,  257551.37701015,\n",
       "        185426.24747569,  243888.22359382,  147164.06612518,\n",
       "        202519.27777059,  173106.19056314,  155031.93555171,\n",
       "        147777.60182472,  148398.34718616,  137304.15471542,\n",
       "        221021.18903018,  191108.07940854,  156561.97889266,\n",
       "        103465.08720888,  183941.89356493,  162963.6867818 ,\n",
       "        184808.6632587 ,  227348.24143423,  111721.65306897,\n",
       "        327189.06732834,  261912.15967371,  158356.2192156 ,\n",
       "        138021.2266832 ,  164211.32857057,  161584.15286662,\n",
       "        113130.73867889,  441925.95612213,   47369.74608535,\n",
       "        156329.1363473 ,  229422.54269949,  146014.86626058,\n",
       "        219941.93367745,  132804.81142447,  265881.01553397,\n",
       "        170682.57402507,  311631.46898298,  160575.32061673,\n",
       "        197842.55245698,  303778.30464747,  144513.61843535,\n",
       "        275243.49226474,  173556.05582026,  112130.70677078,\n",
       "        234699.86671145,  135557.96197901,  134482.93189922,\n",
       "        234479.30856023,  -43422.56284098,  136119.84711619,\n",
       "        142225.27907689,  181731.93332294,  408359.27006243,\n",
       "         83595.19797156,  127819.83391821,  126284.57359276,\n",
       "        177789.78271354,  258580.81824001,  117321.11985778,\n",
       "        287486.25697858,  189190.60461115,  183354.45182484,\n",
       "        243476.63688515,  183073.74093177,  295694.8902654 ,\n",
       "        164868.77841796,  200508.8694105 ,  149608.06878222,\n",
       "        259643.55791275,  246796.25646071,  226609.03241067,\n",
       "        141549.73120472,  118568.95819967,  160404.16850151,\n",
       "         68093.85429556,  237329.2625154 ,  121637.59100895,\n",
       "        128882.00165052,  175531.27573828,  144025.01638309,\n",
       "        109459.98246438,  145563.13245363,  320177.17377164,\n",
       "        158628.43958421,  188852.99934947,  245912.36062242,\n",
       "        220769.70682948,  249081.70990835,   34303.81829542,\n",
       "        115802.98103278,  161329.65299889,  171199.46778559,\n",
       "        109831.06549239,  353629.34816555,  129979.94387017,\n",
       "        168141.40532588,  218992.45679384,  360605.62894706,\n",
       "        141660.60703435,  179025.02172426,  149436.17901562,\n",
       "        153240.87678354,  152483.80325875,  275624.00282177,\n",
       "        218074.71984261,  165334.66419271,  106532.72512363,\n",
       "        345623.63258387,  150765.4423021 ,  136292.96780124,\n",
       "        122480.80838461,  197936.70826138,  196332.26104548,\n",
       "        235959.98583263,  121739.5129243 ,  169391.39010047,\n",
       "        177573.73811925,  254272.31535124,  249131.13238868,\n",
       "         98659.20172718,  156676.9226827 ,  150523.62803558,\n",
       "        177435.26940253,  126542.20474801,  142889.90147312,\n",
       "        176032.77665647,   98190.39676534,  246211.33400479,\n",
       "         90883.44322787,  188945.68552093,  116984.65843588,\n",
       "        349365.35173229,  129667.04840317,  130846.9843592 ,\n",
       "        173491.91999311,  158791.81798163,  190172.49926562,\n",
       "        184637.62015467,  253291.0168862 ,  167246.81565546,\n",
       "        170866.36683992,  255897.46305292,  353015.25207236,\n",
       "        208389.64035524,  190632.9624105 ,  217545.70279095,\n",
       "        123187.25173593,  105888.66532618,  122054.40018174])"
      ]
     },
     "execution_count": 100,
     "metadata": {},
     "output_type": "execute_result"
    }
   ],
   "source": [
    "q.predict(df3)"
   ]
  },
  {
   "cell_type": "code",
   "execution_count": 101,
   "metadata": {
    "collapsed": true
   },
   "outputs": [],
   "source": [
    "sub = pd.DataFrame()\n",
    "sub['Id'] = df3.Id\n",
    "sub['SalePrice'] = q.predict(df3)"
   ]
  },
  {
   "cell_type": "code",
   "execution_count": 102,
   "metadata": {},
   "outputs": [
    {
     "data": {
      "text/plain": [
       "(879, 2)"
      ]
     },
     "execution_count": 102,
     "metadata": {},
     "output_type": "execute_result"
    }
   ],
   "source": [
    "sub.shape"
   ]
  },
  {
   "cell_type": "code",
   "execution_count": null,
   "metadata": {
    "collapsed": true
   },
   "outputs": [],
   "source": []
  }
 ],
 "metadata": {
  "kernelspec": {
   "display_name": "Python 3",
   "language": "python",
   "name": "python3"
  },
  "language_info": {
   "codemirror_mode": {
    "name": "ipython",
    "version": 3
   },
   "file_extension": ".py",
   "mimetype": "text/x-python",
   "name": "python",
   "nbconvert_exporter": "python",
   "pygments_lexer": "ipython3",
   "version": "3.6.3"
  }
 },
 "nbformat": 4,
 "nbformat_minor": 2
}
