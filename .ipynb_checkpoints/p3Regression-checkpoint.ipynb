{
 "cells": [
  {
   "cell_type": "markdown",
   "metadata": {
    "collapsed": true
   },
   "source": [
    "# Imports"
   ]
  },
  {
   "cell_type": "markdown",
   "metadata": {},
   "source": [
    "### 3rd Party Python"
   ]
  },
  {
   "cell_type": "code",
   "execution_count": 1,
   "metadata": {
    "collapsed": true
   },
   "outputs": [],
   "source": [
    "import pandas as pd\n",
    "import numpy as np\n",
    "from sklearn.base import BaseEstimator, TransformerMixin\n",
    "from sklearn.preprocessing import StandardScaler, RobustScaler, OneHotEncoder, Imputer\n",
    "from sklearn.pipeline import Pipeline, make_pipeline, FeatureUnion\n",
    "from sklearn.model_selection import train_test_split, cross_val_score, GridSearchCV\n",
    "from sklearn.linear_model import LinearRegression, Ridge, Lasso, ElasticNet, LogisticRegression\n",
    "from sklearn.feature_selection import SelectKBest, f_regression\n",
    "from sklearn.tree import DecisionTreeRegressor\n",
    "from sklearn.ensemble import BaggingRegressor, AdaBoostRegressor, GradientBoostingRegressor, RandomForestRegressor"
   ]
  },
  {
   "cell_type": "code",
   "execution_count": 2,
   "metadata": {
    "collapsed": true
   },
   "outputs": [],
   "source": [
    "import matplotlib.pyplot as plt\n",
    "%matplotlib inline"
   ]
  },
  {
   "cell_type": "markdown",
   "metadata": {
    "collapsed": true
   },
   "source": [
    "### Custom Classes\n",
    "\n",
    "The following classes were created in the Data Cleaning notebook, they are used to assist in the creation of a pipeline that cleans the data and prepares it for models.\n",
    "\n",
    "The basis for FeatureExtractor classes where provided by Richard, upon which I expanded. CategoricalExtractor was given by Richard as is."
   ]
  },
  {
   "cell_type": "code",
   "execution_count": 3,
   "metadata": {
    "collapsed": true
   },
   "outputs": [],
   "source": [
    "class MultipleFeaturesExtractor(BaseEstimator, TransformerMixin):\n",
    "    def __init__(self, cols):\n",
    "        self.cols = cols \n",
    "        \n",
    "    def fit(self, X, y=None):\n",
    "        return self \n",
    "    \n",
    "    def transform(self, X, y=None):\n",
    "        return X[self.cols].values "
   ]
  },
  {
   "cell_type": "code",
   "execution_count": 4,
   "metadata": {
    "collapsed": true
   },
   "outputs": [],
   "source": [
    "class MultipleFeaturesMap(BaseEstimator, TransformerMixin):\n",
    "    def __init__(self, cols, vals):\n",
    "        self.cols = cols\n",
    "        self.vals = vals\n",
    "        \n",
    "    def fit(self, X, y=None):\n",
    "        return self \n",
    "    \n",
    "    def transform(self, X, y=None):\n",
    "        df = X[self.cols].copy()\n",
    "        for col in self.cols:\n",
    "            df[col] = X[col].map(self.vals)\n",
    "            \n",
    "        return df.values"
   ]
  },
  {
   "cell_type": "code",
   "execution_count": 5,
   "metadata": {
    "collapsed": true
   },
   "outputs": [],
   "source": [
    "class FeatureMap(BaseEstimator, TransformerMixin):\n",
    "    def __init__(self, column, vals):\n",
    "        self.column = column\n",
    "        self.vals = vals\n",
    "        \n",
    "    def fit(self, X, y=None):\n",
    "        return self \n",
    "    \n",
    "    def transform(self, X, y=None):\n",
    "        return X[self.column].map(self.vals).values.reshape(-1,1)"
   ]
  },
  {
   "cell_type": "code",
   "execution_count": 6,
   "metadata": {
    "collapsed": true
   },
   "outputs": [],
   "source": [
    "class CategoricalExtractor(BaseEstimator, TransformerMixin):\n",
    "    def __init__(self, column):\n",
    "        self.column = column\n",
    "        self.values = None\n",
    "        \n",
    "    def _create_values(self, indices):\n",
    "        return {ind: i+1 for i, ind in enumerate(indices)}\n",
    "    \n",
    "    def _apply_values(self, row_val):\n",
    "        return self.values.get(row_val, 0)\n",
    "        \n",
    "    def fit(self, X, y=None):\n",
    "        self.values = self._create_values(X[self.column].value_counts().index)\n",
    "        return self \n",
    "    \n",
    "    def transform(self, X, y=None):\n",
    "        col = X[self.column].apply(self._apply_values)\n",
    "        return col.values.reshape(-1, 1)"
   ]
  },
  {
   "cell_type": "markdown",
   "metadata": {},
   "source": [
    "### Pipeline Function\n",
    "\n",
    "The following function was created in the Data Cleaning notebook, it is used to assist in the creation of a pipeline that cleans the data and prepares it for models, returning the data as a FeatureUnion object. It contains predefined lists, that tell it how to operate in the ways I determined best during EDA. That it takes the columns of the data as input is not necessary, I simply found it preferable to hard coding yet another list of columns inside the function."
   ]
  },
  {
   "cell_type": "code",
   "execution_count": 7,
   "metadata": {
    "collapsed": true
   },
   "outputs": [],
   "source": [
    "def createFU(cols):\n",
    "    '''\n",
    "    With the columns of the Ames data, create a Feature Union in a more automated way to clean the data.\n",
    "    Returns a FeatureUnion that should have clean and expanded data that can then be used in a pipeline with a model\n",
    "    '''\n",
    "    #remove columns I don't want to deal with, deciding because too many null during EDA\n",
    "    cols = [col for col in cols if col not in ['Id','PID','Alley','Misc Feature','Fireplace Qu','Pool QC','Fence']]\n",
    "    #create lists of cols gotten from EDA\n",
    "    ord_cols_qual = ['Exter Qual','Exter Cond','Bsmt Qual','Bsmt Cond',\n",
    "                 'Heating QC','Kitchen Qual','Garage Qual','Garage Cond']\n",
    "    ord_cols_type = ['BsmtFin Type 1', 'BsmtFin Type 2']\n",
    "    ord_cols_unique = [('Lot Shape', {'IR1': 2, 'IR2': 1, 'IR3': 0, 'Reg': 3}),\n",
    "                         ('Utilities', {'AllPub': 3, 'ELO': 0, 'NoSeWa': 1, 'NoSewr': 2}),\n",
    "                         ('Land Slope', {'Gtl': 2, 'Mod': 1, 'Sev': 0}),\n",
    "                         ('Bsmt Exposure', {'Av': 3, 'Gd': 4, 'Mn': 2, 'NA': 0, 'No': 1}),\n",
    "                         ('Central Air', {'N': 0, 'Y': 1}),\n",
    "                         ('Electrical', {'FuseA': 3, 'FuseF': 2, 'FuseP': 1, 'Mix': 0, 'SBrkr': 4}),\n",
    "                         ('Functional',\n",
    "                          {'Maj1': 3,'Maj2': 2,'Min1': 6,'Min2': 5,'Mod': 4,'Sal': 0,'Sev': 1,'Typ': 7}),\n",
    "                         ('Garage Finish', {'Fin': 3, 'NA': 0, 'RFn': 2, 'Unf': 1}),\n",
    "                         ('Paved Drive', {'N': 0, 'P': 1, 'Y': 2})]\n",
    "    nominal_cols = ['MS Zoning','Street','Land Contour','Lot Config','Neighborhood',\n",
    "                    'Condition 1','Condition 2','Bldg Type','House Style','Roof Style',\n",
    "                    'Roof Matl','Exterior 1st','Exterior 2nd','Mas Vnr Type','Foundation',\n",
    "                    'Heating','Garage Type','Sale Type']\n",
    "    \n",
    "    #get all the columns that are not objects/not doing anything special with\n",
    "    obj_cols = (ord_cols_qual+ord_cols_type+[y[0] for y in ord_cols_unique]+nominal_cols)\n",
    "    num_cols = [col for col in cols if col not in obj_cols]\n",
    "    \n",
    "    #create list to hold pipelines\n",
    "    pipes = []\n",
    "    \n",
    "    #create pipe for qualities\n",
    "    qual_pipe = make_pipeline(\n",
    "                    MultipleFeaturesMap(ord_cols_qual, \n",
    "                                       {'NA':0,'Po':1,'Fa':2,'TA':3,'Gd':4,'Ex':5}),\n",
    "                    Imputer()\n",
    "                    )\n",
    "    pipes.append(('qual_pipe', qual_pipe))\n",
    "    \n",
    "    #create pipe for type\n",
    "    type_pipe = make_pipeline(\n",
    "                    MultipleFeaturesMap(ord_cols_type, \n",
    "                                       {'NA':0,'Unf':1,'LwQ':2,'Rec':3,'BLQ':4,'ALQ':5,'GLQ':6}),\n",
    "                    Imputer()\n",
    "                    )\n",
    "    pipes.append(('type_pipe', type_pipe))\n",
    "    \n",
    "    #just get all the data from numerical columns\n",
    "    num_pipe = make_pipeline(\n",
    "                    MultipleFeaturesExtractor(num_cols),\n",
    "                    Imputer()\n",
    "                    )\n",
    "    pipes.append(('num_pipe', num_pipe))\n",
    "    \n",
    "    #iterate over unique columns adding new pipelines for each    \n",
    "    for col, vals in ord_cols_unique:\n",
    "        tmp_pipe = make_pipeline(\n",
    "                        FeatureMap(col, vals),\n",
    "                        Imputer()\n",
    "                        )\n",
    "        pipes.append(('{}_pipe'.format(col), tmp_pipe))\n",
    "        \n",
    "    #turn nominal columns into dummies and add pipelines for each\n",
    "    for col in nominal_cols:\n",
    "        tmp_pipe = make_pipeline(\n",
    "                        CategoricalExtractor(col),\n",
    "                        Imputer(strategy='median'),\n",
    "                        OneHotEncoder(sparse=False, handle_unknown='ignore')\n",
    "                        )\n",
    "        pipes.append(('{}_pipe'.format(col), tmp_pipe))\n",
    "    \n",
    "    return FeatureUnion(pipes)"
   ]
  },
  {
   "cell_type": "markdown",
   "metadata": {},
   "source": [
    "# Load Data\n",
    "\n",
    "Here I will load the data, both the training and test files. The purpose of loading both is my intention to brute force the kaggle competition with many models which I will save predictions for along the way in case of any crashes, which means I will need the test data loaded."
   ]
  },
  {
   "cell_type": "code",
   "execution_count": 8,
   "metadata": {
    "collapsed": true
   },
   "outputs": [],
   "source": [
    "#training data\n",
    "train_df = pd.read_csv('datasets/train.csv')\n",
    "\n",
    "#save the training X without either target variable, then save the regression target\n",
    "train_X = train_df.drop(['Sale Condition', 'SalePrice'], axis=1)\n",
    "train_y = train_df['SalePrice']\n",
    "\n",
    "#test data requires no changes\n",
    "test_df = pd.read_csv('datasets/test.csv')"
   ]
  },
  {
   "cell_type": "code",
   "execution_count": 9,
   "metadata": {
    "collapsed": true
   },
   "outputs": [],
   "source": [
    "#for graphing purposes I will also split train test\n",
    "Xtr, Xte, ytr, yte = train_test_split(train_X, train_y, random_state=42)"
   ]
  },
  {
   "cell_type": "markdown",
   "metadata": {},
   "source": [
    "Initialize the FeatureUnion that will contain the pipelines for cleaning the data. The intention is that this serves as the basis for modeling pipelines, and should remain unchanged throughout the notebook."
   ]
  },
  {
   "cell_type": "code",
   "execution_count": 10,
   "metadata": {
    "collapsed": true
   },
   "outputs": [],
   "source": [
    "data_fu = createFU(train_X.columns)"
   ]
  },
  {
   "cell_type": "markdown",
   "metadata": {},
   "source": [
    "# Modeling\n",
    "\n",
    "Within this section I will use the pipelines and gridsearch to fit many models. I reiterate that the intent is to succeed through \"directed\" brute force. Every model shall have it's own section where I use gridsearch to fit it to the training data, predict the test data, and save each to a respective csv.\n",
    "\n",
    "Afterwards I create a single instance of the estimator, using the best paramters, to create a plot of predicted value vs actual value. The reason for doing this with a new version of the model is to create a static version of the model so there is no need to rerun the GridSearches again to refind the model upon closing the notebook."
   ]
  },
  {
   "cell_type": "markdown",
   "metadata": {},
   "source": [
    "### Linear Regression"
   ]
  },
  {
   "cell_type": "code",
   "execution_count": null,
   "metadata": {
    "collapsed": true
   },
   "outputs": [],
   "source": [
    "#create the structure of the pipeline so it can be easily gridsearched\n",
    "modeling_pipe = Pipeline([\n",
    "    ('data', data_fu),\n",
    "    ('scaling', None),\n",
    "    ('selectkbest', SelectKBest(score_func=f_regression, k=5)),\n",
    "    ('model', LinearRegression())\n",
    "])\n",
    "\n",
    "#create parameters\n",
    "params = {\n",
    "    'scaling': [None, StandardScaler(), RobustScaler()],\n",
    "    'selectkbest__k':[2, 5, 10, 15, 20, 25, 30, 40, 50, 75, 100, 150, 'all'],\n",
    "    'model__fit_intercept':[False, True]\n",
    "}\n",
    "\n",
    "gs1 = GridSearchCV(modeling_pipe, params, verbose=1, cv=5, n_jobs=-1)\n",
    "gs1.fit(train_X, train_y)"
   ]
  },
  {
   "cell_type": "code",
   "execution_count": 10,
   "metadata": {},
   "outputs": [
    {
     "name": "stdout",
     "output_type": "stream",
     "text": [
      "0.866328458309\n",
      "{'model__fit_intercept': True, 'scaling': StandardScaler(copy=True, with_mean=True, with_std=True), 'selectkbest__k': 150}\n"
     ]
    }
   ],
   "source": [
    "print(gs1.best_score_)\n",
    "print(gs1.best_params_)"
   ]
  },
  {
   "cell_type": "code",
   "execution_count": 11,
   "metadata": {
    "collapsed": true
   },
   "outputs": [],
   "source": [
    "#create predictions dataframe\n",
    "pred = pd.DataFrame()\n",
    "pred['Id'] = test_df.Id\n",
    "pred['SalePrice'] = gs1.best_estimator_.predict(test_df)\n",
    "\n",
    "#to csv\n",
    "pred.to_csv('RegSubs/LinReg.csv', index=False)"
   ]
  },
  {
   "cell_type": "code",
   "execution_count": 71,
   "metadata": {
    "scrolled": false
   },
   "outputs": [
    {
     "name": "stderr",
     "output_type": "stream",
     "text": [
      "/Users/loganmcmanus/anaconda3/lib/python3.6/site-packages/sklearn/feature_selection/univariate_selection.py:298: RuntimeWarning: invalid value encountered in true_divide\n",
      "  corr /= X_norms\n",
      "/Users/loganmcmanus/anaconda3/lib/python3.6/site-packages/scipy/stats/_distn_infrastructure.py:879: RuntimeWarning: invalid value encountered in greater\n",
      "  return (self.a < x) & (x < self.b)\n",
      "/Users/loganmcmanus/anaconda3/lib/python3.6/site-packages/scipy/stats/_distn_infrastructure.py:879: RuntimeWarning: invalid value encountered in less\n",
      "  return (self.a < x) & (x < self.b)\n",
      "/Users/loganmcmanus/anaconda3/lib/python3.6/site-packages/scipy/stats/_distn_infrastructure.py:1818: RuntimeWarning: invalid value encountered in less_equal\n",
      "  cond2 = cond0 & (x <= self.a)\n"
     ]
    },
    {
     "name": "stdout",
     "output_type": "stream",
     "text": [
      "Score 0.888348405281\n"
     ]
    },
    {
     "data": {
      "text/plain": [
       "<matplotlib.text.Text at 0x11d639da0>"
      ]
     },
     "execution_count": 71,
     "metadata": {},
     "output_type": "execute_result"
    },
    {
     "data": {
      "image/png": "[encoded data removed]",
      "text/plain": [
       "<matplotlib.figure.Figure at 0x11d4362e8>"
      ]
     },
     "metadata": {},
     "output_type": "display_data"
    }
   ],
   "source": [
    "modeling_pipe = Pipeline([\n",
    "    ('data', data_fu),\n",
    "    ('scaling', StandardScaler()),\n",
    "    ('selectkbest', SelectKBest(score_func=f_regression, k=150)),\n",
    "    ('model', LinearRegression())\n",
    "])\n",
    "modeling_pipe.fit(Xtr, ytr)\n",
    "preds = modeling_pipe.predict(Xte)\n",
    "print('Score', modeling_pipe.score(Xte, yte))\n",
    "plt.scatter(preds, yte)\n",
    "plt.plot((0,500000), (0,500000), color='black')\n",
    "plt.title('Lin Reg')\n",
    "plt.xlabel('Predicted Value')\n",
    "plt.ylabel('Actual Value')"
   ]
  },
  {
   "cell_type": "markdown",
   "metadata": {},
   "source": [
    "### Ridge Regression"
   ]
  },
  {
   "cell_type": "code",
   "execution_count": null,
   "metadata": {
    "collapsed": true
   },
   "outputs": [],
   "source": [
    "#create the structure of the pipeline so it can be easily gridsearched\n",
    "modeling_pipe = Pipeline([\n",
    "    ('data', data_fu),\n",
    "    ('scaling', None),\n",
    "    ('selectkbest', SelectKBest(score_func=f_regression, k=5)),\n",
    "    ('model', Ridge())\n",
    "])\n",
    "\n",
    "#create parameters\n",
    "params = {\n",
    "    'scaling': [None, StandardScaler(), RobustScaler()],\n",
    "    'selectkbest__k':[2, 5, 10, 15, 20, 25, 30, 40, 50, 75, 100, 150, 'all'],\n",
    "    'model__fit_intercept':[False, True],\n",
    "    'model__alpha': np.linspace(0.01, 100, 25)\n",
    "}\n",
    "\n",
    "gs2 = GridSearchCV(modeling_pipe, params, verbose=1, cv=5, n_jobs=-1)\n",
    "gs2.fit(train_X, train_y)"
   ]
  },
  {
   "cell_type": "code",
   "execution_count": 13,
   "metadata": {},
   "outputs": [
    {
     "name": "stdout",
     "output_type": "stream",
     "text": [
      "0.869938490944\n",
      "{'model__alpha': 100.0, 'model__fit_intercept': True, 'scaling': StandardScaler(copy=True, with_mean=True, with_std=True), 'selectkbest__k': 150}\n"
     ]
    }
   ],
   "source": [
    "print(gs2.best_score_)\n",
    "print(gs2.best_params_)"
   ]
  },
  {
   "cell_type": "code",
   "execution_count": 14,
   "metadata": {
    "collapsed": true
   },
   "outputs": [],
   "source": [
    "#create predictions dataframe\n",
    "pred = pd.DataFrame()\n",
    "pred['Id'] = test_df.Id\n",
    "pred['SalePrice'] = gs2.best_estimator_.predict(test_df)\n",
    "\n",
    "#to csv\n",
    "pred.to_csv('RegSubs/RidgeReg.csv', index=False)"
   ]
  },
  {
   "cell_type": "code",
   "execution_count": 72,
   "metadata": {},
   "outputs": [
    {
     "name": "stderr",
     "output_type": "stream",
     "text": [
      "/Users/loganmcmanus/anaconda3/lib/python3.6/site-packages/sklearn/feature_selection/univariate_selection.py:298: RuntimeWarning: invalid value encountered in true_divide\n",
      "  corr /= X_norms\n",
      "/Users/loganmcmanus/anaconda3/lib/python3.6/site-packages/scipy/stats/_distn_infrastructure.py:879: RuntimeWarning: invalid value encountered in greater\n",
      "  return (self.a < x) & (x < self.b)\n",
      "/Users/loganmcmanus/anaconda3/lib/python3.6/site-packages/scipy/stats/_distn_infrastructure.py:879: RuntimeWarning: invalid value encountered in less\n",
      "  return (self.a < x) & (x < self.b)\n",
      "/Users/loganmcmanus/anaconda3/lib/python3.6/site-packages/scipy/stats/_distn_infrastructure.py:1818: RuntimeWarning: invalid value encountered in less_equal\n",
      "  cond2 = cond0 & (x <= self.a)\n"
     ]
    },
    {
     "name": "stdout",
     "output_type": "stream",
     "text": [
      "Score 0.88869711535\n"
     ]
    },
    {
     "data": {
      "text/plain": [
       "<matplotlib.text.Text at 0x11d897b00>"
      ]
     },
     "execution_count": 72,
     "metadata": {},
     "output_type": "execute_result"
    },
    {
     "data": {
      "image/png": "[encoded data removed]",
      "text/plain": [
       "<matplotlib.figure.Figure at 0x11d7d86d8>"
      ]
     },
     "metadata": {},
     "output_type": "display_data"
    }
   ],
   "source": [
    "modeling_pipe = Pipeline([\n",
    "    ('data', data_fu),\n",
    "    ('scaling', StandardScaler()),\n",
    "    ('selectkbest', SelectKBest(score_func=f_regression, k=150)),\n",
    "    ('model', Ridge(alpha=100))\n",
    "])\n",
    "modeling_pipe.fit(Xtr, ytr)\n",
    "preds = modeling_pipe.predict(Xte)\n",
    "print('Score', modeling_pipe.score(Xte, yte))\n",
    "plt.scatter(preds, yte)\n",
    "plt.plot((0,500000), (0,500000), color='black')\n",
    "plt.title('Ridge Reg')\n",
    "plt.xlabel('Predicted Value')\n",
    "plt.ylabel('Actual Value')"
   ]
  },
  {
   "cell_type": "markdown",
   "metadata": {},
   "source": [
    "### Lasso Regression"
   ]
  },
  {
   "cell_type": "code",
   "execution_count": null,
   "metadata": {
    "collapsed": true
   },
   "outputs": [],
   "source": [
    "#create the structure of the pipeline so it can be easily gridsearched\n",
    "modeling_pipe = Pipeline([\n",
    "    ('data', data_fu),\n",
    "    ('scaling', None),\n",
    "    ('selectkbest', SelectKBest(score_func=f_regression, k=5)),\n",
    "    ('model', Lasso())\n",
    "])\n",
    "\n",
    "#create parameters\n",
    "params = {\n",
    "    'scaling': [None, StandardScaler(), RobustScaler()],\n",
    "    'selectkbest__k':[2, 5, 10, 15, 20, 25, 30, 40, 50, 75, 100, 150, 'all'],\n",
    "    'model__fit_intercept':[False, True],\n",
    "    'model__alpha': np.linspace(0.01, 100, 25)\n",
    "}\n",
    "\n",
    "gs3 = GridSearchCV(modeling_pipe, params, verbose=1, cv=5, n_jobs=-1)\n",
    "gs3.fit(train_X, train_y)"
   ]
  },
  {
   "cell_type": "code",
   "execution_count": 16,
   "metadata": {},
   "outputs": [
    {
     "name": "stdout",
     "output_type": "stream",
     "text": [
      "0.86927177887\n",
      "{'model__alpha': 100.0, 'model__fit_intercept': True, 'scaling': StandardScaler(copy=True, with_mean=True, with_std=True), 'selectkbest__k': 150}\n"
     ]
    }
   ],
   "source": [
    "print(gs3.best_score_)\n",
    "print(gs3.best_params_)"
   ]
  },
  {
   "cell_type": "code",
   "execution_count": 17,
   "metadata": {
    "collapsed": true
   },
   "outputs": [],
   "source": [
    "#create predictions dataframe\n",
    "pred = pd.DataFrame()\n",
    "pred['Id'] = test_df.Id\n",
    "pred['SalePrice'] = gs3.best_estimator_.predict(test_df)\n",
    "\n",
    "#to csv\n",
    "pred.to_csv('RegSubs/LassoReg.csv', index=False)"
   ]
  },
  {
   "cell_type": "code",
   "execution_count": 73,
   "metadata": {},
   "outputs": [
    {
     "name": "stderr",
     "output_type": "stream",
     "text": [
      "/Users/loganmcmanus/anaconda3/lib/python3.6/site-packages/sklearn/feature_selection/univariate_selection.py:298: RuntimeWarning: invalid value encountered in true_divide\n",
      "  corr /= X_norms\n",
      "/Users/loganmcmanus/anaconda3/lib/python3.6/site-packages/scipy/stats/_distn_infrastructure.py:879: RuntimeWarning: invalid value encountered in greater\n",
      "  return (self.a < x) & (x < self.b)\n",
      "/Users/loganmcmanus/anaconda3/lib/python3.6/site-packages/scipy/stats/_distn_infrastructure.py:879: RuntimeWarning: invalid value encountered in less\n",
      "  return (self.a < x) & (x < self.b)\n",
      "/Users/loganmcmanus/anaconda3/lib/python3.6/site-packages/scipy/stats/_distn_infrastructure.py:1818: RuntimeWarning: invalid value encountered in less_equal\n",
      "  cond2 = cond0 & (x <= self.a)\n"
     ]
    },
    {
     "name": "stdout",
     "output_type": "stream",
     "text": [
      "Score 0.889236991041\n"
     ]
    },
    {
     "data": {
      "text/plain": [
       "<matplotlib.text.Text at 0x11d7cc6a0>"
      ]
     },
     "execution_count": 73,
     "metadata": {},
     "output_type": "execute_result"
    },
    {
     "data": {
      "image/png": "[encoded data removed]",
      "text/plain": [
       "<matplotlib.figure.Figure at 0x11d56b278>"
      ]
     },
     "metadata": {},
     "output_type": "display_data"
    }
   ],
   "source": [
    "modeling_pipe = Pipeline([\n",
    "    ('data', data_fu),\n",
    "    ('scaling', StandardScaler()),\n",
    "    ('selectkbest', SelectKBest(score_func=f_regression, k=150)),\n",
    "    ('model', Lasso(alpha=100))\n",
    "])\n",
    "modeling_pipe.fit(Xtr, ytr)\n",
    "preds = modeling_pipe.predict(Xte)\n",
    "print('Score', modeling_pipe.score(Xte, yte))\n",
    "plt.scatter(preds, yte)\n",
    "plt.plot((0,500000), (0,500000), color='black')\n",
    "plt.title('Lasso Reg')\n",
    "plt.xlabel('Predicted Value')\n",
    "plt.ylabel('Actual Value')"
   ]
  },
  {
   "cell_type": "markdown",
   "metadata": {},
   "source": [
    "### ElasticNet Regression"
   ]
  },
  {
   "cell_type": "code",
   "execution_count": null,
   "metadata": {
    "collapsed": true
   },
   "outputs": [],
   "source": [
    "#create the structure of the pipeline so it can be easily gridsearched\n",
    "modeling_pipe = Pipeline([\n",
    "    ('data', data_fu),\n",
    "    ('scaling', None),\n",
    "    ('selectkbest', SelectKBest(score_func=f_regression, k=5)),\n",
    "    ('model', ElasticNet())\n",
    "])\n",
    "\n",
    "#create parameters\n",
    "params = {\n",
    "    'scaling': [None, StandardScaler(), RobustScaler()],\n",
    "    'selectkbest__k':[2, 5, 10, 15, 20, 25, 30, 40, 50, 75, 100, 150, 'all'],\n",
    "    'model__fit_intercept':[False, True],\n",
    "    'model__alpha': np.linspace(0.01, 100, 25),\n",
    "    'model__l1_ratio': np.linspace(0.01, 0.99, 10)\n",
    "}\n",
    "\n",
    "gs4 = GridSearchCV(modeling_pipe, params, verbose=1, cv=5, n_jobs=-1)\n",
    "gs4.fit(train_X, train_y)"
   ]
  },
  {
   "cell_type": "code",
   "execution_count": 19,
   "metadata": {},
   "outputs": [
    {
     "name": "stdout",
     "output_type": "stream",
     "text": [
      "0.870324030089\n",
      "{'model__alpha': 12.508749999999999, 'model__fit_intercept': True, 'model__l1_ratio': 0.98999999999999999, 'scaling': StandardScaler(copy=True, with_mean=True, with_std=True), 'selectkbest__k': 150}\n"
     ]
    }
   ],
   "source": [
    "print(gs4.best_score_)\n",
    "print(gs4.best_params_)"
   ]
  },
  {
   "cell_type": "code",
   "execution_count": 20,
   "metadata": {
    "collapsed": true
   },
   "outputs": [],
   "source": [
    "#create predictions dataframe\n",
    "pred = pd.DataFrame()\n",
    "pred['Id'] = test_df.Id\n",
    "pred['SalePrice'] = gs4.best_estimator_.predict(test_df)\n",
    "\n",
    "#to csv\n",
    "pred.to_csv('RegSubs/ENetReg.csv', index=False)"
   ]
  },
  {
   "cell_type": "code",
   "execution_count": 74,
   "metadata": {},
   "outputs": [
    {
     "name": "stderr",
     "output_type": "stream",
     "text": [
      "/Users/loganmcmanus/anaconda3/lib/python3.6/site-packages/sklearn/feature_selection/univariate_selection.py:298: RuntimeWarning: invalid value encountered in true_divide\n",
      "  corr /= X_norms\n",
      "/Users/loganmcmanus/anaconda3/lib/python3.6/site-packages/scipy/stats/_distn_infrastructure.py:879: RuntimeWarning: invalid value encountered in greater\n",
      "  return (self.a < x) & (x < self.b)\n",
      "/Users/loganmcmanus/anaconda3/lib/python3.6/site-packages/scipy/stats/_distn_infrastructure.py:879: RuntimeWarning: invalid value encountered in less\n",
      "  return (self.a < x) & (x < self.b)\n",
      "/Users/loganmcmanus/anaconda3/lib/python3.6/site-packages/scipy/stats/_distn_infrastructure.py:1818: RuntimeWarning: invalid value encountered in less_equal\n",
      "  cond2 = cond0 & (x <= self.a)\n"
     ]
    },
    {
     "name": "stdout",
     "output_type": "stream",
     "text": [
      "Score 0.888985233474\n"
     ]
    },
    {
     "data": {
      "text/plain": [
       "<matplotlib.text.Text at 0x11de000b8>"
      ]
     },
     "execution_count": 74,
     "metadata": {},
     "output_type": "execute_result"
    },
    {
     "data": {
      "image/png": "[encoded data removed]",
      "text/plain": [
       "<matplotlib.figure.Figure at 0x11d8a0cc0>"
      ]
     },
     "metadata": {},
     "output_type": "display_data"
    }
   ],
   "source": [
    "modeling_pipe = Pipeline([\n",
    "    ('data', data_fu),\n",
    "    ('scaling', StandardScaler()),\n",
    "    ('selectkbest', SelectKBest(score_func=f_regression, k=150)),\n",
    "    ('model', ElasticNet(alpha=12.50875, l1_ratio=0.98999))\n",
    "])\n",
    "modeling_pipe.fit(Xtr, ytr)\n",
    "preds = modeling_pipe.predict(Xte)\n",
    "print('Score', modeling_pipe.score(Xte, yte))\n",
    "plt.scatter(preds, yte)\n",
    "plt.plot((0,500000), (0,500000), color='black')\n",
    "plt.title('ElasticNet Reg')\n",
    "plt.xlabel('Predicted Value')\n",
    "plt.ylabel('Actual Value')"
   ]
  },
  {
   "cell_type": "markdown",
   "metadata": {},
   "source": [
    "### Decision Tree Regressor"
   ]
  },
  {
   "cell_type": "code",
   "execution_count": null,
   "metadata": {
    "collapsed": true
   },
   "outputs": [],
   "source": [
    "#create the structure of the pipeline so it can be easily gridsearched\n",
    "modeling_pipe = Pipeline([\n",
    "    ('data', data_fu),\n",
    "    ('scaling', None),\n",
    "    ('model', DecisionTreeRegressor())\n",
    "])\n",
    "\n",
    "#create parameters\n",
    "params = {\n",
    "    'scaling': [None, StandardScaler(), RobustScaler()],\n",
    "    'model__max_depth':[2, 5, 10, 15, 20, 25, 30, 40, 50, 75, 100, 150, None],\n",
    "    'model__max_features':['auto', 'sqrt', 'log2']\n",
    "}\n",
    "\n",
    "gs5 = GridSearchCV(modeling_pipe, params, verbose=1, cv=5, n_jobs=-1)\n",
    "gs5.fit(train_X, train_y)"
   ]
  },
  {
   "cell_type": "code",
   "execution_count": 28,
   "metadata": {},
   "outputs": [
    {
     "name": "stdout",
     "output_type": "stream",
     "text": [
      "0.774029999695\n",
      "{'model__max_depth': 5, 'model__max_features': 'auto', 'scaling': None}\n"
     ]
    }
   ],
   "source": [
    "print(gs5.best_score_)\n",
    "print(gs5.best_params_)"
   ]
  },
  {
   "cell_type": "code",
   "execution_count": 29,
   "metadata": {
    "collapsed": true
   },
   "outputs": [],
   "source": [
    "#create predictions dataframe\n",
    "pred = pd.DataFrame()\n",
    "pred['Id'] = test_df.Id\n",
    "pred['SalePrice'] = gs5.best_estimator_.predict(test_df)\n",
    "\n",
    "#to csv\n",
    "pred.to_csv('RegSubs/DTReg.csv', index=False)"
   ]
  },
  {
   "cell_type": "code",
   "execution_count": 77,
   "metadata": {},
   "outputs": [
    {
     "name": "stdout",
     "output_type": "stream",
     "text": [
      "Score 0.795167473911\n"
     ]
    },
    {
     "data": {
      "text/plain": [
       "<matplotlib.text.Text at 0x11e289198>"
      ]
     },
     "execution_count": 77,
     "metadata": {},
     "output_type": "execute_result"
    },
    {
     "data": {
      "image/png": "[encoded data removed]",
      "text/plain": [
       "<matplotlib.figure.Figure at 0x11d7febe0>"
      ]
     },
     "metadata": {},
     "output_type": "display_data"
    }
   ],
   "source": [
    "modeling_pipe = Pipeline([\n",
    "    ('data', data_fu),\n",
    "    ('scaling', None,),\n",
    "    ('model', DecisionTreeRegressor(max_depth=5, max_features='auto'))\n",
    "])\n",
    "modeling_pipe.fit(Xtr, ytr)\n",
    "preds = modeling_pipe.predict(Xte)\n",
    "print('Score', modeling_pipe.score(Xte, yte))\n",
    "plt.scatter(preds, yte)\n",
    "plt.plot((0,500000), (0,500000), color='black')\n",
    "plt.title('Decision Tree Reg')\n",
    "plt.xlabel('Predicted Value')\n",
    "plt.ylabel('Actual Value')"
   ]
  },
  {
   "cell_type": "markdown",
   "metadata": {},
   "source": [
    "### Random Forest Regressor"
   ]
  },
  {
   "cell_type": "code",
   "execution_count": null,
   "metadata": {
    "collapsed": true
   },
   "outputs": [],
   "source": [
    "#create the structure of the pipeline so it can be easily gridsearched\n",
    "modeling_pipe = Pipeline([\n",
    "    ('data', data_fu),\n",
    "    ('scaling', None),\n",
    "    ('model', RandomForestRegressor())\n",
    "])\n",
    "\n",
    "#create parameters\n",
    "params = {\n",
    "    'scaling': [None, StandardScaler(), RobustScaler()],\n",
    "    'model__max_depth':[2, 5, 10, 15, 20, 25, 30, 40, 50, 75, 100, 150, None],\n",
    "    'model__max_features':['auto', 'sqrt', 'log2'],\n",
    "    'model__n_estimators': [int(x) for x in np.logspace(1, 3, 10)]\n",
    "}\n",
    "\n",
    "gs6 = GridSearchCV(modeling_pipe, params, verbose=1, cv=5, n_jobs=-1)\n",
    "gs6.fit(train_X, train_y)"
   ]
  },
  {
   "cell_type": "code",
   "execution_count": 39,
   "metadata": {},
   "outputs": [
    {
     "name": "stdout",
     "output_type": "stream",
     "text": [
      "0.895081735166\n",
      "{'model__max_depth': 25, 'model__max_features': 'sqrt', 'model__n_estimators': 46, 'scaling': RobustScaler(copy=True, quantile_range=(25.0, 75.0), with_centering=True,\n",
      "       with_scaling=True)}\n"
     ]
    }
   ],
   "source": [
    "print(gs6.best_score_)\n",
    "print(gs6.best_params_)"
   ]
  },
  {
   "cell_type": "code",
   "execution_count": 40,
   "metadata": {
    "collapsed": true
   },
   "outputs": [],
   "source": [
    "#create predictions dataframe\n",
    "pred = pd.DataFrame()\n",
    "pred['Id'] = test_df.Id\n",
    "pred['SalePrice'] = gs6.best_estimator_.predict(test_df)\n",
    "\n",
    "#to csv\n",
    "pred.to_csv('RegSubs/RFReg.csv', index=False)"
   ]
  },
  {
   "cell_type": "code",
   "execution_count": 99,
   "metadata": {},
   "outputs": [
    {
     "name": "stdout",
     "output_type": "stream",
     "text": [
      "Score 0.905900586445\n"
     ]
    },
    {
     "data": {
      "text/plain": [
       "<matplotlib.text.Text at 0x12025cac8>"
      ]
     },
     "execution_count": 99,
     "metadata": {},
     "output_type": "execute_result"
    },
    {
     "data": {
      "image/png": "[encoded data removed]",
      "text/plain": [
       "<matplotlib.figure.Figure at 0x11b342748>"
      ]
     },
     "metadata": {},
     "output_type": "display_data"
    }
   ],
   "source": [
    "modeling_pipe = Pipeline([\n",
    "    ('data', data_fu),\n",
    "    ('scaling', RobustScaler()),\n",
    "    ('model', RandomForestRegressor(max_depth=25, max_features='sqrt', n_estimators=46))\n",
    "])\n",
    "modeling_pipe.fit(Xtr, ytr)\n",
    "preds = modeling_pipe.predict(Xte)\n",
    "print('Score', modeling_pipe.score(Xte, yte))\n",
    "plt.scatter(preds, yte)\n",
    "plt.plot((0,500000), (0,500000), color='black')\n",
    "plt.title('Random Forest Reg')\n",
    "plt.xlabel('Predicted Value')\n",
    "plt.ylabel('Actual Value')"
   ]
  },
  {
   "cell_type": "markdown",
   "metadata": {},
   "source": [
    "### Bagging Regressor"
   ]
  },
  {
   "cell_type": "code",
   "execution_count": null,
   "metadata": {
    "collapsed": true
   },
   "outputs": [],
   "source": [
    "#create the structure of the pipeline so it can be easily gridsearched\n",
    "modeling_pipe = Pipeline([\n",
    "    ('data', data_fu),\n",
    "    ('scaling', None),\n",
    "    #('selectkbest', SelectKBest(score_func=f_regression, k=5)),\n",
    "    ('model', BaggingRegressor())\n",
    "])\n",
    "\n",
    "#create parameters\n",
    "params = {\n",
    "    'scaling': [None, StandardScaler(), RobustScaler()],\n",
    "    #'selectkbest__k':[2, 5, 10, 15, 20, 25, 30, 40, 50, 75, 100, 150, 'all'],\n",
    "    #'model__base_estimator':[gs1.best_estimator_,gs2.best_estimator_, gs3.best_estimator_, \n",
    "    #                         gs4.best_estimator_,gs5.best_estimator_,gs6.best_estimator_],\n",
    "    'model__base_estimator': [LinearRegression(), Ridge(alpha=100), Lasso(alpha=100), \n",
    "                              ElasticNet(alpha=12.50875, l1_ratio=0.98999), \n",
    "                              DecisionTreeRegressor(max_depth=5, max_features='auto')],\n",
    "    'model__n_estimators': [int(x) for x in np.logspace(1, 3, 5)]\n",
    "}\n",
    "\n",
    "gs7 = GridSearchCV(modeling_pipe, params, verbose=1, cv=5, n_jobs=-1)\n",
    "gs7.fit(train_X, train_y)"
   ]
  },
  {
   "cell_type": "code",
   "execution_count": 114,
   "metadata": {},
   "outputs": [
    {
     "name": "stdout",
     "output_type": "stream",
     "text": [
      "0.867240369623\n",
      "{'model__base_estimator': ElasticNet(alpha=12.50875, copy_X=True, fit_intercept=True, l1_ratio=0.98999,\n",
      "      max_iter=1000, normalize=False, positive=False, precompute=False,\n",
      "      random_state=None, selection='cyclic', tol=0.0001, warm_start=False), 'model__n_estimators': 31, 'scaling': StandardScaler(copy=True, with_mean=True, with_std=True)}\n"
     ]
    }
   ],
   "source": [
    "print(gs7.best_score_)\n",
    "print(gs7.best_params_)"
   ]
  },
  {
   "cell_type": "code",
   "execution_count": 115,
   "metadata": {
    "collapsed": true
   },
   "outputs": [],
   "source": [
    "#create predictions dataframe\n",
    "pred = pd.DataFrame()\n",
    "pred['Id'] = test_df.Id\n",
    "pred['SalePrice'] = gs7.best_estimator_.predict(test_df)\n",
    "\n",
    "#to csv\n",
    "pred.to_csv('RegSubs/BagReg.csv', index=False)"
   ]
  },
  {
   "cell_type": "code",
   "execution_count": 120,
   "metadata": {},
   "outputs": [
    {
     "name": "stdout",
     "output_type": "stream",
     "text": [
      "Score 0.895271011323\n"
     ]
    },
    {
     "data": {
      "text/plain": [
       "<matplotlib.text.Text at 0x11c0606a0>"
      ]
     },
     "execution_count": 120,
     "metadata": {},
     "output_type": "execute_result"
    },
    {
     "data": {
      "image/png": "[encoded data removed]",
      "text/plain": [
       "<matplotlib.figure.Figure at 0x11ae9e4a8>"
      ]
     },
     "metadata": {},
     "output_type": "display_data"
    }
   ],
   "source": [
    "modeling_pipe = Pipeline([\n",
    "    ('data', data_fu),\n",
    "    ('scaling', RobustScaler()),\n",
    "    ('model', BaggingRegressor(n_estimators=31, \n",
    "                               base_estimator=ElasticNet(alpha=12.50875, l1_ratio=0.98999)))\n",
    "])\n",
    "modeling_pipe.fit(Xtr, ytr)\n",
    "preds = modeling_pipe.predict(Xte)\n",
    "print('Score', modeling_pipe.score(Xte, yte))\n",
    "plt.scatter(preds, yte)\n",
    "plt.plot((0,500000), (0,500000), color='black')\n",
    "plt.title('Bagging Reg')\n",
    "plt.xlabel('Predicted Value')\n",
    "plt.ylabel('Actual Value')"
   ]
  },
  {
   "cell_type": "markdown",
   "metadata": {},
   "source": [
    "### AdaBoost Regressor"
   ]
  },
  {
   "cell_type": "code",
   "execution_count": null,
   "metadata": {
    "collapsed": true
   },
   "outputs": [],
   "source": [
    "#create the structure of the pipeline so it can be easily gridsearched\n",
    "modeling_pipe = Pipeline([\n",
    "    ('data', data_fu),\n",
    "    ('scaling', None),\n",
    "    #('selectkbest', SelectKBest(score_func=f_regression, k=5)),\n",
    "    ('model', AdaBoostRegressor())\n",
    "])\n",
    "\n",
    "#create parameters\n",
    "params = {\n",
    "    'scaling': [None, StandardScaler(), RobustScaler()],\n",
    "    #'selectkbest__k':[2, 5, 10, 15, 20, 25, 30, 40, 50, 75, 100, 150, 'all'],\n",
    "    #'model__base_estimator':[gs1.best_estimator_,gs2.best_estimator_, gs3.best_estimator_, \n",
    "    #                         gs4.best_estimator_,gs5.best_estimator_,gs6.best_estimator_],\n",
    "    'model__base_estimator': [LinearRegression(), Ridge(alpha=100), Lasso(alpha=100), \n",
    "                              ElasticNet(alpha=12.50875, l1_ratio=0.98999), \n",
    "                              DecisionTreeRegressor(max_depth=5, max_features='auto')],\n",
    "    'model__n_estimators': [int(x) for x in np.logspace(1, 3, 10)]\n",
    "}\n",
    "\n",
    "gs8 = GridSearchCV(modeling_pipe, params, verbose=1, cv=5, n_jobs=-1)\n",
    "gs8.fit(train_X, train_y)"
   ]
  },
  {
   "cell_type": "code",
   "execution_count": 117,
   "metadata": {},
   "outputs": [
    {
     "name": "stdout",
     "output_type": "stream",
     "text": [
      "0.881155751634\n",
      "{'model__base_estimator': DecisionTreeRegressor(criterion='mse', max_depth=5, max_features='auto',\n",
      "           max_leaf_nodes=None, min_impurity_decrease=0.0,\n",
      "           min_impurity_split=None, min_samples_leaf=1,\n",
      "           min_samples_split=2, min_weight_fraction_leaf=0.0,\n",
      "           presort=False, random_state=None, splitter='best'), 'model__n_estimators': 1000, 'scaling': RobustScaler(copy=True, quantile_range=(25.0, 75.0), with_centering=True,\n",
      "       with_scaling=True)}\n"
     ]
    }
   ],
   "source": [
    "print(gs8.best_score_)\n",
    "print(gs8.best_params_)"
   ]
  },
  {
   "cell_type": "code",
   "execution_count": 118,
   "metadata": {
    "collapsed": true
   },
   "outputs": [],
   "source": [
    "#create predictions dataframe\n",
    "pred = pd.DataFrame()\n",
    "pred['Id'] = test_df.Id\n",
    "pred['SalePrice'] = gs8.best_estimator_.predict(test_df)\n",
    "\n",
    "#to csv\n",
    "pred.to_csv('RegSubs/ABReg.csv', index=False)"
   ]
  },
  {
   "cell_type": "code",
   "execution_count": 121,
   "metadata": {},
   "outputs": [
    {
     "name": "stdout",
     "output_type": "stream",
     "text": [
      "Score 0.898146140723\n"
     ]
    },
    {
     "data": {
      "text/plain": [
       "<matplotlib.text.Text at 0x11c10ec18>"
      ]
     },
     "execution_count": 121,
     "metadata": {},
     "output_type": "execute_result"
    },
    {
     "data": {
      "image/png": "[encoded data removed]",
      "text/plain": [
       "<matplotlib.figure.Figure at 0x11ef420f0>"
      ]
     },
     "metadata": {},
     "output_type": "display_data"
    }
   ],
   "source": [
    "modeling_pipe = Pipeline([\n",
    "    ('data', data_fu),\n",
    "    ('scaling', RobustScaler()),\n",
    "    ('model', AdaBoostRegressor(n_estimators=1000, \n",
    "                                base_estimator=DecisionTreeRegressor(max_depth=5, max_features='auto')))\n",
    "])\n",
    "modeling_pipe.fit(Xtr, ytr)\n",
    "preds = modeling_pipe.predict(Xte)\n",
    "print('Score', modeling_pipe.score(Xte, yte))\n",
    "plt.scatter(preds, yte)\n",
    "plt.plot((0,500000), (0,500000), color='black')\n",
    "plt.title('AdaBoost Reg')\n",
    "plt.xlabel('Predicted Value')\n",
    "plt.ylabel('Actual Value')"
   ]
  },
  {
   "cell_type": "markdown",
   "metadata": {},
   "source": [
    "### Gradient Boosting Regressor"
   ]
  },
  {
   "cell_type": "code",
   "execution_count": null,
   "metadata": {
    "collapsed": true
   },
   "outputs": [],
   "source": [
    "#create the structure of the pipeline so it can be easily gridsearched\n",
    "modeling_pipe = Pipeline([\n",
    "    ('data', data_fu),\n",
    "    ('scaling', None),\n",
    "    ('model', GradientBoostingRegressor())\n",
    "])\n",
    "\n",
    "#create parameters\n",
    "params = {\n",
    "    'scaling': [None, StandardScaler(), RobustScaler()],\n",
    "    'model__max_depth':[2, 5, 10, 15, 20, 25, 30, 40, 50, 75, 100, 150, None],\n",
    "    'model__max_features':['auto', 'sqrt', 'log2'],\n",
    "    'model__n_estimators': [int(x) for x in np.logspace(1, 3, 10)]\n",
    "}\n",
    "\n",
    "gs9 = GridSearchCV(modeling_pipe, params, verbose=1, cv=5, n_jobs=-1)\n",
    "gs9.fit(train_X, train_y)"
   ]
  },
  {
   "cell_type": "code",
   "execution_count": 80,
   "metadata": {},
   "outputs": [
    {
     "name": "stdout",
     "output_type": "stream",
     "text": [
      "0.923944779762\n",
      "{'model__max_depth': 5, 'model__max_features': 'sqrt', 'model__n_estimators': 359, 'scaling': StandardScaler(copy=True, with_mean=True, with_std=True)}\n"
     ]
    }
   ],
   "source": [
    "print(gs9.best_score_)\n",
    "print(gs9.best_params_)"
   ]
  },
  {
   "cell_type": "code",
   "execution_count": 81,
   "metadata": {
    "collapsed": true
   },
   "outputs": [],
   "source": [
    "#create predictions dataframe\n",
    "pred = pd.DataFrame()\n",
    "pred['Id'] = test_df.Id\n",
    "pred['SalePrice'] = gs9.best_estimator_.predict(test_df)\n",
    "\n",
    "#to csv\n",
    "pred.to_csv('RegSubs/GBReg.csv', index=False)"
   ]
  },
  {
   "cell_type": "code",
   "execution_count": 111,
   "metadata": {},
   "outputs": [
    {
     "name": "stdout",
     "output_type": "stream",
     "text": [
      "Score 0.938405101523\n"
     ]
    },
    {
     "data": {
      "text/plain": [
       "<matplotlib.text.Text at 0x120719208>"
      ]
     },
     "execution_count": 111,
     "metadata": {},
     "output_type": "execute_result"
    },
    {
     "data": {
      "image/png": "[encoded data removed]",
      "text/plain": [
       "<matplotlib.figure.Figure at 0x12165a4e0>"
      ]
     },
     "metadata": {},
     "output_type": "display_data"
    }
   ],
   "source": [
    "modeling_pipe = Pipeline([\n",
    "    ('data', data_fu),\n",
    "    ('scaling', StandardScaler()),\n",
    "    ('model', GradientBoostingRegressor(max_depth=5, max_features='sqrt', n_estimators=300))\n",
    "])\n",
    "modeling_pipe.fit(Xtr, ytr)\n",
    "preds = modeling_pipe.predict(Xte)\n",
    "print('Score', modeling_pipe.score(Xte, yte))\n",
    "plt.scatter(preds, yte)\n",
    "plt.plot((0,500000), (0,500000), color='black')\n",
    "plt.title('Gradient Boost Reg')\n",
    "plt.xlabel('Predicted Value')\n",
    "plt.ylabel('Actual Value')"
   ]
  },
  {
   "cell_type": "code",
   "execution_count": 108,
   "metadata": {},
   "outputs": [
    {
     "data": {
      "text/plain": [
       "[10, 16, 27, 46, 77, 129, 215, 359, 599, 1000]"
      ]
     },
     "execution_count": 108,
     "metadata": {},
     "output_type": "execute_result"
    }
   ],
   "source": [
    "[int(x) for x in np.logspace(1, 3, 10)]"
   ]
  },
  {
   "cell_type": "code",
   "execution_count": 112,
   "metadata": {
    "collapsed": true
   },
   "outputs": [],
   "source": [
    "#create predictions dataframe\n",
    "pred = pd.DataFrame()\n",
    "pred['Id'] = test_df.Id\n",
    "pred['SalePrice'] = modeling_pipe.predict(test_df)\n",
    "\n",
    "#to csv\n",
    "pred.to_csv('RegSubs/GBReg2.csv', index=False)"
   ]
  },
  {
   "cell_type": "markdown",
   "metadata": {},
   "source": [
    "Doing another one"
   ]
  },
  {
   "cell_type": "code",
   "execution_count": null,
   "metadata": {
    "collapsed": true
   },
   "outputs": [],
   "source": [
    "#create the structure of the pipeline so it can be easily gridsearched\n",
    "modeling_pipe = Pipeline([\n",
    "    ('data', data_fu),\n",
    "    ('scaling', None),\n",
    "    ('model', GradientBoostingRegressor())\n",
    "])\n",
    "\n",
    "#create parameters\n",
    "params = {\n",
    "    'scaling': [None, StandardScaler(), RobustScaler()],\n",
    "    'model__max_depth':[3, 4, 5, 10, None],\n",
    "    'model__max_features':['auto', 'sqrt'],\n",
    "    'model__n_estimators': [50, 100, 250],\n",
    "    'model__subsample': [.75, 1.0],\n",
    "    'model__learning_rate': [.05, .15]\n",
    "}\n",
    "\n",
    "gs9b = GridSearchCV(modeling_pipe, params, verbose=1, cv=5, n_jobs=-1)\n",
    "gs9b.fit(train_X, train_y)"
   ]
  },
  {
   "cell_type": "code",
   "execution_count": 126,
   "metadata": {},
   "outputs": [
    {
     "name": "stdout",
     "output_type": "stream",
     "text": [
      "0.923241376925\n",
      "{'model__learning_rate': 0.05, 'model__max_depth': 5, 'model__max_features': 'sqrt', 'model__n_estimators': 250, 'model__subsample': 0.75, 'scaling': StandardScaler(copy=True, with_mean=True, with_std=True)}\n"
     ]
    }
   ],
   "source": [
    "print(gs9b.best_score_)\n",
    "print(gs9b.best_params_)"
   ]
  },
  {
   "cell_type": "code",
   "execution_count": 127,
   "metadata": {
    "collapsed": true
   },
   "outputs": [],
   "source": [
    "#create predictions dataframe\n",
    "pred = pd.DataFrame()\n",
    "pred['Id'] = test_df.Id\n",
    "pred['SalePrice'] = gs9b.best_estimator_.predict(test_df)\n",
    "\n",
    "#to csv\n",
    "pred.to_csv('RegSubs/GBRegb.csv', index=False)"
   ]
  },
  {
   "cell_type": "code",
   "execution_count": 133,
   "metadata": {
    "scrolled": true
   },
   "outputs": [
    {
     "name": "stdout",
     "output_type": "stream",
     "text": [
      "Score 0.935316859903\n"
     ]
    },
    {
     "data": {
      "text/plain": [
       "<matplotlib.text.Text at 0x1229cb208>"
      ]
     },
     "execution_count": 133,
     "metadata": {},
     "output_type": "execute_result"
    },
    {
     "data": {
      "image/png": "[encoded data removed]",
      "text/plain": [
       "<matplotlib.figure.Figure at 0x120a1eeb8>"
      ]
     },
     "metadata": {},
     "output_type": "display_data"
    }
   ],
   "source": [
    "modeling_pipe = Pipeline([\n",
    "    ('data', data_fu),\n",
    "    ('scaling', StandardScaler()),\n",
    "    ('model', GradientBoostingRegressor(max_depth=5, max_features='sqrt', \n",
    "                                        n_estimators=250, subsample=.75, learning_rate=.05))\n",
    "])\n",
    "modeling_pipe.fit(Xtr, ytr)\n",
    "preds = modeling_pipe.predict(Xte)\n",
    "print('Score', modeling_pipe.score(Xte, yte))\n",
    "plt.scatter(preds, yte)\n",
    "plt.plot((0,500000), (0,500000), color='black')\n",
    "plt.title('Gradient Boost Reg')\n",
    "plt.xlabel('Predicted Value')\n",
    "plt.ylabel('Actual Value')"
   ]
  },
  {
   "cell_type": "markdown",
   "metadata": {},
   "source": [
    "**Another One**"
   ]
  },
  {
   "cell_type": "code",
   "execution_count": null,
   "metadata": {
    "collapsed": true
   },
   "outputs": [],
   "source": [
    "#create the structure of the pipeline so it can be easily gridsearched\n",
    "modeling_pipe = Pipeline([\n",
    "    ('data', data_fu),\n",
    "    ('scaling', None),\n",
    "    ('model', GradientBoostingRegressor())\n",
    "])\n",
    "\n",
    "#create parameters\n",
    "params = {\n",
    "    'scaling': [None, StandardScaler(), RobustScaler()],\n",
    "    'model__max_depth':[3, 4, 5, 10, None],\n",
    "    'model__max_features':['auto', 'sqrt'],\n",
    "    'model__n_estimators': [50, 100, 250],\n",
    "    'model__subsample': [.75, 1.0],\n",
    "    'model__learning_rate': [.05, .15]\n",
    "}\n",
    "\n",
    "gs9b = GridSearchCV(modeling_pipe, params, verbose=1, cv=5, n_jobs=-1)\n",
    "gs9b.fit(train_X, train_y)"
   ]
  },
  {
   "cell_type": "code",
   "execution_count": null,
   "metadata": {
    "collapsed": true
   },
   "outputs": [],
   "source": [
    "print(gs9b.best_score_)\n",
    "print(gs9b.best_params_)"
   ]
  },
  {
   "cell_type": "code",
   "execution_count": null,
   "metadata": {
    "collapsed": true
   },
   "outputs": [],
   "source": [
    "#create predictions dataframe\n",
    "pred = pd.DataFrame()\n",
    "pred['Id'] = test_df.Id\n",
    "pred['SalePrice'] = gs9b.best_estimator_.predict(test_df)\n",
    "\n",
    "#to csv\n",
    "pred.to_csv('RegSubs/GBRegb.csv', index=False)"
   ]
  },
  {
   "cell_type": "code",
   "execution_count": null,
   "metadata": {
    "collapsed": true
   },
   "outputs": [],
   "source": [
    "modeling_pipe = Pipeline([\n",
    "    ('data', data_fu),\n",
    "    ('scaling', StandardScaler()),\n",
    "    ('model', GradientBoostingRegressor(max_depth=5, max_features='sqrt', \n",
    "                                        n_estimators=250, subsample=.75, learning_rate=.05))\n",
    "])\n",
    "modeling_pipe.fit(Xtr, ytr)\n",
    "preds = modeling_pipe.predict(Xte)\n",
    "print('Score', modeling_pipe.score(Xte, yte))\n",
    "plt.scatter(preds, yte)\n",
    "plt.plot((0,500000), (0,500000), color='black')\n",
    "plt.title('Gradient Boost Reg')\n",
    "plt.xlabel('Predicted Value')\n",
    "plt.ylabel('Actual Value')"
   ]
  }
 ],
 "metadata": {
  "kernelspec": {
   "display_name": "Python 3",
   "language": "python",
   "name": "python3"
  },
  "language_info": {
   "codemirror_mode": {
    "name": "ipython",
    "version": 3
   },
   "file_extension": ".py",
   "mimetype": "text/x-python",
   "name": "python",
   "nbconvert_exporter": "python",
   "pygments_lexer": "ipython3",
   "version": "3.6.3"
  }
 },
 "nbformat": 4,
 "nbformat_minor": 2
}
