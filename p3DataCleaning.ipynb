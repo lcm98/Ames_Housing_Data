{
 "cells": [
  {
   "cell_type": "markdown",
   "metadata": {},
   "source": [
    "# Load Data"
   ]
  },
  {
   "cell_type": "markdown",
   "metadata": {},
   "source": [
    "### Imports"
   ]
  },
  {
   "cell_type": "code",
   "execution_count": 2,
   "metadata": {
    "collapsed": true
   },
   "outputs": [],
   "source": [
    "import numpy as np\n",
    "import pandas as pd\n",
    "import matplotlib.pyplot as plt\n",
    "import seaborn as sns\n",
    "from sklearn.model_selection import train_test_split\n",
    "%matplotlib inline"
   ]
  },
  {
   "cell_type": "code",
   "execution_count": 3,
   "metadata": {},
   "outputs": [
    {
     "data": {
      "text/html": [
       "<div>\n",
       "<style>\n",
       "    .dataframe thead tr:only-child th {\n",
       "        text-align: right;\n",
       "    }\n",
       "\n",
       "    .dataframe thead th {\n",
       "        text-align: left;\n",
       "    }\n",
       "\n",
       "    .dataframe tbody tr th {\n",
       "        vertical-align: top;\n",
       "    }\n",
       "</style>\n",
       "<table border=\"1\" class=\"dataframe\">\n",
       "  <thead>\n",
       "    <tr style=\"text-align: right;\">\n",
       "      <th></th>\n",
       "      <th>Id</th>\n",
       "      <th>PID</th>\n",
       "      <th>MS SubClass</th>\n",
       "      <th>MS Zoning</th>\n",
       "      <th>Lot Frontage</th>\n",
       "      <th>Lot Area</th>\n",
       "      <th>Street</th>\n",
       "      <th>Alley</th>\n",
       "      <th>Lot Shape</th>\n",
       "      <th>Land Contour</th>\n",
       "      <th>...</th>\n",
       "      <th>Pool Area</th>\n",
       "      <th>Pool QC</th>\n",
       "      <th>Fence</th>\n",
       "      <th>Misc Feature</th>\n",
       "      <th>Misc Val</th>\n",
       "      <th>Mo Sold</th>\n",
       "      <th>Yr Sold</th>\n",
       "      <th>Sale Type</th>\n",
       "      <th>Sale Condition</th>\n",
       "      <th>SalePrice</th>\n",
       "    </tr>\n",
       "  </thead>\n",
       "  <tbody>\n",
       "    <tr>\n",
       "      <th>0</th>\n",
       "      <td>109</td>\n",
       "      <td>533352170</td>\n",
       "      <td>60</td>\n",
       "      <td>RL</td>\n",
       "      <td>NaN</td>\n",
       "      <td>13517</td>\n",
       "      <td>Pave</td>\n",
       "      <td>NaN</td>\n",
       "      <td>IR1</td>\n",
       "      <td>Lvl</td>\n",
       "      <td>...</td>\n",
       "      <td>0</td>\n",
       "      <td>NaN</td>\n",
       "      <td>NaN</td>\n",
       "      <td>NaN</td>\n",
       "      <td>0</td>\n",
       "      <td>3</td>\n",
       "      <td>2010</td>\n",
       "      <td>WD</td>\n",
       "      <td>Normal</td>\n",
       "      <td>130500</td>\n",
       "    </tr>\n",
       "    <tr>\n",
       "      <th>1</th>\n",
       "      <td>544</td>\n",
       "      <td>531379050</td>\n",
       "      <td>60</td>\n",
       "      <td>RL</td>\n",
       "      <td>43.0</td>\n",
       "      <td>11492</td>\n",
       "      <td>Pave</td>\n",
       "      <td>NaN</td>\n",
       "      <td>IR1</td>\n",
       "      <td>Lvl</td>\n",
       "      <td>...</td>\n",
       "      <td>0</td>\n",
       "      <td>NaN</td>\n",
       "      <td>NaN</td>\n",
       "      <td>NaN</td>\n",
       "      <td>0</td>\n",
       "      <td>4</td>\n",
       "      <td>2009</td>\n",
       "      <td>WD</td>\n",
       "      <td>Normal</td>\n",
       "      <td>220000</td>\n",
       "    </tr>\n",
       "    <tr>\n",
       "      <th>2</th>\n",
       "      <td>153</td>\n",
       "      <td>535304180</td>\n",
       "      <td>20</td>\n",
       "      <td>RL</td>\n",
       "      <td>68.0</td>\n",
       "      <td>7922</td>\n",
       "      <td>Pave</td>\n",
       "      <td>NaN</td>\n",
       "      <td>Reg</td>\n",
       "      <td>Lvl</td>\n",
       "      <td>...</td>\n",
       "      <td>0</td>\n",
       "      <td>NaN</td>\n",
       "      <td>NaN</td>\n",
       "      <td>NaN</td>\n",
       "      <td>0</td>\n",
       "      <td>1</td>\n",
       "      <td>2010</td>\n",
       "      <td>WD</td>\n",
       "      <td>Abnorml</td>\n",
       "      <td>109000</td>\n",
       "    </tr>\n",
       "    <tr>\n",
       "      <th>3</th>\n",
       "      <td>318</td>\n",
       "      <td>916386060</td>\n",
       "      <td>60</td>\n",
       "      <td>RL</td>\n",
       "      <td>73.0</td>\n",
       "      <td>9802</td>\n",
       "      <td>Pave</td>\n",
       "      <td>NaN</td>\n",
       "      <td>Reg</td>\n",
       "      <td>Lvl</td>\n",
       "      <td>...</td>\n",
       "      <td>0</td>\n",
       "      <td>NaN</td>\n",
       "      <td>NaN</td>\n",
       "      <td>NaN</td>\n",
       "      <td>0</td>\n",
       "      <td>4</td>\n",
       "      <td>2010</td>\n",
       "      <td>WD</td>\n",
       "      <td>Normal</td>\n",
       "      <td>174000</td>\n",
       "    </tr>\n",
       "    <tr>\n",
       "      <th>4</th>\n",
       "      <td>255</td>\n",
       "      <td>906425045</td>\n",
       "      <td>50</td>\n",
       "      <td>RL</td>\n",
       "      <td>82.0</td>\n",
       "      <td>14235</td>\n",
       "      <td>Pave</td>\n",
       "      <td>NaN</td>\n",
       "      <td>IR1</td>\n",
       "      <td>Lvl</td>\n",
       "      <td>...</td>\n",
       "      <td>0</td>\n",
       "      <td>NaN</td>\n",
       "      <td>NaN</td>\n",
       "      <td>NaN</td>\n",
       "      <td>0</td>\n",
       "      <td>3</td>\n",
       "      <td>2010</td>\n",
       "      <td>WD</td>\n",
       "      <td>Normal</td>\n",
       "      <td>138500</td>\n",
       "    </tr>\n",
       "  </tbody>\n",
       "</table>\n",
       "<p>5 rows × 82 columns</p>\n",
       "</div>"
      ],
      "text/plain": [
       "    Id        PID  MS SubClass MS Zoning  Lot Frontage  Lot Area Street Alley  \\\n",
       "0  109  533352170           60        RL           NaN     13517   Pave   NaN   \n",
       "1  544  531379050           60        RL          43.0     11492   Pave   NaN   \n",
       "2  153  535304180           20        RL          68.0      7922   Pave   NaN   \n",
       "3  318  916386060           60        RL          73.0      9802   Pave   NaN   \n",
       "4  255  906425045           50        RL          82.0     14235   Pave   NaN   \n",
       "\n",
       "  Lot Shape Land Contour    ...     Pool Area Pool QC Fence Misc Feature  \\\n",
       "0       IR1          Lvl    ...             0     NaN   NaN          NaN   \n",
       "1       IR1          Lvl    ...             0     NaN   NaN          NaN   \n",
       "2       Reg          Lvl    ...             0     NaN   NaN          NaN   \n",
       "3       Reg          Lvl    ...             0     NaN   NaN          NaN   \n",
       "4       IR1          Lvl    ...             0     NaN   NaN          NaN   \n",
       "\n",
       "  Misc Val Mo Sold Yr Sold Sale Type  Sale Condition  SalePrice  \n",
       "0        0       3    2010       WD           Normal     130500  \n",
       "1        0       4    2009       WD           Normal     220000  \n",
       "2        0       1    2010       WD          Abnorml     109000  \n",
       "3        0       4    2010       WD           Normal     174000  \n",
       "4        0       3    2010       WD           Normal     138500  \n",
       "\n",
       "[5 rows x 82 columns]"
      ]
     },
     "execution_count": 3,
     "metadata": {},
     "output_type": "execute_result"
    }
   ],
   "source": [
    "df = pd.read_csv(\"datasets/train.csv\")\n",
    "df.head()"
   ]
  },
  {
   "cell_type": "code",
   "execution_count": 4,
   "metadata": {},
   "outputs": [
    {
     "data": {
      "text/plain": [
       "['Id',\n",
       " 'PID',\n",
       " 'MS SubClass',\n",
       " 'MS Zoning',\n",
       " 'Lot Frontage',\n",
       " 'Lot Area',\n",
       " 'Street',\n",
       " 'Alley',\n",
       " 'Lot Shape',\n",
       " 'Land Contour',\n",
       " 'Utilities',\n",
       " 'Lot Config',\n",
       " 'Land Slope',\n",
       " 'Neighborhood',\n",
       " 'Condition 1',\n",
       " 'Condition 2',\n",
       " 'Bldg Type',\n",
       " 'House Style',\n",
       " 'Overall Qual',\n",
       " 'Overall Cond',\n",
       " 'Year Built',\n",
       " 'Year Remod/Add',\n",
       " 'Roof Style',\n",
       " 'Roof Matl',\n",
       " 'Exterior 1st',\n",
       " 'Exterior 2nd',\n",
       " 'Mas Vnr Type',\n",
       " 'Mas Vnr Area',\n",
       " 'Exter Qual',\n",
       " 'Exter Cond',\n",
       " 'Foundation',\n",
       " 'Bsmt Qual',\n",
       " 'Bsmt Cond',\n",
       " 'Bsmt Exposure',\n",
       " 'BsmtFin Type 1',\n",
       " 'BsmtFin SF 1',\n",
       " 'BsmtFin Type 2',\n",
       " 'BsmtFin SF 2',\n",
       " 'Bsmt Unf SF',\n",
       " 'Total Bsmt SF',\n",
       " 'Heating',\n",
       " 'Heating QC',\n",
       " 'Central Air',\n",
       " 'Electrical',\n",
       " '1st Flr SF',\n",
       " '2nd Flr SF',\n",
       " 'Low Qual Fin SF',\n",
       " 'Gr Liv Area',\n",
       " 'Bsmt Full Bath',\n",
       " 'Bsmt Half Bath',\n",
       " 'Full Bath',\n",
       " 'Half Bath',\n",
       " 'Bedroom AbvGr',\n",
       " 'Kitchen AbvGr',\n",
       " 'Kitchen Qual',\n",
       " 'TotRms AbvGrd',\n",
       " 'Functional',\n",
       " 'Fireplaces',\n",
       " 'Fireplace Qu',\n",
       " 'Garage Type',\n",
       " 'Garage Yr Blt',\n",
       " 'Garage Finish',\n",
       " 'Garage Cars',\n",
       " 'Garage Area',\n",
       " 'Garage Qual',\n",
       " 'Garage Cond',\n",
       " 'Paved Drive',\n",
       " 'Wood Deck SF',\n",
       " 'Open Porch SF',\n",
       " 'Enclosed Porch',\n",
       " '3Ssn Porch',\n",
       " 'Screen Porch',\n",
       " 'Pool Area',\n",
       " 'Pool QC',\n",
       " 'Fence',\n",
       " 'Misc Feature',\n",
       " 'Misc Val',\n",
       " 'Mo Sold',\n",
       " 'Yr Sold',\n",
       " 'Sale Type',\n",
       " 'Sale Condition',\n",
       " 'SalePrice']"
      ]
     },
     "execution_count": 4,
     "metadata": {},
     "output_type": "execute_result"
    }
   ],
   "source": [
    "list(df.columns)"
   ]
  },
  {
   "cell_type": "code",
   "execution_count": 5,
   "metadata": {},
   "outputs": [
    {
     "data": {
      "text/html": [
       "<div>\n",
       "<style>\n",
       "    .dataframe thead tr:only-child th {\n",
       "        text-align: right;\n",
       "    }\n",
       "\n",
       "    .dataframe thead th {\n",
       "        text-align: left;\n",
       "    }\n",
       "\n",
       "    .dataframe tbody tr th {\n",
       "        vertical-align: top;\n",
       "    }\n",
       "</style>\n",
       "<table border=\"1\" class=\"dataframe\">\n",
       "  <thead>\n",
       "    <tr style=\"text-align: right;\">\n",
       "      <th></th>\n",
       "      <th>Id</th>\n",
       "      <th>PID</th>\n",
       "      <th>MS SubClass</th>\n",
       "      <th>MS Zoning</th>\n",
       "      <th>Lot Frontage</th>\n",
       "      <th>Lot Area</th>\n",
       "      <th>Street</th>\n",
       "      <th>Alley</th>\n",
       "      <th>Lot Shape</th>\n",
       "      <th>Land Contour</th>\n",
       "      <th>...</th>\n",
       "      <th>3Ssn Porch</th>\n",
       "      <th>Screen Porch</th>\n",
       "      <th>Pool Area</th>\n",
       "      <th>Pool QC</th>\n",
       "      <th>Fence</th>\n",
       "      <th>Misc Feature</th>\n",
       "      <th>Misc Val</th>\n",
       "      <th>Mo Sold</th>\n",
       "      <th>Yr Sold</th>\n",
       "      <th>Sale Type</th>\n",
       "    </tr>\n",
       "  </thead>\n",
       "  <tbody>\n",
       "    <tr>\n",
       "      <th>0</th>\n",
       "      <td>109</td>\n",
       "      <td>533352170</td>\n",
       "      <td>60</td>\n",
       "      <td>RL</td>\n",
       "      <td>NaN</td>\n",
       "      <td>13517</td>\n",
       "      <td>Pave</td>\n",
       "      <td>NaN</td>\n",
       "      <td>IR1</td>\n",
       "      <td>Lvl</td>\n",
       "      <td>...</td>\n",
       "      <td>0</td>\n",
       "      <td>0</td>\n",
       "      <td>0</td>\n",
       "      <td>NaN</td>\n",
       "      <td>NaN</td>\n",
       "      <td>NaN</td>\n",
       "      <td>0</td>\n",
       "      <td>3</td>\n",
       "      <td>2010</td>\n",
       "      <td>WD</td>\n",
       "    </tr>\n",
       "    <tr>\n",
       "      <th>1</th>\n",
       "      <td>544</td>\n",
       "      <td>531379050</td>\n",
       "      <td>60</td>\n",
       "      <td>RL</td>\n",
       "      <td>43.0</td>\n",
       "      <td>11492</td>\n",
       "      <td>Pave</td>\n",
       "      <td>NaN</td>\n",
       "      <td>IR1</td>\n",
       "      <td>Lvl</td>\n",
       "      <td>...</td>\n",
       "      <td>0</td>\n",
       "      <td>0</td>\n",
       "      <td>0</td>\n",
       "      <td>NaN</td>\n",
       "      <td>NaN</td>\n",
       "      <td>NaN</td>\n",
       "      <td>0</td>\n",
       "      <td>4</td>\n",
       "      <td>2009</td>\n",
       "      <td>WD</td>\n",
       "    </tr>\n",
       "    <tr>\n",
       "      <th>2</th>\n",
       "      <td>153</td>\n",
       "      <td>535304180</td>\n",
       "      <td>20</td>\n",
       "      <td>RL</td>\n",
       "      <td>68.0</td>\n",
       "      <td>7922</td>\n",
       "      <td>Pave</td>\n",
       "      <td>NaN</td>\n",
       "      <td>Reg</td>\n",
       "      <td>Lvl</td>\n",
       "      <td>...</td>\n",
       "      <td>0</td>\n",
       "      <td>0</td>\n",
       "      <td>0</td>\n",
       "      <td>NaN</td>\n",
       "      <td>NaN</td>\n",
       "      <td>NaN</td>\n",
       "      <td>0</td>\n",
       "      <td>1</td>\n",
       "      <td>2010</td>\n",
       "      <td>WD</td>\n",
       "    </tr>\n",
       "    <tr>\n",
       "      <th>3</th>\n",
       "      <td>318</td>\n",
       "      <td>916386060</td>\n",
       "      <td>60</td>\n",
       "      <td>RL</td>\n",
       "      <td>73.0</td>\n",
       "      <td>9802</td>\n",
       "      <td>Pave</td>\n",
       "      <td>NaN</td>\n",
       "      <td>Reg</td>\n",
       "      <td>Lvl</td>\n",
       "      <td>...</td>\n",
       "      <td>0</td>\n",
       "      <td>0</td>\n",
       "      <td>0</td>\n",
       "      <td>NaN</td>\n",
       "      <td>NaN</td>\n",
       "      <td>NaN</td>\n",
       "      <td>0</td>\n",
       "      <td>4</td>\n",
       "      <td>2010</td>\n",
       "      <td>WD</td>\n",
       "    </tr>\n",
       "    <tr>\n",
       "      <th>4</th>\n",
       "      <td>255</td>\n",
       "      <td>906425045</td>\n",
       "      <td>50</td>\n",
       "      <td>RL</td>\n",
       "      <td>82.0</td>\n",
       "      <td>14235</td>\n",
       "      <td>Pave</td>\n",
       "      <td>NaN</td>\n",
       "      <td>IR1</td>\n",
       "      <td>Lvl</td>\n",
       "      <td>...</td>\n",
       "      <td>0</td>\n",
       "      <td>0</td>\n",
       "      <td>0</td>\n",
       "      <td>NaN</td>\n",
       "      <td>NaN</td>\n",
       "      <td>NaN</td>\n",
       "      <td>0</td>\n",
       "      <td>3</td>\n",
       "      <td>2010</td>\n",
       "      <td>WD</td>\n",
       "    </tr>\n",
       "  </tbody>\n",
       "</table>\n",
       "<p>5 rows × 80 columns</p>\n",
       "</div>"
      ],
      "text/plain": [
       "    Id        PID  MS SubClass MS Zoning  Lot Frontage  Lot Area Street Alley  \\\n",
       "0  109  533352170           60        RL           NaN     13517   Pave   NaN   \n",
       "1  544  531379050           60        RL          43.0     11492   Pave   NaN   \n",
       "2  153  535304180           20        RL          68.0      7922   Pave   NaN   \n",
       "3  318  916386060           60        RL          73.0      9802   Pave   NaN   \n",
       "4  255  906425045           50        RL          82.0     14235   Pave   NaN   \n",
       "\n",
       "  Lot Shape Land Contour    ...     3Ssn Porch Screen Porch Pool Area Pool QC  \\\n",
       "0       IR1          Lvl    ...              0            0         0     NaN   \n",
       "1       IR1          Lvl    ...              0            0         0     NaN   \n",
       "2       Reg          Lvl    ...              0            0         0     NaN   \n",
       "3       Reg          Lvl    ...              0            0         0     NaN   \n",
       "4       IR1          Lvl    ...              0            0         0     NaN   \n",
       "\n",
       "  Fence Misc Feature Misc Val Mo Sold  Yr Sold  Sale Type  \n",
       "0   NaN          NaN        0       3     2010        WD   \n",
       "1   NaN          NaN        0       4     2009        WD   \n",
       "2   NaN          NaN        0       1     2010        WD   \n",
       "3   NaN          NaN        0       4     2010        WD   \n",
       "4   NaN          NaN        0       3     2010        WD   \n",
       "\n",
       "[5 rows x 80 columns]"
      ]
     },
     "execution_count": 5,
     "metadata": {},
     "output_type": "execute_result"
    }
   ],
   "source": [
    "X = df.drop(['Sale Condition', 'SalePrice'], axis=1)\n",
    "X.head()"
   ]
  },
  {
   "cell_type": "code",
   "execution_count": 6,
   "metadata": {},
   "outputs": [
    {
     "data": {
      "text/plain": [
       "(2051, 80)"
      ]
     },
     "execution_count": 6,
     "metadata": {},
     "output_type": "execute_result"
    }
   ],
   "source": [
    "X.shape"
   ]
  },
  {
   "cell_type": "code",
   "execution_count": 7,
   "metadata": {},
   "outputs": [
    {
     "data": {
      "text/plain": [
       "0"
      ]
     },
     "execution_count": 7,
     "metadata": {},
     "output_type": "execute_result"
    }
   ],
   "source": [
    "df.SalePrice.isnull().sum()"
   ]
  },
  {
   "cell_type": "code",
   "execution_count": 8,
   "metadata": {},
   "outputs": [
    {
     "data": {
      "text/plain": [
       "0"
      ]
     },
     "execution_count": 8,
     "metadata": {},
     "output_type": "execute_result"
    }
   ],
   "source": [
    "df['Sale Condition'].isnull().sum()"
   ]
  },
  {
   "cell_type": "code",
   "execution_count": 9,
   "metadata": {},
   "outputs": [
    {
     "name": "stdout",
     "output_type": "stream",
     "text": [
      "<class 'pandas.core.frame.DataFrame'>\n",
      "RangeIndex: 2051 entries, 0 to 2050\n",
      "Data columns (total 80 columns):\n",
      "Id                 2051 non-null int64\n",
      "PID                2051 non-null int64\n",
      "MS SubClass        2051 non-null int64\n",
      "MS Zoning          2051 non-null object\n",
      "Lot Frontage       1721 non-null float64\n",
      "Lot Area           2051 non-null int64\n",
      "Street             2051 non-null object\n",
      "Alley              140 non-null object\n",
      "Lot Shape          2051 non-null object\n",
      "Land Contour       2051 non-null object\n",
      "Utilities          2051 non-null object\n",
      "Lot Config         2051 non-null object\n",
      "Land Slope         2051 non-null object\n",
      "Neighborhood       2051 non-null object\n",
      "Condition 1        2051 non-null object\n",
      "Condition 2        2051 non-null object\n",
      "Bldg Type          2051 non-null object\n",
      "House Style        2051 non-null object\n",
      "Overall Qual       2051 non-null int64\n",
      "Overall Cond       2051 non-null int64\n",
      "Year Built         2051 non-null int64\n",
      "Year Remod/Add     2051 non-null int64\n",
      "Roof Style         2051 non-null object\n",
      "Roof Matl          2051 non-null object\n",
      "Exterior 1st       2051 non-null object\n",
      "Exterior 2nd       2051 non-null object\n",
      "Mas Vnr Type       2029 non-null object\n",
      "Mas Vnr Area       2029 non-null float64\n",
      "Exter Qual         2051 non-null object\n",
      "Exter Cond         2051 non-null object\n",
      "Foundation         2051 non-null object\n",
      "Bsmt Qual          1996 non-null object\n",
      "Bsmt Cond          1996 non-null object\n",
      "Bsmt Exposure      1993 non-null object\n",
      "BsmtFin Type 1     1996 non-null object\n",
      "BsmtFin SF 1       2050 non-null float64\n",
      "BsmtFin Type 2     1995 non-null object\n",
      "BsmtFin SF 2       2050 non-null float64\n",
      "Bsmt Unf SF        2050 non-null float64\n",
      "Total Bsmt SF      2050 non-null float64\n",
      "Heating            2051 non-null object\n",
      "Heating QC         2051 non-null object\n",
      "Central Air        2051 non-null object\n",
      "Electrical         2051 non-null object\n",
      "1st Flr SF         2051 non-null int64\n",
      "2nd Flr SF         2051 non-null int64\n",
      "Low Qual Fin SF    2051 non-null int64\n",
      "Gr Liv Area        2051 non-null int64\n",
      "Bsmt Full Bath     2049 non-null float64\n",
      "Bsmt Half Bath     2049 non-null float64\n",
      "Full Bath          2051 non-null int64\n",
      "Half Bath          2051 non-null int64\n",
      "Bedroom AbvGr      2051 non-null int64\n",
      "Kitchen AbvGr      2051 non-null int64\n",
      "Kitchen Qual       2051 non-null object\n",
      "TotRms AbvGrd      2051 non-null int64\n",
      "Functional         2051 non-null object\n",
      "Fireplaces         2051 non-null int64\n",
      "Fireplace Qu       1051 non-null object\n",
      "Garage Type        1938 non-null object\n",
      "Garage Yr Blt      1937 non-null float64\n",
      "Garage Finish      1937 non-null object\n",
      "Garage Cars        2050 non-null float64\n",
      "Garage Area        2050 non-null float64\n",
      "Garage Qual        1937 non-null object\n",
      "Garage Cond        1937 non-null object\n",
      "Paved Drive        2051 non-null object\n",
      "Wood Deck SF       2051 non-null int64\n",
      "Open Porch SF      2051 non-null int64\n",
      "Enclosed Porch     2051 non-null int64\n",
      "3Ssn Porch         2051 non-null int64\n",
      "Screen Porch       2051 non-null int64\n",
      "Pool Area          2051 non-null int64\n",
      "Pool QC            9 non-null object\n",
      "Fence              400 non-null object\n",
      "Misc Feature       65 non-null object\n",
      "Misc Val           2051 non-null int64\n",
      "Mo Sold            2051 non-null int64\n",
      "Yr Sold            2051 non-null int64\n",
      "Sale Type          2051 non-null object\n",
      "dtypes: float64(11), int64(27), object(42)\n",
      "memory usage: 1.3+ MB\n"
     ]
    }
   ],
   "source": [
    "X.info()"
   ]
  },
  {
   "cell_type": "code",
   "execution_count": 10,
   "metadata": {
    "scrolled": false
   },
   "outputs": [
    {
     "data": {
      "text/plain": [
       "Lot Frontage       330\n",
       "Alley             1911\n",
       "Mas Vnr Type        22\n",
       "Mas Vnr Area        22\n",
       "Bsmt Qual           55\n",
       "Bsmt Cond           55\n",
       "Bsmt Exposure       58\n",
       "BsmtFin Type 1      55\n",
       "BsmtFin SF 1         1\n",
       "BsmtFin Type 2      56\n",
       "BsmtFin SF 2         1\n",
       "Bsmt Unf SF          1\n",
       "Total Bsmt SF        1\n",
       "Bsmt Full Bath       2\n",
       "Bsmt Half Bath       2\n",
       "Fireplace Qu      1000\n",
       "Garage Type        113\n",
       "Garage Yr Blt      114\n",
       "Garage Finish      114\n",
       "Garage Cars          1\n",
       "Garage Area          1\n",
       "Garage Qual        114\n",
       "Garage Cond        114\n",
       "Pool QC           2042\n",
       "Fence             1651\n",
       "Misc Feature      1986\n",
       "dtype: int64"
      ]
     },
     "execution_count": 10,
     "metadata": {},
     "output_type": "execute_result"
    }
   ],
   "source": [
    "X.loc[:,X.isnull().sum() > 0].isnull().sum()"
   ]
  },
  {
   "cell_type": "markdown",
   "metadata": {},
   "source": [
    "# Setting Up Columns\n",
    "\n",
    "I have determined there are several types of column types.\n",
    "\n",
    "1. Nominal Columns\n",
    "    * Categorical information, I will want to turn this into dummies.\n",
    "    \n",
    "2. Ordinal Columns\n",
    "    * Where the string is representatice of a ranking of some sort. Instead of dummies, I want to map these values to ints to represent how good they are.\n",
    "    * There are several types of rankings here, some can be grouped, others need to be treated uniquely.\n",
    "    \n",
    "3. Numeric\n",
    "    * These columns are good as is."
   ]
  },
  {
   "cell_type": "markdown",
   "metadata": {},
   "source": [
    "Additionaly, I want to ignore the columns Id, and PID because they are specific to each house and I don't want to learn from that.\n",
    "\n",
    "I will also not include the columns Alley, Fireplace Qu, Pool QC, Fence, and Misc Feature, because there are so many null values, I don't think they can be filled with any confidence in the method of filling, and therefore won't help."
   ]
  },
  {
   "cell_type": "markdown",
   "metadata": {},
   "source": [
    "### Set Up\n",
    "\n",
    "Here I initialize the lists I will use to organize columns as I go through them, the unique list will be a tuple of the column name and the dictionary I want to map the values to."
   ]
  },
  {
   "cell_type": "code",
   "execution_count": 11,
   "metadata": {
    "collapsed": true
   },
   "outputs": [],
   "source": [
    "nominal_cols = [] #for object columns with labels\n",
    "ord_cols_qual = [] #for objects where the string is a quality ranking\n",
    "ord_cols_type = [] #for objects where the string is a quality ranking\n",
    "ord_cols_unique = [] #for objects where the string is a unique ranking"
   ]
  },
  {
   "cell_type": "markdown",
   "metadata": {},
   "source": [
    "### MS SubClass"
   ]
  },
  {
   "cell_type": "code",
   "execution_count": 12,
   "metadata": {},
   "outputs": [
    {
     "name": "stdout",
     "output_type": "stream",
     "text": [
      "20     770\n",
      "60     394\n",
      "50     198\n",
      "120    132\n",
      "30     101\n",
      "70      90\n",
      "160     88\n",
      "80      86\n",
      "90      75\n",
      "190     46\n",
      "85      28\n",
      "75      16\n",
      "45      11\n",
      "180     11\n",
      "40       4\n",
      "150      1\n",
      "Name: MS SubClass, dtype: int64\n"
     ]
    }
   ],
   "source": [
    "print(X['MS SubClass'].value_counts())\n",
    "#nominal_cols.append('MS SubClass')"
   ]
  },
  {
   "cell_type": "markdown",
   "metadata": {},
   "source": [
    "### MS Zoning"
   ]
  },
  {
   "cell_type": "code",
   "execution_count": 13,
   "metadata": {
    "scrolled": true
   },
   "outputs": [
    {
     "name": "stdout",
     "output_type": "stream",
     "text": [
      "RL         1598\n",
      "RM          316\n",
      "FV          101\n",
      "C (all)      19\n",
      "RH           14\n",
      "A (agr)       2\n",
      "I (all)       1\n",
      "Name: MS Zoning, dtype: int64\n"
     ]
    }
   ],
   "source": [
    "print(X['MS Zoning'].value_counts())\n",
    "nominal_cols.append('MS Zoning')"
   ]
  },
  {
   "cell_type": "markdown",
   "metadata": {},
   "source": [
    "### Lot Frontage"
   ]
  },
  {
   "cell_type": "code",
   "execution_count": 14,
   "metadata": {},
   "outputs": [
    {
     "data": {
      "text/plain": [
       "330"
      ]
     },
     "execution_count": 14,
     "metadata": {},
     "output_type": "execute_result"
    }
   ],
   "source": [
    "#null = 0\n",
    "X['Lot Frontage'].isnull().sum()"
   ]
  },
  {
   "cell_type": "markdown",
   "metadata": {},
   "source": [
    "### Street"
   ]
  },
  {
   "cell_type": "code",
   "execution_count": 15,
   "metadata": {},
   "outputs": [
    {
     "name": "stdout",
     "output_type": "stream",
     "text": [
      "Pave    2044\n",
      "Grvl       7\n",
      "Name: Street, dtype: int64\n"
     ]
    }
   ],
   "source": [
    "#1 col dummy\n",
    "print(X['Street'].value_counts())\n",
    "nominal_cols.append('Street')"
   ]
  },
  {
   "cell_type": "markdown",
   "metadata": {},
   "source": [
    "### Alley"
   ]
  },
  {
   "cell_type": "code",
   "execution_count": 16,
   "metadata": {
    "collapsed": true
   },
   "outputs": [],
   "source": [
    "# Drop it\n",
    "#print(X['Alley'].value_counts())\n",
    "#nominal_cols.append('Alley')"
   ]
  },
  {
   "cell_type": "markdown",
   "metadata": {},
   "source": [
    "### Lot Shape"
   ]
  },
  {
   "cell_type": "code",
   "execution_count": 17,
   "metadata": {},
   "outputs": [
    {
     "data": {
      "text/plain": [
       "Reg    1295\n",
       "IR1     692\n",
       "IR2      55\n",
       "IR3       9\n",
       "Name: Lot Shape, dtype: int64"
      ]
     },
     "execution_count": 17,
     "metadata": {},
     "output_type": "execute_result"
    }
   ],
   "source": [
    "# dummies\n",
    "X['Lot Shape'].value_counts()"
   ]
  },
  {
   "cell_type": "code",
   "execution_count": 18,
   "metadata": {},
   "outputs": [
    {
     "data": {
      "text/plain": [
       "3    1295\n",
       "2     692\n",
       "1      55\n",
       "0       9\n",
       "Name: Lot Shape, dtype: int64"
      ]
     },
     "execution_count": 18,
     "metadata": {},
     "output_type": "execute_result"
    }
   ],
   "source": [
    "X['Lot Shape'].map({'IR3': 0, 'IR2': 1, 'IR1':2,'Reg':3}).value_counts()"
   ]
  },
  {
   "cell_type": "code",
   "execution_count": 19,
   "metadata": {
    "collapsed": true
   },
   "outputs": [],
   "source": [
    "ord_cols_unique.append(('Lot Shape', {'IR3': 0, 'IR2': 1, 'IR1':2,'Reg':3}))"
   ]
  },
  {
   "cell_type": "markdown",
   "metadata": {},
   "source": [
    "### Land Contour"
   ]
  },
  {
   "cell_type": "code",
   "execution_count": 20,
   "metadata": {},
   "outputs": [
    {
     "name": "stdout",
     "output_type": "stream",
     "text": [
      "Lvl    1843\n",
      "HLS      85\n",
      "Bnk      80\n",
      "Low      43\n",
      "Name: Land Contour, dtype: int64\n"
     ]
    }
   ],
   "source": [
    "#dummies\n",
    "print(X['Land Contour'].value_counts())\n",
    "nominal_cols.append('Land Contour')"
   ]
  },
  {
   "cell_type": "markdown",
   "metadata": {},
   "source": [
    "### Utilities"
   ]
  },
  {
   "cell_type": "code",
   "execution_count": 21,
   "metadata": {},
   "outputs": [
    {
     "data": {
      "text/plain": [
       "AllPub    2049\n",
       "NoSeWa       1\n",
       "NoSewr       1\n",
       "Name: Utilities, dtype: int64"
      ]
     },
     "execution_count": 21,
     "metadata": {},
     "output_type": "execute_result"
    }
   ],
   "source": [
    "#also has ELO\n",
    "#dummies\n",
    "X['Utilities'].value_counts()"
   ]
  },
  {
   "cell_type": "code",
   "execution_count": 22,
   "metadata": {},
   "outputs": [
    {
     "data": {
      "text/plain": [
       "3    2049\n",
       "1       1\n",
       "2       1\n",
       "Name: Utilities, dtype: int64"
      ]
     },
     "execution_count": 22,
     "metadata": {},
     "output_type": "execute_result"
    }
   ],
   "source": [
    "X['Utilities'].map({'ELO':0,'NoSeWa':1,'NoSewr':2,'AllPub':3}).value_counts()"
   ]
  },
  {
   "cell_type": "code",
   "execution_count": 23,
   "metadata": {
    "collapsed": true
   },
   "outputs": [],
   "source": [
    "ord_cols_unique.append(('Utilities', {'ELO':0,'NoSeWa':1,'NoSewr':2,'AllPub':3}))"
   ]
  },
  {
   "cell_type": "markdown",
   "metadata": {},
   "source": [
    "### Lot Config"
   ]
  },
  {
   "cell_type": "code",
   "execution_count": 24,
   "metadata": {},
   "outputs": [
    {
     "name": "stdout",
     "output_type": "stream",
     "text": [
      "Inside     1503\n",
      "Corner      348\n",
      "CulDSac     131\n",
      "FR2          60\n",
      "FR3           9\n",
      "Name: Lot Config, dtype: int64\n"
     ]
    }
   ],
   "source": [
    "#dummies\n",
    "print(X['Lot Config'].value_counts())\n",
    "nominal_cols.append('Lot Config')"
   ]
  },
  {
   "cell_type": "markdown",
   "metadata": {},
   "source": [
    "### Land Slope"
   ]
  },
  {
   "cell_type": "code",
   "execution_count": 25,
   "metadata": {},
   "outputs": [
    {
     "data": {
      "text/plain": [
       "Gtl    1953\n",
       "Mod      88\n",
       "Sev      10\n",
       "Name: Land Slope, dtype: int64"
      ]
     },
     "execution_count": 25,
     "metadata": {},
     "output_type": "execute_result"
    }
   ],
   "source": [
    "#dummies\n",
    "X['Land Slope'].value_counts()"
   ]
  },
  {
   "cell_type": "code",
   "execution_count": 26,
   "metadata": {},
   "outputs": [
    {
     "data": {
      "text/plain": [
       "2    1953\n",
       "1      88\n",
       "0      10\n",
       "Name: Land Slope, dtype: int64"
      ]
     },
     "execution_count": 26,
     "metadata": {},
     "output_type": "execute_result"
    }
   ],
   "source": [
    "X['Land Slope'].map({'Sev':0,'Mod':1,'Gtl':2}).value_counts()"
   ]
  },
  {
   "cell_type": "code",
   "execution_count": 27,
   "metadata": {
    "collapsed": true
   },
   "outputs": [],
   "source": [
    "ord_cols_unique.append(('Land Slope', {'Sev':0,'Mod':1,'Gtl':2}))"
   ]
  },
  {
   "cell_type": "markdown",
   "metadata": {},
   "source": [
    "### Neighborhood"
   ]
  },
  {
   "cell_type": "code",
   "execution_count": 28,
   "metadata": {},
   "outputs": [
    {
     "name": "stdout",
     "output_type": "stream",
     "text": [
      "NAmes      310\n",
      "CollgCr    180\n",
      "OldTown    163\n",
      "Edwards    143\n",
      "Somerst    130\n",
      "NridgHt    122\n",
      "Gilbert    116\n",
      "Sawyer     111\n",
      "NWAmes      87\n",
      "SawyerW     87\n",
      "Mitchel     82\n",
      "BrkSide     76\n",
      "Crawfor     71\n",
      "IDOTRR      69\n",
      "NoRidge     48\n",
      "Timber      48\n",
      "StoneBr     38\n",
      "SWISU       32\n",
      "ClearCr     27\n",
      "MeadowV     24\n",
      "Blmngtn     22\n",
      "BrDale      19\n",
      "Veenker     17\n",
      "NPkVill     17\n",
      "Blueste      6\n",
      "Greens       3\n",
      "GrnHill      2\n",
      "Landmrk      1\n",
      "Name: Neighborhood, dtype: int64\n"
     ]
    }
   ],
   "source": [
    "#for later\n",
    "print(X['Neighborhood'].value_counts())\n",
    "nominal_cols.append('Neighborhood')"
   ]
  },
  {
   "cell_type": "markdown",
   "metadata": {},
   "source": [
    "### Condition 1"
   ]
  },
  {
   "cell_type": "code",
   "execution_count": 29,
   "metadata": {},
   "outputs": [
    {
     "name": "stdout",
     "output_type": "stream",
     "text": [
      "Norm      1767\n",
      "Feedr      109\n",
      "Artery      70\n",
      "RRAn        36\n",
      "PosN        27\n",
      "RRAe        21\n",
      "PosA        12\n",
      "RRNn         6\n",
      "RRNe         3\n",
      "Name: Condition 1, dtype: int64\n"
     ]
    }
   ],
   "source": [
    "#dummies\n",
    "print(X['Condition 1'].value_counts())\n",
    "nominal_cols.append('Condition 1')"
   ]
  },
  {
   "cell_type": "markdown",
   "metadata": {},
   "source": [
    "### Condition 2"
   ]
  },
  {
   "cell_type": "code",
   "execution_count": 30,
   "metadata": {},
   "outputs": [
    {
     "name": "stdout",
     "output_type": "stream",
     "text": [
      "Norm      2025\n",
      "Feedr       11\n",
      "Artery       5\n",
      "PosA         3\n",
      "PosN         3\n",
      "RRNn         2\n",
      "RRAe         1\n",
      "RRAn         1\n",
      "Name: Condition 2, dtype: int64\n"
     ]
    }
   ],
   "source": [
    "#dummies\n",
    "print(X['Condition 2'].value_counts())\n",
    "nominal_cols.append('Condition 2')"
   ]
  },
  {
   "cell_type": "markdown",
   "metadata": {},
   "source": [
    "### Bldg Type"
   ]
  },
  {
   "cell_type": "code",
   "execution_count": 31,
   "metadata": {},
   "outputs": [
    {
     "name": "stdout",
     "output_type": "stream",
     "text": [
      "1Fam      1700\n",
      "TwnhsE     161\n",
      "Duplex      75\n",
      "Twnhs       69\n",
      "2fmCon      46\n",
      "Name: Bldg Type, dtype: int64\n"
     ]
    }
   ],
   "source": [
    "#dummies\n",
    "print(X['Bldg Type'].value_counts())\n",
    "nominal_cols.append('Bldg Type')"
   ]
  },
  {
   "cell_type": "markdown",
   "metadata": {},
   "source": [
    "### House Style"
   ]
  },
  {
   "cell_type": "code",
   "execution_count": 32,
   "metadata": {},
   "outputs": [
    {
     "name": "stdout",
     "output_type": "stream",
     "text": [
      "1Story    1059\n",
      "2Story     598\n",
      "1.5Fin     218\n",
      "SLvl        94\n",
      "SFoyer      50\n",
      "2.5Unf      14\n",
      "1.5Unf      12\n",
      "2.5Fin       6\n",
      "Name: House Style, dtype: int64\n"
     ]
    }
   ],
   "source": [
    "#dummies\n",
    "print(X['House Style'].value_counts())\n",
    "nominal_cols.append('House Style')"
   ]
  },
  {
   "cell_type": "markdown",
   "metadata": {},
   "source": [
    "### Roof Style"
   ]
  },
  {
   "cell_type": "code",
   "execution_count": 33,
   "metadata": {},
   "outputs": [
    {
     "name": "stdout",
     "output_type": "stream",
     "text": [
      "Gable      1619\n",
      "Hip         397\n",
      "Flat         13\n",
      "Gambrel      12\n",
      "Mansard       7\n",
      "Shed          3\n",
      "Name: Roof Style, dtype: int64\n"
     ]
    }
   ],
   "source": [
    "#dummies\n",
    "print(X['Roof Style'].value_counts())\n",
    "nominal_cols.append('Roof Style')"
   ]
  },
  {
   "cell_type": "markdown",
   "metadata": {},
   "source": [
    "### Roof Matl"
   ]
  },
  {
   "cell_type": "code",
   "execution_count": 34,
   "metadata": {},
   "outputs": [
    {
     "name": "stdout",
     "output_type": "stream",
     "text": [
      "CompShg    2025\n",
      "Tar&Grv      15\n",
      "WdShngl       5\n",
      "WdShake       4\n",
      "ClyTile       1\n",
      "Membran       1\n",
      "Name: Roof Matl, dtype: int64\n"
     ]
    }
   ],
   "source": [
    "#dummies\n",
    "print(X['Roof Matl'].value_counts())\n",
    "nominal_cols.append('Roof Matl')"
   ]
  },
  {
   "cell_type": "markdown",
   "metadata": {},
   "source": [
    "### Exterior 1st"
   ]
  },
  {
   "cell_type": "code",
   "execution_count": 35,
   "metadata": {},
   "outputs": [
    {
     "name": "stdout",
     "output_type": "stream",
     "text": [
      "VinylSd    724\n",
      "MetalSd    331\n",
      "HdBoard    300\n",
      "Wd Sdng    276\n",
      "Plywood    152\n",
      "CemntBd     90\n",
      "BrkFace     64\n",
      "WdShing     45\n",
      "AsbShng     33\n",
      "Stucco      27\n",
      "BrkComm      3\n",
      "CBlock       2\n",
      "Stone        2\n",
      "AsphShn      1\n",
      "ImStucc      1\n",
      "Name: Exterior 1st, dtype: int64\n"
     ]
    }
   ],
   "source": [
    "#dummies\n",
    "print(X['Exterior 1st'].value_counts())\n",
    "nominal_cols.append('Exterior 1st')"
   ]
  },
  {
   "cell_type": "markdown",
   "metadata": {},
   "source": [
    "### Exterior 2nd"
   ]
  },
  {
   "cell_type": "code",
   "execution_count": 36,
   "metadata": {},
   "outputs": [
    {
     "name": "stdout",
     "output_type": "stream",
     "text": [
      "VinylSd    721\n",
      "MetalSd    324\n",
      "HdBoard    275\n",
      "Wd Sdng    262\n",
      "Plywood    185\n",
      "CmentBd     90\n",
      "Wd Shng     63\n",
      "BrkFace     34\n",
      "Stucco      30\n",
      "AsbShng     28\n",
      "Brk Cmn     17\n",
      "ImStucc     11\n",
      "Stone        6\n",
      "AsphShn      3\n",
      "CBlock       2\n",
      "Name: Exterior 2nd, dtype: int64\n"
     ]
    }
   ],
   "source": [
    "#dummies\n",
    "print(X['Exterior 2nd'].value_counts())\n",
    "nominal_cols.append('Exterior 2nd')"
   ]
  },
  {
   "cell_type": "markdown",
   "metadata": {},
   "source": [
    "### Mas Vnr Type"
   ]
  },
  {
   "cell_type": "code",
   "execution_count": 37,
   "metadata": {},
   "outputs": [
    {
     "name": "stdout",
     "output_type": "stream",
     "text": [
      "None       1218\n",
      "BrkFace     630\n",
      "Stone       168\n",
      "BrkCmn       13\n",
      "Name: Mas Vnr Type, dtype: int64\n"
     ]
    }
   ],
   "source": [
    "#dummies\n",
    "print(X['Mas Vnr Type'].value_counts())\n",
    "nominal_cols.append('Mas Vnr Type')"
   ]
  },
  {
   "cell_type": "markdown",
   "metadata": {},
   "source": [
    "### Exter Qual"
   ]
  },
  {
   "cell_type": "code",
   "execution_count": 38,
   "metadata": {},
   "outputs": [
    {
     "name": "stdout",
     "output_type": "stream",
     "text": [
      "TA    1247\n",
      "Gd     697\n",
      "Ex      81\n",
      "Fa      26\n",
      "Name: Exter Qual, dtype: int64\n"
     ]
    }
   ],
   "source": [
    "print(X['Exter Qual'].value_counts())\n",
    "ord_cols_qual.append('Exter Qual')"
   ]
  },
  {
   "cell_type": "markdown",
   "metadata": {},
   "source": [
    "### Exter Cond"
   ]
  },
  {
   "cell_type": "code",
   "execution_count": 39,
   "metadata": {},
   "outputs": [
    {
     "name": "stdout",
     "output_type": "stream",
     "text": [
      "TA    1778\n",
      "Gd     215\n",
      "Fa      49\n",
      "Ex       7\n",
      "Po       2\n",
      "Name: Exter Cond, dtype: int64\n"
     ]
    }
   ],
   "source": [
    "print(X['Exter Cond'].value_counts())\n",
    "ord_cols_qual.append('Exter Cond')"
   ]
  },
  {
   "cell_type": "markdown",
   "metadata": {},
   "source": [
    "### Foundation"
   ]
  },
  {
   "cell_type": "code",
   "execution_count": 40,
   "metadata": {},
   "outputs": [
    {
     "name": "stdout",
     "output_type": "stream",
     "text": [
      "PConc     926\n",
      "CBlock    863\n",
      "BrkTil    221\n",
      "Slab       34\n",
      "Stone       5\n",
      "Wood        2\n",
      "Name: Foundation, dtype: int64\n"
     ]
    }
   ],
   "source": [
    "#dummies\n",
    "print(X['Foundation'].value_counts())\n",
    "nominal_cols.append('Foundation')"
   ]
  },
  {
   "cell_type": "markdown",
   "metadata": {},
   "source": [
    "### Bsmt Qual"
   ]
  },
  {
   "cell_type": "code",
   "execution_count": 41,
   "metadata": {},
   "outputs": [
    {
     "name": "stdout",
     "output_type": "stream",
     "text": [
      "TA    887\n",
      "Gd    864\n",
      "Ex    184\n",
      "Fa     60\n",
      "Po      1\n",
      "Name: Bsmt Qual, dtype: int64\n"
     ]
    }
   ],
   "source": [
    "#maybe convert to middle of range? otherwise dumbos\n",
    "print(X['Bsmt Qual'].value_counts())\n",
    "ord_cols_qual.append('Bsmt Qual')"
   ]
  },
  {
   "cell_type": "markdown",
   "metadata": {},
   "source": [
    "### Bsmt Cond"
   ]
  },
  {
   "cell_type": "code",
   "execution_count": 42,
   "metadata": {},
   "outputs": [
    {
     "name": "stdout",
     "output_type": "stream",
     "text": [
      "TA    1834\n",
      "Gd      89\n",
      "Fa      65\n",
      "Po       5\n",
      "Ex       3\n",
      "Name: Bsmt Cond, dtype: int64\n"
     ]
    }
   ],
   "source": [
    "#dummies\n",
    "print(X['Bsmt Cond'].value_counts())\n",
    "ord_cols_qual.append('Bsmt Cond')"
   ]
  },
  {
   "cell_type": "markdown",
   "metadata": {},
   "source": [
    "### Bsmt Exposure"
   ]
  },
  {
   "cell_type": "code",
   "execution_count": 43,
   "metadata": {},
   "outputs": [
    {
     "name": "stdout",
     "output_type": "stream",
     "text": [
      "No    1339\n",
      "Av     288\n",
      "Gd     203\n",
      "Mn     163\n",
      "Name: Bsmt Exposure, dtype: int64\n"
     ]
    }
   ],
   "source": [
    "#dumbo the clown\n",
    "print(X['Bsmt Exposure'].value_counts())"
   ]
  },
  {
   "cell_type": "code",
   "execution_count": 44,
   "metadata": {},
   "outputs": [
    {
     "data": {
      "text/plain": [
       "1.0    1339\n",
       "3.0     288\n",
       "4.0     203\n",
       "2.0     163\n",
       "Name: Bsmt Exposure, dtype: int64"
      ]
     },
     "execution_count": 44,
     "metadata": {},
     "output_type": "execute_result"
    }
   ],
   "source": [
    "X['Bsmt Exposure'].map({'NA':0,'No':1,'Mn':2,'Av':3,'Gd':4}).value_counts()"
   ]
  },
  {
   "cell_type": "code",
   "execution_count": 45,
   "metadata": {
    "collapsed": true
   },
   "outputs": [],
   "source": [
    "ord_cols_unique.append(('Bsmt Exposure', {'NA':0,'No':1,'Mn':2,'Av':3,'Gd':4}))"
   ]
  },
  {
   "cell_type": "markdown",
   "metadata": {},
   "source": [
    "### BsmtFin Type 1"
   ]
  },
  {
   "cell_type": "code",
   "execution_count": 46,
   "metadata": {},
   "outputs": [
    {
     "name": "stdout",
     "output_type": "stream",
     "text": [
      "GLQ    615\n",
      "Unf    603\n",
      "ALQ    293\n",
      "BLQ    200\n",
      "Rec    183\n",
      "LwQ    102\n",
      "Name: BsmtFin Type 1, dtype: int64\n"
     ]
    }
   ],
   "source": [
    "print(X['BsmtFin Type 1'].value_counts())\n",
    "ord_cols_type.append('BsmtFin Type 1')"
   ]
  },
  {
   "cell_type": "markdown",
   "metadata": {},
   "source": [
    "### BsmtFin Type 2"
   ]
  },
  {
   "cell_type": "code",
   "execution_count": 47,
   "metadata": {},
   "outputs": [
    {
     "name": "stdout",
     "output_type": "stream",
     "text": [
      "Unf    1749\n",
      "Rec      80\n",
      "LwQ      60\n",
      "BLQ      48\n",
      "ALQ      35\n",
      "GLQ      23\n",
      "Name: BsmtFin Type 2, dtype: int64\n"
     ]
    }
   ],
   "source": [
    "print(X['BsmtFin Type 2'].value_counts())\n",
    "ord_cols_type.append('BsmtFin Type 2')"
   ]
  },
  {
   "cell_type": "markdown",
   "metadata": {},
   "source": [
    "### Heating"
   ]
  },
  {
   "cell_type": "code",
   "execution_count": 48,
   "metadata": {},
   "outputs": [
    {
     "name": "stdout",
     "output_type": "stream",
     "text": [
      "GasA    2018\n",
      "GasW      20\n",
      "Wall       6\n",
      "Grav       5\n",
      "OthW       2\n",
      "Name: Heating, dtype: int64\n"
     ]
    }
   ],
   "source": [
    "#dummies\n",
    "print(X['Heating'].value_counts())\n",
    "nominal_cols.append('Heating')"
   ]
  },
  {
   "cell_type": "markdown",
   "metadata": {},
   "source": [
    "### Heating QC"
   ]
  },
  {
   "cell_type": "code",
   "execution_count": 49,
   "metadata": {},
   "outputs": [
    {
     "name": "stdout",
     "output_type": "stream",
     "text": [
      "Ex    1065\n",
      "TA     597\n",
      "Gd     319\n",
      "Fa      67\n",
      "Po       3\n",
      "Name: Heating QC, dtype: int64\n"
     ]
    }
   ],
   "source": [
    "print(X['Heating QC'].value_counts())\n",
    "ord_cols_qual.append('Heating QC')"
   ]
  },
  {
   "cell_type": "markdown",
   "metadata": {},
   "source": [
    "### Central Air"
   ]
  },
  {
   "cell_type": "code",
   "execution_count": 50,
   "metadata": {},
   "outputs": [
    {
     "data": {
      "text/plain": [
       "Y    1910\n",
       "N     141\n",
       "Name: Central Air, dtype: int64"
      ]
     },
     "execution_count": 50,
     "metadata": {},
     "output_type": "execute_result"
    }
   ],
   "source": [
    "X['Central Air'].value_counts()"
   ]
  },
  {
   "cell_type": "code",
   "execution_count": 51,
   "metadata": {},
   "outputs": [
    {
     "data": {
      "text/plain": [
       "1    1910\n",
       "0     141\n",
       "Name: Central Air, dtype: int64"
      ]
     },
     "execution_count": 51,
     "metadata": {},
     "output_type": "execute_result"
    }
   ],
   "source": [
    "X['Central Air'].map({'N':0,'Y':1}).value_counts()"
   ]
  },
  {
   "cell_type": "code",
   "execution_count": 52,
   "metadata": {
    "collapsed": true
   },
   "outputs": [],
   "source": [
    "ord_cols_unique.append(('Central Air', {'N':0,'Y':1}))"
   ]
  },
  {
   "cell_type": "markdown",
   "metadata": {},
   "source": [
    "### Electrical"
   ]
  },
  {
   "cell_type": "code",
   "execution_count": 53,
   "metadata": {},
   "outputs": [
    {
     "data": {
      "text/plain": [
       "SBrkr    1868\n",
       "FuseA     140\n",
       "FuseF      35\n",
       "FuseP       7\n",
       "Mix         1\n",
       "Name: Electrical, dtype: int64"
      ]
     },
     "execution_count": 53,
     "metadata": {},
     "output_type": "execute_result"
    }
   ],
   "source": [
    "X['Electrical'].value_counts()"
   ]
  },
  {
   "cell_type": "code",
   "execution_count": 54,
   "metadata": {},
   "outputs": [
    {
     "data": {
      "text/plain": [
       "4    1868\n",
       "3     140\n",
       "2      35\n",
       "1       7\n",
       "0       1\n",
       "Name: Electrical, dtype: int64"
      ]
     },
     "execution_count": 54,
     "metadata": {},
     "output_type": "execute_result"
    }
   ],
   "source": [
    "X['Electrical'].map({'Mix':0,'FuseP':1,'FuseF':2,'FuseA':3,'SBrkr':4}).value_counts()"
   ]
  },
  {
   "cell_type": "code",
   "execution_count": 55,
   "metadata": {
    "collapsed": true
   },
   "outputs": [],
   "source": [
    "ord_cols_unique.append(('Electrical', {'Mix':0,'FuseP':1,'FuseF':2,'FuseA':3,'SBrkr':4}))"
   ]
  },
  {
   "cell_type": "markdown",
   "metadata": {},
   "source": [
    "### Kitchen Qual"
   ]
  },
  {
   "cell_type": "code",
   "execution_count": 56,
   "metadata": {},
   "outputs": [
    {
     "name": "stdout",
     "output_type": "stream",
     "text": [
      "TA    1047\n",
      "Gd     806\n",
      "Ex     151\n",
      "Fa      47\n",
      "Name: Kitchen Qual, dtype: int64\n"
     ]
    }
   ],
   "source": [
    "print(X['Kitchen Qual'].value_counts())\n",
    "ord_cols_qual.append('Kitchen Qual')"
   ]
  },
  {
   "cell_type": "markdown",
   "metadata": {},
   "source": [
    "### Functional"
   ]
  },
  {
   "cell_type": "code",
   "execution_count": 57,
   "metadata": {},
   "outputs": [
    {
     "data": {
      "text/plain": [
       "Typ     1915\n",
       "Min2      42\n",
       "Min1      42\n",
       "Mod       29\n",
       "Maj1      12\n",
       "Maj2       7\n",
       "Sev        2\n",
       "Sal        2\n",
       "Name: Functional, dtype: int64"
      ]
     },
     "execution_count": 57,
     "metadata": {},
     "output_type": "execute_result"
    }
   ],
   "source": [
    "X['Functional'].value_counts()"
   ]
  },
  {
   "cell_type": "code",
   "execution_count": 58,
   "metadata": {},
   "outputs": [
    {
     "data": {
      "text/plain": [
       "7    1915\n",
       "5      42\n",
       "6      42\n",
       "4      29\n",
       "3      12\n",
       "2       7\n",
       "1       2\n",
       "0       2\n",
       "Name: Functional, dtype: int64"
      ]
     },
     "execution_count": 58,
     "metadata": {},
     "output_type": "execute_result"
    }
   ],
   "source": [
    "X['Functional'].map({'Sal':0,'Sev':1,'Maj2':2,'Maj1':3,'Mod':4,'Min2':5,'Min1':6,'Typ':7}).value_counts()"
   ]
  },
  {
   "cell_type": "code",
   "execution_count": 59,
   "metadata": {
    "collapsed": true
   },
   "outputs": [],
   "source": [
    "ord_cols_unique.append(('Functional', {'Sal':0,'Sev':1,'Maj2':2,'Maj1':3,'Mod':4,'Min2':5,'Min1':6,'Typ':7}))"
   ]
  },
  {
   "cell_type": "markdown",
   "metadata": {},
   "source": [
    "### Fireplace Qu"
   ]
  },
  {
   "cell_type": "code",
   "execution_count": 60,
   "metadata": {
    "collapsed": true
   },
   "outputs": [],
   "source": [
    "#Drop\n",
    "#print(X['Fireplace Qu'].value_counts())\n",
    "#ord_cols_qual.append('Fireplace Qu')"
   ]
  },
  {
   "cell_type": "markdown",
   "metadata": {},
   "source": [
    "### Garage Type"
   ]
  },
  {
   "cell_type": "code",
   "execution_count": 61,
   "metadata": {},
   "outputs": [
    {
     "name": "stdout",
     "output_type": "stream",
     "text": [
      "Attchd     1213\n",
      "Detchd      536\n",
      "BuiltIn     132\n",
      "Basment      27\n",
      "2Types       19\n",
      "CarPort      11\n",
      "Name: Garage Type, dtype: int64\n"
     ]
    }
   ],
   "source": [
    "print(X['Garage Type'].value_counts())\n",
    "nominal_cols.append('Garage Type')"
   ]
  },
  {
   "cell_type": "markdown",
   "metadata": {},
   "source": [
    "### Garage Finish"
   ]
  },
  {
   "cell_type": "code",
   "execution_count": 62,
   "metadata": {},
   "outputs": [
    {
     "data": {
      "text/plain": [
       "Unf    849\n",
       "RFn    579\n",
       "Fin    509\n",
       "Name: Garage Finish, dtype: int64"
      ]
     },
     "execution_count": 62,
     "metadata": {},
     "output_type": "execute_result"
    }
   ],
   "source": [
    "X['Garage Finish'].value_counts()"
   ]
  },
  {
   "cell_type": "code",
   "execution_count": 63,
   "metadata": {},
   "outputs": [
    {
     "data": {
      "text/plain": [
       "1.0    849\n",
       "2.0    579\n",
       "3.0    509\n",
       "Name: Garage Finish, dtype: int64"
      ]
     },
     "execution_count": 63,
     "metadata": {},
     "output_type": "execute_result"
    }
   ],
   "source": [
    "X['Garage Finish'].map({'NA':0,'Unf':1,'RFn':2,'Fin':3}).value_counts()"
   ]
  },
  {
   "cell_type": "code",
   "execution_count": 64,
   "metadata": {
    "collapsed": true
   },
   "outputs": [],
   "source": [
    "ord_cols_unique.append(('Garage Finish', {'NA':0,'Unf':1,'RFn':2,'Fin':3}))"
   ]
  },
  {
   "cell_type": "markdown",
   "metadata": {},
   "source": [
    "### Garage Qual"
   ]
  },
  {
   "cell_type": "code",
   "execution_count": 65,
   "metadata": {},
   "outputs": [
    {
     "name": "stdout",
     "output_type": "stream",
     "text": [
      "TA    1832\n",
      "Fa      82\n",
      "Gd      18\n",
      "Ex       3\n",
      "Po       2\n",
      "Name: Garage Qual, dtype: int64\n"
     ]
    }
   ],
   "source": [
    "print(X['Garage Qual'].value_counts())\n",
    "ord_cols_qual.append('Garage Qual')"
   ]
  },
  {
   "cell_type": "markdown",
   "metadata": {},
   "source": [
    "### Garage Cond"
   ]
  },
  {
   "cell_type": "code",
   "execution_count": 66,
   "metadata": {},
   "outputs": [
    {
     "name": "stdout",
     "output_type": "stream",
     "text": [
      "TA    1868\n",
      "Fa      47\n",
      "Gd      12\n",
      "Po       8\n",
      "Ex       2\n",
      "Name: Garage Cond, dtype: int64\n"
     ]
    }
   ],
   "source": [
    "print(X['Garage Cond'].value_counts())\n",
    "ord_cols_qual.append('Garage Cond')"
   ]
  },
  {
   "cell_type": "markdown",
   "metadata": {},
   "source": [
    "### Paved Drive"
   ]
  },
  {
   "cell_type": "code",
   "execution_count": 67,
   "metadata": {},
   "outputs": [
    {
     "data": {
      "text/plain": [
       "Y    1861\n",
       "N     151\n",
       "P      39\n",
       "Name: Paved Drive, dtype: int64"
      ]
     },
     "execution_count": 67,
     "metadata": {},
     "output_type": "execute_result"
    }
   ],
   "source": [
    "X['Paved Drive'].value_counts()"
   ]
  },
  {
   "cell_type": "code",
   "execution_count": 68,
   "metadata": {},
   "outputs": [
    {
     "data": {
      "text/plain": [
       "2    1861\n",
       "0     151\n",
       "1      39\n",
       "Name: Paved Drive, dtype: int64"
      ]
     },
     "execution_count": 68,
     "metadata": {},
     "output_type": "execute_result"
    }
   ],
   "source": [
    "X['Paved Drive'].map({'N':0,'P':1,'Y':2}).value_counts()"
   ]
  },
  {
   "cell_type": "code",
   "execution_count": 69,
   "metadata": {
    "collapsed": true
   },
   "outputs": [],
   "source": [
    "ord_cols_unique.append(('Paved Drive', {'N':0,'P':1,'Y':2}))"
   ]
  },
  {
   "cell_type": "markdown",
   "metadata": {},
   "source": [
    "### Pool QC"
   ]
  },
  {
   "cell_type": "code",
   "execution_count": 70,
   "metadata": {
    "collapsed": true
   },
   "outputs": [],
   "source": [
    "#drop\n",
    "#print(X['Pool QC'].value_counts())\n",
    "#ord_cols_qual.append('Pool QC')"
   ]
  },
  {
   "cell_type": "markdown",
   "metadata": {},
   "source": [
    "### Fence"
   ]
  },
  {
   "cell_type": "code",
   "execution_count": 71,
   "metadata": {
    "collapsed": true
   },
   "outputs": [],
   "source": [
    "#drop\n",
    "#X['Fence'].value_counts()"
   ]
  },
  {
   "cell_type": "code",
   "execution_count": 72,
   "metadata": {
    "collapsed": true
   },
   "outputs": [],
   "source": [
    "#X['Fence'].map({'NA':0,'MnWw':1,'GdWo':2,'MnPrv':3,'GdPrv':4}).value_counts()"
   ]
  },
  {
   "cell_type": "code",
   "execution_count": 73,
   "metadata": {
    "collapsed": true
   },
   "outputs": [],
   "source": [
    "#ord_cols_unique.append(('Fence', {'NA':0,'MnWw':1,'GdWo':2,'MnPrv':3,'GdPrv':4}))"
   ]
  },
  {
   "cell_type": "markdown",
   "metadata": {},
   "source": [
    "### Misc Feature"
   ]
  },
  {
   "cell_type": "code",
   "execution_count": 74,
   "metadata": {
    "collapsed": true
   },
   "outputs": [],
   "source": [
    "#drop\n",
    "#print(X['Misc Feature'].value_counts())\n",
    "#nominal_cols.append('Misc Feature')"
   ]
  },
  {
   "cell_type": "markdown",
   "metadata": {},
   "source": [
    "### Sale Type"
   ]
  },
  {
   "cell_type": "code",
   "execution_count": 75,
   "metadata": {},
   "outputs": [
    {
     "name": "stdout",
     "output_type": "stream",
     "text": [
      "WD       1781\n",
      "New       160\n",
      "COD        63\n",
      "ConLD      17\n",
      "CWD        10\n",
      "ConLI       7\n",
      "ConLw       5\n",
      "Oth         4\n",
      "Con         4\n",
      "Name: Sale Type, dtype: int64\n"
     ]
    }
   ],
   "source": [
    "print(X['Sale Type'].value_counts())\n",
    "nominal_cols.append('Sale Type')"
   ]
  },
  {
   "cell_type": "markdown",
   "metadata": {},
   "source": [
    "### Sanity Check 1\n",
    "\n",
    "Here I look at the columns that I have addded to my lists in order to make sure that everything is organized the way I want it, and that every column I want accounted for is present."
   ]
  },
  {
   "cell_type": "code",
   "execution_count": 76,
   "metadata": {},
   "outputs": [
    {
     "name": "stdout",
     "output_type": "stream",
     "text": [
      "8\n"
     ]
    },
    {
     "data": {
      "text/plain": [
       "['Exter Qual',\n",
       " 'Exter Cond',\n",
       " 'Bsmt Qual',\n",
       " 'Bsmt Cond',\n",
       " 'Heating QC',\n",
       " 'Kitchen Qual',\n",
       " 'Garage Qual',\n",
       " 'Garage Cond']"
      ]
     },
     "execution_count": 76,
     "metadata": {},
     "output_type": "execute_result"
    }
   ],
   "source": [
    "print(len(ord_cols_qual))\n",
    "ord_cols_qual"
   ]
  },
  {
   "cell_type": "code",
   "execution_count": 77,
   "metadata": {},
   "outputs": [
    {
     "name": "stdout",
     "output_type": "stream",
     "text": [
      "2\n"
     ]
    },
    {
     "data": {
      "text/plain": [
       "['BsmtFin Type 1', 'BsmtFin Type 2']"
      ]
     },
     "execution_count": 77,
     "metadata": {},
     "output_type": "execute_result"
    }
   ],
   "source": [
    "print(len(ord_cols_type))\n",
    "ord_cols_type"
   ]
  },
  {
   "cell_type": "code",
   "execution_count": 78,
   "metadata": {},
   "outputs": [
    {
     "name": "stdout",
     "output_type": "stream",
     "text": [
      "9\n"
     ]
    },
    {
     "data": {
      "text/plain": [
       "[('Lot Shape', {'IR1': 2, 'IR2': 1, 'IR3': 0, 'Reg': 3}),\n",
       " ('Utilities', {'AllPub': 3, 'ELO': 0, 'NoSeWa': 1, 'NoSewr': 2}),\n",
       " ('Land Slope', {'Gtl': 2, 'Mod': 1, 'Sev': 0}),\n",
       " ('Bsmt Exposure', {'Av': 3, 'Gd': 4, 'Mn': 2, 'NA': 0, 'No': 1}),\n",
       " ('Central Air', {'N': 0, 'Y': 1}),\n",
       " ('Electrical', {'FuseA': 3, 'FuseF': 2, 'FuseP': 1, 'Mix': 0, 'SBrkr': 4}),\n",
       " ('Functional',\n",
       "  {'Maj1': 3,\n",
       "   'Maj2': 2,\n",
       "   'Min1': 6,\n",
       "   'Min2': 5,\n",
       "   'Mod': 4,\n",
       "   'Sal': 0,\n",
       "   'Sev': 1,\n",
       "   'Typ': 7}),\n",
       " ('Garage Finish', {'Fin': 3, 'NA': 0, 'RFn': 2, 'Unf': 1}),\n",
       " ('Paved Drive', {'N': 0, 'P': 1, 'Y': 2})]"
      ]
     },
     "execution_count": 78,
     "metadata": {},
     "output_type": "execute_result"
    }
   ],
   "source": [
    "print(len(ord_cols_unique))\n",
    "ord_cols_unique"
   ]
  },
  {
   "cell_type": "code",
   "execution_count": 79,
   "metadata": {},
   "outputs": [
    {
     "name": "stdout",
     "output_type": "stream",
     "text": [
      "18\n"
     ]
    },
    {
     "data": {
      "text/plain": [
       "['MS Zoning',\n",
       " 'Street',\n",
       " 'Land Contour',\n",
       " 'Lot Config',\n",
       " 'Neighborhood',\n",
       " 'Condition 1',\n",
       " 'Condition 2',\n",
       " 'Bldg Type',\n",
       " 'House Style',\n",
       " 'Roof Style',\n",
       " 'Roof Matl',\n",
       " 'Exterior 1st',\n",
       " 'Exterior 2nd',\n",
       " 'Mas Vnr Type',\n",
       " 'Foundation',\n",
       " 'Heating',\n",
       " 'Garage Type',\n",
       " 'Sale Type']"
      ]
     },
     "execution_count": 79,
     "metadata": {},
     "output_type": "execute_result"
    }
   ],
   "source": [
    "print(len(nominal_cols))\n",
    "nominal_cols"
   ]
  },
  {
   "cell_type": "code",
   "execution_count": 80,
   "metadata": {},
   "outputs": [
    {
     "name": "stdout",
     "output_type": "stream",
     "text": [
      "43\n"
     ]
    },
    {
     "data": {
      "text/plain": [
       "['Id',\n",
       " 'PID',\n",
       " 'MS SubClass',\n",
       " 'Lot Frontage',\n",
       " 'Lot Area',\n",
       " 'Alley',\n",
       " 'Overall Qual',\n",
       " 'Overall Cond',\n",
       " 'Year Built',\n",
       " 'Year Remod/Add',\n",
       " 'Mas Vnr Area',\n",
       " 'BsmtFin SF 1',\n",
       " 'BsmtFin SF 2',\n",
       " 'Bsmt Unf SF',\n",
       " 'Total Bsmt SF',\n",
       " '1st Flr SF',\n",
       " '2nd Flr SF',\n",
       " 'Low Qual Fin SF',\n",
       " 'Gr Liv Area',\n",
       " 'Bsmt Full Bath',\n",
       " 'Bsmt Half Bath',\n",
       " 'Full Bath',\n",
       " 'Half Bath',\n",
       " 'Bedroom AbvGr',\n",
       " 'Kitchen AbvGr',\n",
       " 'TotRms AbvGrd',\n",
       " 'Fireplaces',\n",
       " 'Fireplace Qu',\n",
       " 'Garage Yr Blt',\n",
       " 'Garage Cars',\n",
       " 'Garage Area',\n",
       " 'Wood Deck SF',\n",
       " 'Open Porch SF',\n",
       " 'Enclosed Porch',\n",
       " '3Ssn Porch',\n",
       " 'Screen Porch',\n",
       " 'Pool Area',\n",
       " 'Pool QC',\n",
       " 'Fence',\n",
       " 'Misc Feature',\n",
       " 'Misc Val',\n",
       " 'Mo Sold',\n",
       " 'Yr Sold']"
      ]
     },
     "execution_count": 80,
     "metadata": {},
     "output_type": "execute_result"
    }
   ],
   "source": [
    "print(len([x for x in X.columns if x not in (ord_cols_qual+ord_cols_type+[y[0] for y in ord_cols_unique]+nominal_cols)]))\n",
    "[x for x in X.columns if x not in (ord_cols_qual+ord_cols_type+[y[0] for y in ord_cols_unique]+nominal_cols)]"
   ]
  },
  {
   "cell_type": "code",
   "execution_count": 81,
   "metadata": {},
   "outputs": [
    {
     "name": "stdout",
     "output_type": "stream",
     "text": [
      "<class 'pandas.core.frame.DataFrame'>\n",
      "RangeIndex: 2051 entries, 0 to 2050\n",
      "Data columns (total 80 columns):\n",
      "Id                 2051 non-null int64\n",
      "PID                2051 non-null int64\n",
      "MS SubClass        2051 non-null int64\n",
      "MS Zoning          2051 non-null object\n",
      "Lot Frontage       1721 non-null float64\n",
      "Lot Area           2051 non-null int64\n",
      "Street             2051 non-null object\n",
      "Alley              140 non-null object\n",
      "Lot Shape          2051 non-null object\n",
      "Land Contour       2051 non-null object\n",
      "Utilities          2051 non-null object\n",
      "Lot Config         2051 non-null object\n",
      "Land Slope         2051 non-null object\n",
      "Neighborhood       2051 non-null object\n",
      "Condition 1        2051 non-null object\n",
      "Condition 2        2051 non-null object\n",
      "Bldg Type          2051 non-null object\n",
      "House Style        2051 non-null object\n",
      "Overall Qual       2051 non-null int64\n",
      "Overall Cond       2051 non-null int64\n",
      "Year Built         2051 non-null int64\n",
      "Year Remod/Add     2051 non-null int64\n",
      "Roof Style         2051 non-null object\n",
      "Roof Matl          2051 non-null object\n",
      "Exterior 1st       2051 non-null object\n",
      "Exterior 2nd       2051 non-null object\n",
      "Mas Vnr Type       2029 non-null object\n",
      "Mas Vnr Area       2029 non-null float64\n",
      "Exter Qual         2051 non-null object\n",
      "Exter Cond         2051 non-null object\n",
      "Foundation         2051 non-null object\n",
      "Bsmt Qual          1996 non-null object\n",
      "Bsmt Cond          1996 non-null object\n",
      "Bsmt Exposure      1993 non-null object\n",
      "BsmtFin Type 1     1996 non-null object\n",
      "BsmtFin SF 1       2050 non-null float64\n",
      "BsmtFin Type 2     1995 non-null object\n",
      "BsmtFin SF 2       2050 non-null float64\n",
      "Bsmt Unf SF        2050 non-null float64\n",
      "Total Bsmt SF      2050 non-null float64\n",
      "Heating            2051 non-null object\n",
      "Heating QC         2051 non-null object\n",
      "Central Air        2051 non-null object\n",
      "Electrical         2051 non-null object\n",
      "1st Flr SF         2051 non-null int64\n",
      "2nd Flr SF         2051 non-null int64\n",
      "Low Qual Fin SF    2051 non-null int64\n",
      "Gr Liv Area        2051 non-null int64\n",
      "Bsmt Full Bath     2049 non-null float64\n",
      "Bsmt Half Bath     2049 non-null float64\n",
      "Full Bath          2051 non-null int64\n",
      "Half Bath          2051 non-null int64\n",
      "Bedroom AbvGr      2051 non-null int64\n",
      "Kitchen AbvGr      2051 non-null int64\n",
      "Kitchen Qual       2051 non-null object\n",
      "TotRms AbvGrd      2051 non-null int64\n",
      "Functional         2051 non-null object\n",
      "Fireplaces         2051 non-null int64\n",
      "Fireplace Qu       1051 non-null object\n",
      "Garage Type        1938 non-null object\n",
      "Garage Yr Blt      1937 non-null float64\n",
      "Garage Finish      1937 non-null object\n",
      "Garage Cars        2050 non-null float64\n",
      "Garage Area        2050 non-null float64\n",
      "Garage Qual        1937 non-null object\n",
      "Garage Cond        1937 non-null object\n",
      "Paved Drive        2051 non-null object\n",
      "Wood Deck SF       2051 non-null int64\n",
      "Open Porch SF      2051 non-null int64\n",
      "Enclosed Porch     2051 non-null int64\n",
      "3Ssn Porch         2051 non-null int64\n",
      "Screen Porch       2051 non-null int64\n",
      "Pool Area          2051 non-null int64\n",
      "Pool QC            9 non-null object\n",
      "Fence              400 non-null object\n",
      "Misc Feature       65 non-null object\n",
      "Misc Val           2051 non-null int64\n",
      "Mo Sold            2051 non-null int64\n",
      "Yr Sold            2051 non-null int64\n",
      "Sale Type          2051 non-null object\n",
      "dtypes: float64(11), int64(27), object(42)\n",
      "memory usage: 1.3+ MB\n"
     ]
    }
   ],
   "source": [
    "X.info()"
   ]
  },
  {
   "cell_type": "markdown",
   "metadata": {},
   "source": [
    "### Cleaning and Pipeline Functions"
   ]
  },
  {
   "cell_type": "code",
   "execution_count": 82,
   "metadata": {
    "collapsed": true
   },
   "outputs": [],
   "source": [
    "from sklearn.base import BaseEstimator, TransformerMixin\n",
    "from sklearn.preprocessing import OneHotEncoder, Imputer, OneHotEncoder\n",
    "from sklearn.pipeline import Pipeline, make_pipeline, FeatureUnion"
   ]
  },
  {
   "cell_type": "markdown",
   "metadata": {},
   "source": [
    "The following classes are to be used withing the pipelines."
   ]
  },
  {
   "cell_type": "markdown",
   "metadata": {},
   "source": [
    "**MultipleFeaturesExtractor**\n",
    "\n",
    "The purpose here is that given a list of column names, it will return those columns."
   ]
  },
  {
   "cell_type": "code",
   "execution_count": 83,
   "metadata": {
    "collapsed": true
   },
   "outputs": [],
   "source": [
    "class MultipleFeaturesExtractor(BaseEstimator, TransformerMixin):\n",
    "    def __init__(self, cols):\n",
    "        self.cols = cols \n",
    "        \n",
    "    def fit(self, X, y=None):\n",
    "        return self \n",
    "    \n",
    "    def transform(self, X, y=None):\n",
    "        return X[self.cols].values "
   ]
  },
  {
   "cell_type": "markdown",
   "metadata": {},
   "source": [
    "**MultipleFeaturesMap**\n",
    "\n",
    "The purpose here is that given a list of column names, and a dict to map with, it will return those columns mapped to their new values."
   ]
  },
  {
   "cell_type": "code",
   "execution_count": 84,
   "metadata": {
    "collapsed": true
   },
   "outputs": [],
   "source": [
    "class MultipleFeaturesMap(BaseEstimator, TransformerMixin):\n",
    "    def __init__(self, cols, vals):\n",
    "        self.cols = cols\n",
    "        self.vals = vals\n",
    "        \n",
    "    def fit(self, X, y=None):\n",
    "        return self \n",
    "    \n",
    "    def transform(self, X, y=None):\n",
    "        df = X[self.cols].copy()\n",
    "        for col in self.cols:\n",
    "            df[col] = X[col].map(self.vals)\n",
    "            \n",
    "        return df.values"
   ]
  },
  {
   "cell_type": "markdown",
   "metadata": {},
   "source": [
    "**FeatureMap**\n",
    "\n",
    "The purpose here is that given a column name, and a dict to map with, it will return that columns mapped to its new values."
   ]
  },
  {
   "cell_type": "code",
   "execution_count": 85,
   "metadata": {
    "collapsed": true
   },
   "outputs": [],
   "source": [
    "class FeatureMap(BaseEstimator, TransformerMixin):\n",
    "    def __init__(self, column, vals):\n",
    "        self.column = column\n",
    "        self.vals = vals\n",
    "        \n",
    "    def fit(self, X, y=None):\n",
    "        return self \n",
    "    \n",
    "    def transform(self, X, y=None):\n",
    "        return X[self.column].map(self.vals).values.reshape(-1,1)"
   ]
  },
  {
   "cell_type": "markdown",
   "metadata": {},
   "source": [
    "**CategoricalExtractor**\n",
    "\n",
    "The purpose here is that given a column, it can create unique values for each value that can then be passed to OneHotEncoder to create dummy variables from categorical data."
   ]
  },
  {
   "cell_type": "code",
   "execution_count": 86,
   "metadata": {
    "collapsed": true
   },
   "outputs": [],
   "source": [
    "class CategoricalExtractor(BaseEstimator, TransformerMixin):\n",
    "    def __init__(self, column):\n",
    "        self.column = column\n",
    "        self.values = None\n",
    "        \n",
    "    def _create_values(self, indices):\n",
    "        return {ind: i+1 for i, ind in enumerate(indices)}\n",
    "    \n",
    "    def _apply_values(self, row_val):\n",
    "        return self.values.get(row_val, 0)\n",
    "        \n",
    "    def fit(self, X, y=None):\n",
    "        self.values = self._create_values(X[self.column].value_counts().index)\n",
    "        return self \n",
    "    \n",
    "    def transform(self, X, y=None):\n",
    "        col = X[self.column].apply(self._apply_values)\n",
    "        return col.values.reshape(-1, 1)"
   ]
  },
  {
   "cell_type": "markdown",
   "metadata": {},
   "source": [
    "**createFU**\n",
    "\n",
    "This is a function that returns a feature union.\n",
    "\n",
    "The purpose it that in the other notebooks, when working on modeling, I use this function to create a feature union that can be used in a pipeline with a model, and it will handle all the cleaning that needs to happen when it gets passed into the model."
   ]
  },
  {
   "cell_type": "code",
   "execution_count": 87,
   "metadata": {
    "collapsed": true
   },
   "outputs": [],
   "source": [
    "def createFU(cols):\n",
    "    '''\n",
    "    With the columns of the Ames data, create a Feature Union in a more automated way to clean the data.\n",
    "    Returns a FeatureUnion that should have clean and expanded data that can then be used in a pipeline with a model\n",
    "    '''\n",
    "    #remove columns I don't want to deal with, deciding because too many null during EDA\n",
    "    cols = [col for col in cols if col not in ['Id','PID','Alley','Misc Feature','Fireplace Qu','Pool QC','Fence']]\n",
    "    #create lists of cols gotten from EDA\n",
    "    ord_cols_qual = ['Exter Qual','Exter Cond','Bsmt Qual','Bsmt Cond',\n",
    "                 'Heating QC','Kitchen Qual','Garage Qual','Garage Cond']\n",
    "    ord_cols_type = ['BsmtFin Type 1', 'BsmtFin Type 2']\n",
    "    ord_cols_unique = [('Lot Shape', {'IR1': 2, 'IR2': 1, 'IR3': 0, 'Reg': 3}),\n",
    "                         ('Utilities', {'AllPub': 3, 'ELO': 0, 'NoSeWa': 1, 'NoSewr': 2}),\n",
    "                         ('Land Slope', {'Gtl': 2, 'Mod': 1, 'Sev': 0}),\n",
    "                         ('Bsmt Exposure', {'Av': 3, 'Gd': 4, 'Mn': 2, 'NA': 0, 'No': 1}),\n",
    "                         ('Central Air', {'N': 0, 'Y': 1}),\n",
    "                         ('Electrical', {'FuseA': 3, 'FuseF': 2, 'FuseP': 1, 'Mix': 0, 'SBrkr': 4}),\n",
    "                         ('Functional',\n",
    "                          {'Maj1': 3,'Maj2': 2,'Min1': 6,'Min2': 5,'Mod': 4,'Sal': 0,'Sev': 1,'Typ': 7}),\n",
    "                         ('Garage Finish', {'Fin': 3, 'NA': 0, 'RFn': 2, 'Unf': 1}),\n",
    "                         ('Paved Drive', {'N': 0, 'P': 1, 'Y': 2})]\n",
    "    nominal_cols = ['MS Zoning','Street','Land Contour','Lot Config','Neighborhood',\n",
    "                    'Condition 1','Condition 2','Bldg Type','House Style','Roof Style',\n",
    "                    'Roof Matl','Exterior 1st','Exterior 2nd','Mas Vnr Type','Foundation',\n",
    "                    'Heating','Garage Type','Sale Type']\n",
    "    \n",
    "    #get all the columns that are not objects/not doing anything special with\n",
    "    obj_cols = (ord_cols_qual+ord_cols_type+[y[0] for y in ord_cols_unique]+nominal_cols)\n",
    "    num_cols = [col for col in cols if col not in obj_cols]\n",
    "    \n",
    "    #create list to hold pipelines\n",
    "    pipes = []\n",
    "    \n",
    "    #create pipe for qualities\n",
    "    qual_pipe = make_pipeline(\n",
    "                    MultipleFeaturesMap(ord_cols_qual, \n",
    "                                       {'NA':0,'Po':1,'Fa':2,'TA':3,'Gd':4,'Ex':5}),\n",
    "                    Imputer()\n",
    "                    )\n",
    "    pipes.append(('qual_pipe', qual_pipe))\n",
    "    \n",
    "    #create pipe for type\n",
    "    type_pipe = make_pipeline(\n",
    "                    MultipleFeaturesMap(ord_cols_type, \n",
    "                                       {'NA':0,'Unf':1,'LwQ':2,'Rec':3,'BLQ':4,'ALQ':5,'GLQ':6}),\n",
    "                    Imputer()\n",
    "                    )\n",
    "    pipes.append(('type_pipe', type_pipe))\n",
    "    \n",
    "    #just get all the data from numerical columns\n",
    "    num_pipe = make_pipeline(\n",
    "                    MultipleFeaturesExtractor(num_cols),\n",
    "                    Imputer()\n",
    "                    )\n",
    "    pipes.append(('num_pipe', num_pipe))\n",
    "    \n",
    "    #iterate over unique columns adding new pipelines for each    \n",
    "    for col, vals in ord_cols_unique:\n",
    "        tmp_pipe = make_pipeline(\n",
    "                        FeatureMap(col, vals),\n",
    "                        Imputer()\n",
    "                        )\n",
    "        pipes.append(('{}_pipe'.format(col), tmp_pipe))\n",
    "        \n",
    "    #turn nominal columns into dummies and add pipelines for each\n",
    "    for col in nominal_cols:\n",
    "        tmp_pipe = make_pipeline(\n",
    "                        CategoricalExtractor(col),\n",
    "                        Imputer(strategy='median'),\n",
    "                        OneHotEncoder(sparse=False, handle_unknown='ignore')\n",
    "                        )\n",
    "        pipes.append(('{}_pipe'.format(col), tmp_pipe))\n",
    "    \n",
    "    return FeatureUnion(pipes)"
   ]
  },
  {
   "cell_type": "markdown",
   "metadata": {},
   "source": [
    "### Sanity Check 2\n",
    "\n",
    "This is a testing ground, for me to double check that my function allows the use of data in a pipeline as expected, before I move on to the other notebooks and actually use it.\n",
    "\n",
    "It does!"
   ]
  },
  {
   "cell_type": "code",
   "execution_count": 88,
   "metadata": {
    "collapsed": true
   },
   "outputs": [],
   "source": [
    "df2 = pd.read_csv('datasets/train.csv')\n",
    "\n",
    "df3 = pd.read_csv('datasets/test.csv')"
   ]
  },
  {
   "cell_type": "code",
   "execution_count": 89,
   "metadata": {
    "collapsed": true
   },
   "outputs": [],
   "source": [
    "fu = createFU(df2.drop(['Sale Condition', 'SalePrice'], axis=1).columns)"
   ]
  },
  {
   "cell_type": "code",
   "execution_count": 90,
   "metadata": {
    "collapsed": true
   },
   "outputs": [],
   "source": [
    "from sklearn.linear_model import LinearRegression"
   ]
  },
  {
   "cell_type": "code",
   "execution_count": 92,
   "metadata": {
    "collapsed": true
   },
   "outputs": [],
   "source": [
    "q = make_pipeline(\n",
    "    fu,\n",
    "    LinearRegression()\n",
    ")"
   ]
  },
  {
   "cell_type": "code",
   "execution_count": 93,
   "metadata": {
    "collapsed": true
   },
   "outputs": [],
   "source": [
    "from sklearn.model_selection import cross_val_score"
   ]
  },
  {
   "cell_type": "code",
   "execution_count": 94,
   "metadata": {},
   "outputs": [
    {
     "data": {
      "text/plain": [
       "Pipeline(memory=None,\n",
       "     steps=[('featureunion', FeatureUnion(n_jobs=1,\n",
       "       transformer_list=[('qual_pipe', Pipeline(memory=None,\n",
       "     steps=[('multiplefeaturesmap', MultipleFeaturesMap(cols=['Exter Qual', 'Exter Cond', 'Bsmt Qual', 'Bsmt Cond', 'Heating QC', 'Kitchen Qual', 'Garage Qual', 'Garage Cond'],\n",
       "          vals=... ('linearregression', LinearRegression(copy_X=True, fit_intercept=True, n_jobs=1, normalize=False))])"
      ]
     },
     "execution_count": 94,
     "metadata": {},
     "output_type": "execute_result"
    }
   ],
   "source": [
    "q.fit(df2.drop(['Sale Condition', 'SalePrice'], axis=1), df2['SalePrice'])"
   ]
  },
  {
   "cell_type": "code",
   "execution_count": 95,
   "metadata": {},
   "outputs": [
    {
     "data": {
      "text/plain": [
       "0.9197086707852562"
      ]
     },
     "execution_count": 95,
     "metadata": {},
     "output_type": "execute_result"
    }
   ],
   "source": [
    "q.score(df2.drop(['Sale Condition', 'SalePrice'], axis=1), df2['SalePrice'])"
   ]
  },
  {
   "cell_type": "code",
   "execution_count": 96,
   "metadata": {},
   "outputs": [
    {
     "data": {
      "text/plain": [
       "[0.84519999999999995,\n",
       " 0.91120000000000001,\n",
       " 0.79749999999999999,\n",
       " 0.90069999999999995,\n",
       " -888092.97290000005]"
      ]
     },
     "execution_count": 96,
     "metadata": {},
     "output_type": "execute_result"
    }
   ],
   "source": [
    "[round(x, 4) for x in cross_val_score(q, df2.drop(['Sale Condition', 'SalePrice'], axis=1), df2['SalePrice'], cv=5)]"
   ]
  },
  {
   "cell_type": "code",
   "execution_count": 97,
   "metadata": {},
   "outputs": [
    {
     "data": {
      "text/plain": [
       "array([  1.47061702e+05,   1.50213702e+05,   2.23061702e+05,\n",
       "         1.00589702e+05,   1.81637702e+05,   7.97897016e+04,\n",
       "         1.04973702e+05,   1.62621702e+05,   1.73969702e+05,\n",
       "         1.68749702e+05,   1.36461702e+05,   1.20257702e+05,\n",
       "         1.34669702e+05,   2.69469702e+05,   1.20501702e+05,\n",
       "         1.14213702e+05,   1.75325702e+05,   1.22509702e+05,\n",
       "         1.96045702e+05,   1.82405702e+05,   1.55653702e+05,\n",
       "         1.30337702e+05,   1.73005702e+05,  -9.88871434e+08,\n",
       "         1.83793702e+05,   1.21957702e+05,   1.07585702e+05,\n",
       "         1.04537702e+05,   1.61509702e+05,   3.60337016e+04,\n",
       "         9.92097016e+04,   1.03093702e+05,   2.04925702e+05,\n",
       "         1.55133702e+05,   2.13225702e+05,   1.83345702e+05,\n",
       "         1.12221702e+05,   7.97577016e+04,   1.37281702e+05,\n",
       "         1.99601702e+05,   1.71053702e+05,   2.01485702e+05,\n",
       "         1.53749702e+05,   1.40765702e+05,   2.06037702e+05,\n",
       "         8.82417016e+04,   2.16037702e+05,   1.25625702e+05,\n",
       "         1.35589702e+05,   1.18809702e+05,   1.00237702e+05,\n",
       "         2.09501702e+05,   2.37033702e+05,   1.28201702e+05,\n",
       "         1.02333702e+05,   1.56813702e+05,   1.70973702e+05,\n",
       "         1.41485702e+05,   1.47173702e+05,   2.29637702e+05,\n",
       "         3.30533702e+05,   1.41525702e+05,   5.96591869e+09,\n",
       "         1.65773702e+05,   1.78949702e+05,   3.28765702e+05,\n",
       "         8.87457016e+04,   2.22909702e+05,   9.37377016e+04,\n",
       "         1.41457702e+05,   8.88177016e+04,   3.66437702e+05,\n",
       "         2.22893702e+05,   1.64713702e+05,   1.35681702e+05,\n",
       "         1.92749702e+05,   5.68077702e+05,   1.50545702e+05,\n",
       "         1.23921702e+05,   9.24017016e+04,   3.73973702e+05,\n",
       "         1.89757702e+05,   1.34325702e+05,   1.20137702e+05,\n",
       "         9.71577016e+04,   2.07317702e+05,   3.44645702e+05,\n",
       "         1.26365702e+05,   1.71829702e+05,   2.42901702e+05,\n",
       "         1.24777702e+05,   1.34249702e+05,   9.09457016e+04,\n",
       "         1.14445702e+05,   2.32921702e+05,   1.32997702e+05,\n",
       "         1.29421702e+05,   2.15053702e+05,   2.33325702e+05,\n",
       "         1.94309702e+05,   2.10837702e+05,   3.13621702e+05,\n",
       "         1.47465702e+05,   1.21301702e+05,   4.82733702e+05,\n",
       "         1.51741702e+05,   1.18673702e+05,   1.67845702e+05,\n",
       "         2.01653702e+05,   1.68877702e+05,   1.51405702e+05,\n",
       "         1.80653702e+05,   2.17405702e+05,   1.15677702e+05,\n",
       "         1.44993702e+05,   2.37253702e+05,   4.77405702e+05,\n",
       "         1.36101702e+05,   1.11965702e+05,   3.06997702e+05,\n",
       "         1.85229702e+05,   3.82005702e+05,   3.24653702e+05,\n",
       "         3.18805702e+05,   1.64085702e+05,   1.32725702e+05,\n",
       "         3.68357702e+05,   1.29057702e+05,   1.33729702e+05,\n",
       "         1.09989702e+05,   2.64549702e+05,   1.29933702e+05,\n",
       "         2.02557702e+05,   1.43917702e+05,   1.54413702e+05,\n",
       "         1.60181702e+05,   2.38773702e+05,   2.09877702e+05,\n",
       "         1.58589702e+05,   2.33117702e+05,   1.30501702e+05,\n",
       "         1.86413702e+05,   1.50269702e+05,   1.37825702e+05,\n",
       "         1.11029702e+05,   1.17269702e+05,   1.20229702e+05,\n",
       "         1.48177702e+05,   1.37357702e+05,   4.91557016e+04,\n",
       "         2.28837702e+05,   1.93037702e+05,   1.61157702e+05,\n",
       "         1.10713702e+05,   1.12869702e+05,   1.13493702e+05,\n",
       "         1.35325702e+05,   7.05217016e+04,   1.45865702e+05,\n",
       "         2.44805702e+05,   2.59517702e+05,   2.19157702e+05,\n",
       "         1.19569702e+05,   1.24109702e+05,   5.07741702e+05,\n",
       "         2.56817702e+05,   2.39021702e+05,   1.56029702e+05,\n",
       "         1.63057702e+05,   2.76125702e+05,   1.97997702e+05,\n",
       "         4.94909702e+05,   1.38953702e+05,   1.75773702e+05,\n",
       "         1.44617702e+05,   1.95269702e+05,   1.82333702e+05,\n",
       "         8.23177016e+04,   1.50021702e+05,   7.82377016e+04,\n",
       "         1.53045702e+05,   1.15125702e+05,   1.84341702e+05,\n",
       "         2.53341702e+05,   1.94089702e+05,   1.43613702e+05,\n",
       "         1.14029702e+05,   1.98045702e+05,   2.12837702e+05,\n",
       "         1.22309702e+05,   5.48217016e+04,   1.82749702e+05,\n",
       "         1.28365702e+05,   1.13829702e+05,   9.55977016e+04,\n",
       "         1.82285702e+05,   1.73765702e+05,   2.98365702e+05,\n",
       "         1.42197702e+05,   1.25557702e+05,   1.09109702e+05,\n",
       "         3.22029702e+05,   1.70157702e+05,   1.16305702e+05,\n",
       "         1.76173702e+05,   1.13325702e+05,   1.22241702e+05,\n",
       "         1.36581702e+05,   1.27473702e+05,   2.20065702e+05,\n",
       "         2.38645702e+05,   1.92685702e+05,   1.98077702e+05,\n",
       "         1.16977702e+05,   3.88549702e+05,   2.41197702e+05,\n",
       "         1.91733702e+05,   2.42349702e+05,   1.46221702e+05,\n",
       "         1.26881702e+05,   1.53141702e+05,   1.71309702e+05,\n",
       "         1.25757702e+05,   1.66701702e+05,   1.94913702e+05,\n",
       "         1.27837702e+05,   1.12145702e+05,   2.45813702e+05,\n",
       "         2.25357702e+05,   1.78981702e+05,   2.89413702e+05,\n",
       "         2.04312621e+09,   8.66137016e+04,   1.35341702e+05,\n",
       "         9.41377016e+04,   2.75293702e+05,   1.66133702e+05,\n",
       "         8.75377016e+04,   4.31117702e+05,   3.45149702e+05,\n",
       "         1.89381702e+05,   2.55613702e+05,   1.46113702e+05,\n",
       "         3.11701702e+05,   2.44629702e+05,   2.87949702e+05,\n",
       "         2.57381702e+05,   1.14569702e+05,   1.27429702e+05,\n",
       "         1.64813702e+05,   2.96629702e+05,   2.98237702e+05,\n",
       "         1.39805702e+05,   2.31421702e+05,   2.37109702e+05,\n",
       "         1.95421702e+05,   1.02053702e+05,   7.89817016e+04,\n",
       "         4.20733702e+05,   2.19605702e+05,   2.54781702e+05,\n",
       "         1.86625702e+05,   1.40957702e+05,   1.09361702e+05,\n",
       "         1.73069702e+05,   2.65733702e+05,   1.47349702e+05,\n",
       "         1.46781702e+05,   2.01997702e+05,   2.08509702e+05,\n",
       "         1.26125702e+05,   1.97533702e+05,   2.14077702e+05,\n",
       "         1.57753702e+05,   3.38189702e+05,   1.15269702e+05,\n",
       "         1.52921702e+05,   1.30081702e+05,   1.97381702e+05,\n",
       "         1.04381702e+05,   1.12453702e+05,   2.36757702e+05,\n",
       "         1.43625702e+05,   1.45041702e+05,   8.77097016e+04,\n",
       "         1.28861702e+05,   2.56045702e+05,   2.27381702e+05,\n",
       "         9.83737016e+04,   8.36257016e+04,   1.38841702e+05,\n",
       "         9.20577016e+04,   1.08333702e+05,   5.25977016e+04,\n",
       "         1.20733702e+05,   1.88429702e+05,   1.36881702e+05,\n",
       "         2.06249702e+05,   2.68773702e+05,   2.49693702e+05,\n",
       "         1.46521702e+05,   2.09597702e+05,   3.16557702e+05,\n",
       "         1.28197702e+05,   1.20413702e+05,   6.50497016e+04,\n",
       "         9.76777016e+04,   2.96085702e+05,   2.08889702e+05,\n",
       "         1.38381702e+05,   1.34321702e+05,   2.44517702e+05,\n",
       "         2.38485702e+05,   2.39261702e+05,   2.75717702e+05,\n",
       "         1.20301702e+05,   3.73629702e+05,   3.90949702e+05,\n",
       "         2.77885702e+05,   2.31469702e+05,   1.03353702e+05,\n",
       "         9.36097016e+04,   1.30789702e+05,   1.69525702e+05,\n",
       "         2.79453702e+05,   1.36717702e+05,   1.30377702e+05,\n",
       "         1.65069702e+05,   1.79729702e+05,   2.23941702e+05,\n",
       "         1.31773702e+05,   1.55933702e+05,   1.70269702e+05,\n",
       "        -9.88864354e+08,   2.02293702e+05,   9.08637016e+04,\n",
       "         1.58933702e+05,   9.45317016e+04,   1.15301702e+05,\n",
       "         1.17557702e+05,   1.71825702e+05,   2.10565702e+05,\n",
       "         1.11733702e+05,   1.26737702e+05,   1.80765702e+05,\n",
       "         2.88373702e+05,   2.43285702e+05,   1.73249702e+05,\n",
       "         9.00217016e+04,   2.07925702e+05,   1.56045702e+05,\n",
       "         1.53861702e+05,   1.59849702e+05,   1.15001702e+05,\n",
       "         2.96565702e+05,   1.38901702e+05,   2.41677702e+05,\n",
       "         1.52021702e+05,   2.10517702e+05,   2.57357702e+05,\n",
       "         1.17517702e+05,   1.35661702e+05,   1.43005702e+05,\n",
       "         6.14257016e+04,   1.37577702e+05,   1.99925702e+05,\n",
       "         2.79421702e+05,   2.28725702e+05,   2.30821702e+05,\n",
       "         2.11373702e+05,   1.08277702e+05,   1.99989702e+05,\n",
       "         1.12593702e+05,   1.51269702e+05,   3.79261702e+05,\n",
       "         1.25969702e+05,   2.89277702e+05,   1.79685702e+05,\n",
       "         2.79845702e+05,   2.18077702e+05,   1.16177702e+05,\n",
       "         1.59637702e+05,   1.27069702e+05,   3.44461702e+05,\n",
       "         3.39325702e+05,   2.16341702e+05,   1.99357702e+05,\n",
       "         1.54957702e+05,   1.96613702e+05,   1.52237702e+05,\n",
       "         1.15897702e+05,   9.54377016e+04,   3.29205702e+05,\n",
       "         1.61877702e+05,   1.10677702e+05,   1.75437702e+05,\n",
       "         4.69437016e+04,   1.87853702e+05,   1.95517702e+05,\n",
       "         1.46397702e+05,   7.90997016e+04,   2.28789702e+05,\n",
       "         2.27173702e+05,   1.23965702e+05,   2.94209702e+05,\n",
       "         1.39493702e+05,   1.33417702e+05,   1.38909702e+05,\n",
       "         2.30013702e+05,   3.00285702e+05,   1.29977702e+05,\n",
       "         1.02397702e+05,   1.51373702e+05,   2.44669702e+05,\n",
       "         1.07641702e+05,   2.55341702e+05,   3.36845702e+05,\n",
       "         1.21493702e+05,   2.57829702e+05,   1.10465702e+05,\n",
       "         1.35021702e+05,   2.52421702e+05,   1.10205702e+05,\n",
       "         2.39229702e+05,   1.07085702e+05,   2.14849702e+05,\n",
       "         3.86885702e+05,   2.01517702e+05,   2.10061702e+05,\n",
       "         1.43737702e+05,   2.78989702e+05,   1.01205702e+05,\n",
       "         1.47373702e+05,   1.24841702e+05,   1.95093702e+05,\n",
       "         9.16497016e+04,   3.34253702e+05,   2.18277702e+05,\n",
       "         1.65117702e+05,   1.37985702e+05,   1.24909702e+05,\n",
       "         2.11749702e+05,   1.37245702e+05,   1.12765702e+05,\n",
       "         1.79393702e+05,   1.39597702e+05,   2.24453702e+05,\n",
       "         2.43457016e+04,   9.84697016e+04,   3.04941702e+05,\n",
       "         1.42661702e+05,   2.36549702e+05,   2.86437702e+05,\n",
       "         2.41757702e+05,   1.55269702e+05,   2.13945702e+05,\n",
       "         2.34933702e+05,   2.29389702e+05,   9.99857016e+04,\n",
       "         2.35061702e+05,   1.24953702e+05,   1.44709702e+05,\n",
       "         1.23949702e+05,   1.51813702e+05,   5.51533702e+05,\n",
       "         1.25993702e+05,   2.19437702e+05,   2.55629702e+05,\n",
       "         2.22933702e+05,   9.75737016e+04,   1.31057702e+05,\n",
       "         1.52509702e+05,   2.37297702e+05,   1.73957702e+05,\n",
       "         1.05365702e+05,   2.34757702e+05,   2.25649702e+05,\n",
       "         1.08797702e+05,   1.08357702e+05,   1.06613702e+05,\n",
       "         1.85193702e+05,   8.63097016e+04,   2.14925702e+05,\n",
       "         1.09025702e+05,   1.79933702e+05,   3.17077702e+05,\n",
       "         1.46301702e+05,   1.49741702e+05,   1.87741702e+05,\n",
       "         1.96189702e+05,   1.50117702e+05,   1.40533702e+05,\n",
       "         2.16825702e+05,   1.78301702e+05,   2.34877702e+05,\n",
       "         3.78421702e+05,   1.73125702e+05,   1.16541702e+05,\n",
       "         1.26629702e+05,   1.61941702e+05,   9.98137016e+04,\n",
       "         1.81089702e+05,   1.98701702e+05,   1.94229702e+05,\n",
       "         1.39597702e+05,   2.60869702e+05,   1.38985702e+05,\n",
       "         2.66269702e+05,   9.12777016e+04,   1.13629702e+05,\n",
       "         2.56749702e+05,   1.14221702e+05,   1.28637702e+05,\n",
       "         1.26557702e+05,   1.41853702e+05,   3.87377016e+04,\n",
       "         1.97797702e+05,   1.63853702e+05,   2.14701702e+05,\n",
       "         2.63213702e+05,   2.76325702e+05,   1.10737702e+05,\n",
       "         1.34633702e+05,   1.45829702e+05,   1.23133702e+05,\n",
       "         2.31453702e+05,   4.22365702e+05,   1.84261702e+05,\n",
       "         1.31977702e+05,   1.31981702e+05,   4.21577016e+04,\n",
       "         1.17973702e+05,   2.07557702e+05,   1.42157702e+05,\n",
       "         1.85725702e+05,   1.72957702e+05,   1.38953702e+05,\n",
       "         6.70937016e+04,   2.43061702e+05,   1.46109702e+05,\n",
       "         1.60409702e+05,   1.40181702e+05,   1.08341702e+05,\n",
       "         7.04417016e+04,   1.19941702e+05,   2.31845702e+05,\n",
       "         3.45885702e+05,   2.50477702e+05,   1.20629702e+05,\n",
       "         8.91457016e+04,   3.24021702e+05,   1.34609702e+05,\n",
       "         2.99061702e+05,   8.39477016e+04,   2.08909702e+05,\n",
       "         2.31273702e+05,   8.90137016e+04,   9.49137016e+04,\n",
       "         1.49913702e+05,   1.06277702e+05,   1.66861702e+05,\n",
       "         1.09713702e+05,   1.58289702e+05,   1.78629702e+05,\n",
       "         1.51069702e+05,   1.37445702e+05,   1.46685702e+05,\n",
       "         1.26429702e+05,   2.19221702e+05,   1.21095702e+05,\n",
       "         1.47897702e+05,   1.65037702e+05,   1.29121702e+05,\n",
       "         1.03729702e+05,   1.48745702e+05,   1.77541702e+05,\n",
       "         1.23845702e+05,   1.66601702e+05,   1.33517702e+05,\n",
       "         1.79701702e+05,   1.06625702e+05,   1.31757702e+05,\n",
       "         1.53725702e+05,   2.96941702e+05,   9.82297016e+04,\n",
       "         1.28885702e+05,   1.66453702e+05,   1.47325702e+05,\n",
       "         1.18505702e+05,   2.93301702e+05,   2.34629702e+05,\n",
       "         1.17489702e+05,   1.20441702e+05,   1.32077702e+05,\n",
       "         1.39929702e+05,   3.26845702e+05,   2.30837702e+05,\n",
       "         1.43569702e+05,   1.46369702e+05,   9.43017016e+04,\n",
       "         3.73685702e+05,   1.24349702e+05,   2.02741702e+05,\n",
       "         1.20825702e+05,   1.74013702e+05,   2.34725702e+05,\n",
       "         7.14397016e+04,   1.25989702e+05,   1.14841702e+05,\n",
       "         1.63585702e+05,   1.36645702e+05,   1.24165702e+05,\n",
       "         3.61405702e+05,   2.22837702e+05,   1.60241702e+05,\n",
       "         1.25773702e+05,   3.62770161e+03,   2.06493702e+05,\n",
       "         2.71109702e+05,   5.23377016e+04,   1.69465702e+05,\n",
       "         2.12593702e+05,   1.04269702e+05,   1.43645702e+05,\n",
       "         9.70417016e+04,   1.37661702e+05,   1.50789702e+05,\n",
       "         1.91573702e+05,   9.89257016e+04,   3.51757702e+05,\n",
       "         1.51277702e+05,   1.91037702e+05,   1.82685702e+05,\n",
       "         1.29465702e+05,   6.68417016e+04,   1.52701702e+05,\n",
       "         2.00853702e+05,   1.17109702e+05,   1.42637702e+05,\n",
       "         1.45885702e+05,   1.56477702e+05,   3.09413702e+05,\n",
       "         1.32745702e+05,   2.54589702e+05,   2.55041702e+05,\n",
       "         1.60549702e+05,   6.94157016e+04,   2.31533702e+05,\n",
       "         1.71709702e+05,   1.11413702e+05,   1.81237702e+05,\n",
       "         1.64133702e+05,   1.25469702e+05,   1.15541702e+05,\n",
       "         1.61457702e+05,  -1.38948249e+09,   1.58333702e+05,\n",
       "         2.06277702e+05,   1.45725702e+05,   2.80133702e+05,\n",
       "         1.76405702e+05,   1.30921702e+05,   1.73069702e+05,\n",
       "         1.76613702e+05,   2.25837702e+05,   3.96637702e+05,\n",
       "         2.33405702e+05,   2.08525702e+05,   1.88205702e+05,\n",
       "         1.88701702e+05,   2.89133702e+05,   2.27425702e+05,\n",
       "         2.43085702e+05,   2.56621702e+05,   1.42381702e+05,\n",
       "         1.14333702e+05,   1.33581702e+05,   1.33221702e+05,\n",
       "         8.30657016e+04,   1.41021702e+05,   1.18581702e+05,\n",
       "         3.46997702e+05,   2.09037702e+05,   1.71601702e+05,\n",
       "         2.23001702e+05,   1.97189702e+05,   1.54757702e+05,\n",
       "         2.08101702e+05,   4.11565702e+05,   1.57817702e+05,\n",
       "         1.77885702e+05,   7.11317016e+04,   1.26101702e+05,\n",
       "         3.05037702e+05,   1.15957702e+05,   2.09037702e+05,\n",
       "         1.59021702e+05,   2.29237702e+05,   3.61037702e+05,\n",
       "         1.17141702e+05,   2.42997702e+05,   1.38893702e+05,\n",
       "         1.59373702e+05,   1.52453702e+05,   1.31021702e+05,\n",
       "         3.10669702e+05,   2.71741702e+05,   1.52921702e+05,\n",
       "         1.35913702e+05,   8.82977016e+04,   3.19989702e+05,\n",
       "         2.27725702e+05,   9.40537016e+04,   1.39653702e+05,\n",
       "         1.25053702e+05,   1.23409702e+05,   2.18117702e+05,\n",
       "         3.03549702e+05,   2.04581702e+05,   2.00421702e+05,\n",
       "         2.08069702e+05,   2.17005702e+05,   2.67613702e+05,\n",
       "         1.43557702e+05,   1.25589702e+05,   2.97261702e+05,\n",
       "         1.96757702e+05,   1.77685702e+05,   1.34521702e+05,\n",
       "         2.78005702e+05,   8.35977016e+04,   2.57533702e+05,\n",
       "         1.85437702e+05,   2.43861702e+05,   1.47165702e+05,\n",
       "         2.02517702e+05,   1.73077702e+05,   1.55005702e+05,\n",
       "         1.47749702e+05,   1.48369702e+05,   1.37317702e+05,\n",
       "         2.21013702e+05,   1.91029702e+05,   1.56549702e+05,\n",
       "         1.03437702e+05,   1.83913702e+05,   1.62997702e+05,\n",
       "         1.84781702e+05,   2.27381702e+05,   1.11709702e+05,\n",
       "         3.27141702e+05,   2.61897702e+05,   1.58365702e+05,\n",
       "         1.38005702e+05,   1.64157702e+05,   1.61597702e+05,\n",
       "         1.13165702e+05,   4.41901702e+05,   4.74097016e+04,\n",
       "         1.56293702e+05,   2.29441702e+05,   1.46005702e+05,\n",
       "         2.19885702e+05,   1.32801702e+05,   2.65869702e+05,\n",
       "         1.70653702e+05,   3.11597702e+05,   1.60557702e+05,\n",
       "         1.97821702e+05,   3.03765702e+05,   1.44489702e+05,\n",
       "         2.75229702e+05,   1.73561702e+05,   1.12141702e+05,\n",
       "         2.34669702e+05,   1.35557702e+05,   1.34485702e+05,\n",
       "         2.34469702e+05,  -4.34742984e+04,   1.36093702e+05,\n",
       "         1.42213702e+05,   1.81805702e+05,   4.08357702e+05,\n",
       "         8.36137016e+04,   1.27761702e+05,   1.26285702e+05,\n",
       "         1.77717702e+05,   2.58557702e+05,   1.17297702e+05,\n",
       "         2.87405702e+05,   1.89125702e+05,   1.83365702e+05,\n",
       "         2.43477702e+05,   1.83053702e+05,   2.95797702e+05,\n",
       "         1.64893702e+05,   2.00493702e+05,   1.49585702e+05,\n",
       "         2.59653702e+05,   2.46773702e+05,   2.26637702e+05,\n",
       "         1.41541702e+05,   1.18561702e+05,   1.60393702e+05,\n",
       "         6.81017016e+04,   2.37261702e+05,   1.21629702e+05,\n",
       "         1.28917702e+05,   1.75505702e+05,   1.44029702e+05,\n",
       "         1.09465702e+05,   1.45593702e+05,   3.20197702e+05,\n",
       "         1.58629702e+05,   1.88869702e+05,   2.45909702e+05,\n",
       "         2.20757702e+05,   2.49165702e+05,   3.43257016e+04,\n",
       "         1.15801702e+05,   1.61289702e+05,   1.71205702e+05,\n",
       "         1.09865702e+05,   3.53661702e+05,   1.30013702e+05,\n",
       "         1.68157702e+05,   2.18933702e+05,   3.60557702e+05,\n",
       "         1.41629702e+05,   1.79021702e+05,   1.49453702e+05,\n",
       "         1.53233702e+05,   1.52497702e+05,   2.75605702e+05,\n",
       "         2.18093702e+05,   1.65357702e+05,   1.06577702e+05,\n",
       "        -6.41209224e+09,   1.50681702e+05,   1.36289702e+05,\n",
       "         1.22465702e+05,   1.97941702e+05,   1.96333702e+05,\n",
       "         2.35917702e+05,   1.21733702e+05,   1.69321702e+05,\n",
       "         1.77573702e+05,   2.54245702e+05,   2.49077702e+05,\n",
       "         9.86297016e+04,   1.56669702e+05,   1.50541702e+05,\n",
       "         1.77445702e+05,   1.26561702e+05,   1.42869702e+05,\n",
       "         1.76013702e+05,   9.81657016e+04,   2.46177702e+05,\n",
       "         9.08457016e+04,   1.88937702e+05,   1.16993702e+05,\n",
       "         3.49293702e+05,   1.29677702e+05,   1.30885702e+05,\n",
       "         1.73501702e+05,   1.58781702e+05,   1.90165702e+05,\n",
       "         1.84633702e+05,   2.53269702e+05,   1.67293702e+05,\n",
       "         1.70885702e+05,   2.55877702e+05,   3.52997702e+05,\n",
       "         2.08365702e+05,   1.90629702e+05,   2.17573702e+05,\n",
       "         1.23221702e+05,   1.05881702e+05,   1.22017702e+05])"
      ]
     },
     "execution_count": 97,
     "metadata": {},
     "output_type": "execute_result"
    }
   ],
   "source": [
    "q.predict(df3)"
   ]
  },
  {
   "cell_type": "code",
   "execution_count": 98,
   "metadata": {
    "collapsed": true
   },
   "outputs": [],
   "source": [
    "sub = pd.DataFrame()\n",
    "sub['Id'] = df3.Id\n",
    "sub['SalePrice'] = q.predict(df3)"
   ]
  },
  {
   "cell_type": "code",
   "execution_count": 99,
   "metadata": {},
   "outputs": [
    {
     "data": {
      "text/plain": [
       "(879, 2)"
      ]
     },
     "execution_count": 99,
     "metadata": {},
     "output_type": "execute_result"
    }
   ],
   "source": [
    "sub.shape"
   ]
  },
  {
   "cell_type": "code",
   "execution_count": null,
   "metadata": {
    "collapsed": true
   },
   "outputs": [],
   "source": []
  }
 ],
 "metadata": {
  "kernelspec": {
   "display_name": "Python 3",
   "language": "python",
   "name": "python3"
  },
  "language_info": {
   "codemirror_mode": {
    "name": "ipython",
    "version": 3
   },
   "file_extension": ".py",
   "mimetype": "text/x-python",
   "name": "python",
   "nbconvert_exporter": "python",
   "pygments_lexer": "ipython3",
   "version": "3.6.3"
  }
 },
 "nbformat": 4,
 "nbformat_minor": 2
}
